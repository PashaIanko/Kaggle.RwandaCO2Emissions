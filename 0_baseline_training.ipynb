{
  "nbformat": 4,
  "nbformat_minor": 0,
  "metadata": {
    "colab": {
      "provenance": [],
      "authorship_tag": "ABX9TyM0hc8UA1bvr3xYrEacOFK/",
      "include_colab_link": true
    },
    "kernelspec": {
      "name": "python3",
      "display_name": "Python 3"
    },
    "language_info": {
      "name": "python"
    }
  },
  "cells": [
    {
      "cell_type": "markdown",
      "metadata": {
        "id": "view-in-github",
        "colab_type": "text"
      },
      "source": [
        "<a href=\"https://colab.research.google.com/github/PashaIanko/Kaggle.RwandaCO2Emissions/blob/main/0_baseline_training.ipynb\" target=\"_parent\"><img src=\"https://colab.research.google.com/assets/colab-badge.svg\" alt=\"Open In Colab\"/></a>"
      ]
    },
    {
      "cell_type": "markdown",
      "source": [
        "# Imports"
      ],
      "metadata": {
        "id": "coDAA5UUsX3J"
      }
    },
    {
      "cell_type": "code",
      "execution_count": 10,
      "metadata": {
        "id": "FmSfB4iSr8DV"
      },
      "outputs": [],
      "source": [
        "from google.colab import drive\n",
        "\n",
        "# Datasets\n",
        "import pandas as pd"
      ]
    },
    {
      "cell_type": "markdown",
      "source": [
        "# Import module files"
      ],
      "metadata": {
        "id": "blhdT3ZbsaDv"
      }
    },
    {
      "cell_type": "code",
      "source": [
        "%%capture\n",
        "\n",
        "def download(url_dict):\n",
        "    for file, url in url_dict.items():\n",
        "        !wget -O {file} {url} {file}\n",
        "\n",
        "\n",
        "GIT_URL = 'https://raw.githubusercontent.com/PashaIanko/Sklearn-Utils/main/'\n",
        "download(\n",
        "    {\n",
        "        file: GIT_URL + file\n",
        "        for file in [\n",
        "            'path_manager.py'\n",
        "        ]\n",
        "    }\n",
        ")"
      ],
      "metadata": {
        "id": "HpqJdjTNsWIy"
      },
      "execution_count": 3,
      "outputs": []
    },
    {
      "cell_type": "code",
      "source": [
        "import path_manager\n",
        "import importlib\n",
        "\n",
        "def reload_all(modules_list):\n",
        "    for m in modules_list:\n",
        "        importlib.reload(m)\n",
        "\n",
        "from path_manager import PathManager"
      ],
      "metadata": {
        "id": "oixXJivftIrh"
      },
      "execution_count": 4,
      "outputs": []
    },
    {
      "cell_type": "markdown",
      "source": [
        "# Mount the drive and setup paths"
      ],
      "metadata": {
        "id": "JEfEI0ORtXC6"
      }
    },
    {
      "cell_type": "code",
      "source": [
        "drive.mount('/content/gdrive')\n",
        "gdrive_path = '/content/gdrive/MyDrive'\n",
        "\n",
        "COMPETITION_PATH = f'{gdrive_path}/ML/Competitions/8.CO2Emissions'\n",
        "PREPROC_TRIAL = 1\n",
        "MODELS_TRIAL = 1\n",
        "\n",
        "manager = PathManager(\n",
        "    COMPETITION_PATH,\n",
        "    PREPROC_TRIAL,\n",
        "    MODELS_TRIAL\n",
        ")\n",
        "\n",
        "manager.setup_paths()"
      ],
      "metadata": {
        "colab": {
          "base_uri": "https://localhost:8080/"
        },
        "id": "dSVn0D8VtZPl",
        "outputId": "e03b9bdb-e62f-4119-d8ef-50704a23efbc"
      },
      "execution_count": 13,
      "outputs": [
        {
          "output_type": "stream",
          "name": "stdout",
          "text": [
            "Drive already mounted at /content/gdrive; to attempt to forcibly remount, call drive.mount(\"/content/gdrive\", force_remount=True).\n",
            "/content/gdrive/MyDrive/ML/Competitions/8.CO2Emissions/Data/preproc_trial_1 already exists\n",
            "/content/gdrive/MyDrive/ML/Competitions/8.CO2Emissions/Models/trial_1 already exists\n"
          ]
        }
      ]
    },
    {
      "cell_type": "markdown",
      "source": [
        "# Download the data"
      ],
      "metadata": {
        "id": "YH4Wb3w6u-k7"
      }
    },
    {
      "cell_type": "code",
      "source": [
        "train = pd.read_csv(manager.train_path)"
      ],
      "metadata": {
        "id": "HDS63tuauaRl"
      },
      "execution_count": 14,
      "outputs": []
    },
    {
      "cell_type": "code",
      "source": [
        "train.info()"
      ],
      "metadata": {
        "colab": {
          "base_uri": "https://localhost:8080/"
        },
        "id": "AQhTQYGEvHBL",
        "outputId": "a68963e5-2fd4-4be4-9060-b7cece80df96"
      },
      "execution_count": 16,
      "outputs": [
        {
          "output_type": "stream",
          "name": "stdout",
          "text": [
            "<class 'pandas.core.frame.DataFrame'>\n",
            "RangeIndex: 79023 entries, 0 to 79022\n",
            "Data columns (total 76 columns):\n",
            " #   Column                                                    Non-Null Count  Dtype  \n",
            "---  ------                                                    --------------  -----  \n",
            " 0   ID_LAT_LON_YEAR_WEEK                                      79023 non-null  object \n",
            " 1   latitude                                                  79023 non-null  float64\n",
            " 2   longitude                                                 79023 non-null  float64\n",
            " 3   year                                                      79023 non-null  int64  \n",
            " 4   week_no                                                   79023 non-null  int64  \n",
            " 5   SulphurDioxide_SO2_column_number_density                  64414 non-null  float64\n",
            " 6   SulphurDioxide_SO2_column_number_density_amf              64414 non-null  float64\n",
            " 7   SulphurDioxide_SO2_slant_column_number_density            64414 non-null  float64\n",
            " 8   SulphurDioxide_cloud_fraction                             64414 non-null  float64\n",
            " 9   SulphurDioxide_sensor_azimuth_angle                       64414 non-null  float64\n",
            " 10  SulphurDioxide_sensor_zenith_angle                        64414 non-null  float64\n",
            " 11  SulphurDioxide_solar_azimuth_angle                        64414 non-null  float64\n",
            " 12  SulphurDioxide_solar_zenith_angle                         64414 non-null  float64\n",
            " 13  SulphurDioxide_SO2_column_number_density_15km             64414 non-null  float64\n",
            " 14  CarbonMonoxide_CO_column_number_density                   76901 non-null  float64\n",
            " 15  CarbonMonoxide_H2O_column_number_density                  76901 non-null  float64\n",
            " 16  CarbonMonoxide_cloud_height                               76901 non-null  float64\n",
            " 17  CarbonMonoxide_sensor_altitude                            76901 non-null  float64\n",
            " 18  CarbonMonoxide_sensor_azimuth_angle                       76901 non-null  float64\n",
            " 19  CarbonMonoxide_sensor_zenith_angle                        76901 non-null  float64\n",
            " 20  CarbonMonoxide_solar_azimuth_angle                        76901 non-null  float64\n",
            " 21  CarbonMonoxide_solar_zenith_angle                         76901 non-null  float64\n",
            " 22  NitrogenDioxide_NO2_column_number_density                 60703 non-null  float64\n",
            " 23  NitrogenDioxide_tropospheric_NO2_column_number_density    60703 non-null  float64\n",
            " 24  NitrogenDioxide_stratospheric_NO2_column_number_density   60703 non-null  float64\n",
            " 25  NitrogenDioxide_NO2_slant_column_number_density           60703 non-null  float64\n",
            " 26  NitrogenDioxide_tropopause_pressure                       60703 non-null  float64\n",
            " 27  NitrogenDioxide_absorbing_aerosol_index                   60703 non-null  float64\n",
            " 28  NitrogenDioxide_cloud_fraction                            60703 non-null  float64\n",
            " 29  NitrogenDioxide_sensor_altitude                           60703 non-null  float64\n",
            " 30  NitrogenDioxide_sensor_azimuth_angle                      60703 non-null  float64\n",
            " 31  NitrogenDioxide_sensor_zenith_angle                       60703 non-null  float64\n",
            " 32  NitrogenDioxide_solar_azimuth_angle                       60703 non-null  float64\n",
            " 33  NitrogenDioxide_solar_zenith_angle                        60703 non-null  float64\n",
            " 34  Formaldehyde_tropospheric_HCHO_column_number_density      71746 non-null  float64\n",
            " 35  Formaldehyde_tropospheric_HCHO_column_number_density_amf  71746 non-null  float64\n",
            " 36  Formaldehyde_HCHO_slant_column_number_density             71746 non-null  float64\n",
            " 37  Formaldehyde_cloud_fraction                               71746 non-null  float64\n",
            " 38  Formaldehyde_solar_zenith_angle                           71746 non-null  float64\n",
            " 39  Formaldehyde_solar_azimuth_angle                          71746 non-null  float64\n",
            " 40  Formaldehyde_sensor_zenith_angle                          71746 non-null  float64\n",
            " 41  Formaldehyde_sensor_azimuth_angle                         71746 non-null  float64\n",
            " 42  UvAerosolIndex_absorbing_aerosol_index                    78484 non-null  float64\n",
            " 43  UvAerosolIndex_sensor_altitude                            78484 non-null  float64\n",
            " 44  UvAerosolIndex_sensor_azimuth_angle                       78484 non-null  float64\n",
            " 45  UvAerosolIndex_sensor_zenith_angle                        78484 non-null  float64\n",
            " 46  UvAerosolIndex_solar_azimuth_angle                        78484 non-null  float64\n",
            " 47  UvAerosolIndex_solar_zenith_angle                         78484 non-null  float64\n",
            " 48  Ozone_O3_column_number_density                            78475 non-null  float64\n",
            " 49  Ozone_O3_column_number_density_amf                        78475 non-null  float64\n",
            " 50  Ozone_O3_slant_column_number_density                      78475 non-null  float64\n",
            " 51  Ozone_O3_effective_temperature                            78475 non-null  float64\n",
            " 52  Ozone_cloud_fraction                                      78475 non-null  float64\n",
            " 53  Ozone_sensor_azimuth_angle                                78475 non-null  float64\n",
            " 54  Ozone_sensor_zenith_angle                                 78475 non-null  float64\n",
            " 55  Ozone_solar_azimuth_angle                                 78475 non-null  float64\n",
            " 56  Ozone_solar_zenith_angle                                  78475 non-null  float64\n",
            " 57  UvAerosolLayerHeight_aerosol_height                       439 non-null    float64\n",
            " 58  UvAerosolLayerHeight_aerosol_pressure                     439 non-null    float64\n",
            " 59  UvAerosolLayerHeight_aerosol_optical_depth                439 non-null    float64\n",
            " 60  UvAerosolLayerHeight_sensor_zenith_angle                  439 non-null    float64\n",
            " 61  UvAerosolLayerHeight_sensor_azimuth_angle                 439 non-null    float64\n",
            " 62  UvAerosolLayerHeight_solar_azimuth_angle                  439 non-null    float64\n",
            " 63  UvAerosolLayerHeight_solar_zenith_angle                   439 non-null    float64\n",
            " 64  Cloud_cloud_fraction                                      78539 non-null  float64\n",
            " 65  Cloud_cloud_top_pressure                                  78539 non-null  float64\n",
            " 66  Cloud_cloud_top_height                                    78539 non-null  float64\n",
            " 67  Cloud_cloud_base_pressure                                 78539 non-null  float64\n",
            " 68  Cloud_cloud_base_height                                   78539 non-null  float64\n",
            " 69  Cloud_cloud_optical_depth                                 78539 non-null  float64\n",
            " 70  Cloud_surface_albedo                                      78539 non-null  float64\n",
            " 71  Cloud_sensor_azimuth_angle                                78539 non-null  float64\n",
            " 72  Cloud_sensor_zenith_angle                                 78539 non-null  float64\n",
            " 73  Cloud_solar_azimuth_angle                                 78539 non-null  float64\n",
            " 74  Cloud_solar_zenith_angle                                  78539 non-null  float64\n",
            " 75  emission                                                  79023 non-null  float64\n",
            "dtypes: float64(73), int64(2), object(1)\n",
            "memory usage: 45.8+ MB\n"
          ]
        }
      ]
    },
    {
      "cell_type": "code",
      "source": [
        "train.describe()"
      ],
      "metadata": {
        "colab": {
          "base_uri": "https://localhost:8080/",
          "height": 349
        },
        "id": "7KKk5-V1vAZR",
        "outputId": "30a643ed-6a2d-444a-ba7d-920f8c0cb10c"
      },
      "execution_count": 15,
      "outputs": [
        {
          "output_type": "execute_result",
          "data": {
            "text/plain": [
              "           latitude     longitude          year       week_no  \\\n",
              "count  79023.000000  79023.000000  79023.000000  79023.000000   \n",
              "mean      -1.891072     29.880155   2020.000000     26.000000   \n",
              "std        0.694522      0.810375      0.816502     15.297155   \n",
              "min       -3.299000     28.228000   2019.000000      0.000000   \n",
              "25%       -2.451000     29.262000   2019.000000     13.000000   \n",
              "50%       -1.882000     29.883000   2020.000000     26.000000   \n",
              "75%       -1.303000     30.471000   2021.000000     39.000000   \n",
              "max       -0.510000     31.532000   2021.000000     52.000000   \n",
              "\n",
              "       SulphurDioxide_SO2_column_number_density  \\\n",
              "count                              64414.000000   \n",
              "mean                                   0.000048   \n",
              "std                                    0.000272   \n",
              "min                                   -0.000996   \n",
              "25%                                   -0.000096   \n",
              "50%                                    0.000024   \n",
              "75%                                    0.000153   \n",
              "max                                    0.004191   \n",
              "\n",
              "       SulphurDioxide_SO2_column_number_density_amf  \\\n",
              "count                                  64414.000000   \n",
              "mean                                       0.834848   \n",
              "std                                        0.185382   \n",
              "min                                        0.241822   \n",
              "25%                                        0.705817   \n",
              "50%                                        0.809118   \n",
              "75%                                        0.942792   \n",
              "max                                        1.885239   \n",
              "\n",
              "       SulphurDioxide_SO2_slant_column_number_density  \\\n",
              "count                                    64414.000000   \n",
              "mean                                         0.000035   \n",
              "std                                          0.000206   \n",
              "min                                         -0.000887   \n",
              "25%                                         -0.000078   \n",
              "50%                                          0.000019   \n",
              "75%                                          0.000121   \n",
              "max                                          0.004236   \n",
              "\n",
              "       SulphurDioxide_cloud_fraction  SulphurDioxide_sensor_azimuth_angle  \\\n",
              "count                   64414.000000                         64414.000000   \n",
              "mean                        0.158418                            -7.925870   \n",
              "std                         0.071364                            64.263368   \n",
              "min                         0.000000                          -179.537059   \n",
              "25%                         0.110535                           -56.782383   \n",
              "50%                         0.161855                           -12.441726   \n",
              "75%                         0.211824                            72.059990   \n",
              "max                         0.299998                           122.095200   \n",
              "\n",
              "       SulphurDioxide_sensor_zenith_angle  ...  Cloud_cloud_top_height  \\\n",
              "count                        64414.000000  ...            78539.000000   \n",
              "mean                            37.436189  ...             5592.377478   \n",
              "std                             14.149950  ...             1428.503002   \n",
              "min                              0.099237  ...             1050.661782   \n",
              "25%                             28.844520  ...             4595.400519   \n",
              "50%                             37.784299  ...             5573.854309   \n",
              "75%                             47.634875  ...             6542.303642   \n",
              "max                             66.242012  ...            12384.239458   \n",
              "\n",
              "       Cloud_cloud_base_pressure  Cloud_cloud_base_height  \\\n",
              "count               78539.000000             78539.000000   \n",
              "mean                59420.297456              4670.430869   \n",
              "std                  9051.163609              1359.251583   \n",
              "min                 24779.033704              1050.496816   \n",
              "25%                 53175.779928              3680.856344   \n",
              "50%                 59332.532548              4621.755170   \n",
              "75%                 65663.842684              5572.983223   \n",
              "max                 89291.615576             11384.239458   \n",
              "\n",
              "       Cloud_cloud_optical_depth  Cloud_surface_albedo  \\\n",
              "count               78539.000000          78539.000000   \n",
              "mean                   19.139241              0.271460   \n",
              "std                    13.547047              0.049434   \n",
              "min                     1.844529              0.017697   \n",
              "25%                     9.974574              0.241453   \n",
              "50%                    15.130688              0.272747   \n",
              "75%                    23.785030              0.302892   \n",
              "max                   250.000000              0.736514   \n",
              "\n",
              "       Cloud_sensor_azimuth_angle  Cloud_sensor_zenith_angle  \\\n",
              "count                78539.000000               78539.000000   \n",
              "mean                   -10.784832                  40.436976   \n",
              "std                     30.374462                   6.428216   \n",
              "min                   -102.739731                   2.998873   \n",
              "25%                    -30.309170                  35.829907   \n",
              "50%                    -12.673914                  41.119630   \n",
              "75%                      9.402202                  44.446272   \n",
              "max                     78.223037                  65.951248   \n",
              "\n",
              "       Cloud_solar_azimuth_angle  Cloud_solar_zenith_angle      emission  \n",
              "count               78539.000000              78539.000000  79023.000000  \n",
              "mean                  -86.800583                 27.925981     81.940552  \n",
              "std                    37.837269                  4.403835    144.299648  \n",
              "min                  -153.464211                 10.818288      0.000000  \n",
              "25%                  -125.991158                 24.686763      9.797995  \n",
              "50%                   -84.644352                 28.333630     45.593445  \n",
              "75%                   -48.132701                 31.499883    109.549595  \n",
              "max                   -22.653170                 42.060436   3167.768000  \n",
              "\n",
              "[8 rows x 75 columns]"
            ],
            "text/html": [
              "\n",
              "  <div id=\"df-d577f98a-839f-48d0-8d12-7ff5dcb232e0\" class=\"colab-df-container\">\n",
              "    <div>\n",
              "<style scoped>\n",
              "    .dataframe tbody tr th:only-of-type {\n",
              "        vertical-align: middle;\n",
              "    }\n",
              "\n",
              "    .dataframe tbody tr th {\n",
              "        vertical-align: top;\n",
              "    }\n",
              "\n",
              "    .dataframe thead th {\n",
              "        text-align: right;\n",
              "    }\n",
              "</style>\n",
              "<table border=\"1\" class=\"dataframe\">\n",
              "  <thead>\n",
              "    <tr style=\"text-align: right;\">\n",
              "      <th></th>\n",
              "      <th>latitude</th>\n",
              "      <th>longitude</th>\n",
              "      <th>year</th>\n",
              "      <th>week_no</th>\n",
              "      <th>SulphurDioxide_SO2_column_number_density</th>\n",
              "      <th>SulphurDioxide_SO2_column_number_density_amf</th>\n",
              "      <th>SulphurDioxide_SO2_slant_column_number_density</th>\n",
              "      <th>SulphurDioxide_cloud_fraction</th>\n",
              "      <th>SulphurDioxide_sensor_azimuth_angle</th>\n",
              "      <th>SulphurDioxide_sensor_zenith_angle</th>\n",
              "      <th>...</th>\n",
              "      <th>Cloud_cloud_top_height</th>\n",
              "      <th>Cloud_cloud_base_pressure</th>\n",
              "      <th>Cloud_cloud_base_height</th>\n",
              "      <th>Cloud_cloud_optical_depth</th>\n",
              "      <th>Cloud_surface_albedo</th>\n",
              "      <th>Cloud_sensor_azimuth_angle</th>\n",
              "      <th>Cloud_sensor_zenith_angle</th>\n",
              "      <th>Cloud_solar_azimuth_angle</th>\n",
              "      <th>Cloud_solar_zenith_angle</th>\n",
              "      <th>emission</th>\n",
              "    </tr>\n",
              "  </thead>\n",
              "  <tbody>\n",
              "    <tr>\n",
              "      <th>count</th>\n",
              "      <td>79023.000000</td>\n",
              "      <td>79023.000000</td>\n",
              "      <td>79023.000000</td>\n",
              "      <td>79023.000000</td>\n",
              "      <td>64414.000000</td>\n",
              "      <td>64414.000000</td>\n",
              "      <td>64414.000000</td>\n",
              "      <td>64414.000000</td>\n",
              "      <td>64414.000000</td>\n",
              "      <td>64414.000000</td>\n",
              "      <td>...</td>\n",
              "      <td>78539.000000</td>\n",
              "      <td>78539.000000</td>\n",
              "      <td>78539.000000</td>\n",
              "      <td>78539.000000</td>\n",
              "      <td>78539.000000</td>\n",
              "      <td>78539.000000</td>\n",
              "      <td>78539.000000</td>\n",
              "      <td>78539.000000</td>\n",
              "      <td>78539.000000</td>\n",
              "      <td>79023.000000</td>\n",
              "    </tr>\n",
              "    <tr>\n",
              "      <th>mean</th>\n",
              "      <td>-1.891072</td>\n",
              "      <td>29.880155</td>\n",
              "      <td>2020.000000</td>\n",
              "      <td>26.000000</td>\n",
              "      <td>0.000048</td>\n",
              "      <td>0.834848</td>\n",
              "      <td>0.000035</td>\n",
              "      <td>0.158418</td>\n",
              "      <td>-7.925870</td>\n",
              "      <td>37.436189</td>\n",
              "      <td>...</td>\n",
              "      <td>5592.377478</td>\n",
              "      <td>59420.297456</td>\n",
              "      <td>4670.430869</td>\n",
              "      <td>19.139241</td>\n",
              "      <td>0.271460</td>\n",
              "      <td>-10.784832</td>\n",
              "      <td>40.436976</td>\n",
              "      <td>-86.800583</td>\n",
              "      <td>27.925981</td>\n",
              "      <td>81.940552</td>\n",
              "    </tr>\n",
              "    <tr>\n",
              "      <th>std</th>\n",
              "      <td>0.694522</td>\n",
              "      <td>0.810375</td>\n",
              "      <td>0.816502</td>\n",
              "      <td>15.297155</td>\n",
              "      <td>0.000272</td>\n",
              "      <td>0.185382</td>\n",
              "      <td>0.000206</td>\n",
              "      <td>0.071364</td>\n",
              "      <td>64.263368</td>\n",
              "      <td>14.149950</td>\n",
              "      <td>...</td>\n",
              "      <td>1428.503002</td>\n",
              "      <td>9051.163609</td>\n",
              "      <td>1359.251583</td>\n",
              "      <td>13.547047</td>\n",
              "      <td>0.049434</td>\n",
              "      <td>30.374462</td>\n",
              "      <td>6.428216</td>\n",
              "      <td>37.837269</td>\n",
              "      <td>4.403835</td>\n",
              "      <td>144.299648</td>\n",
              "    </tr>\n",
              "    <tr>\n",
              "      <th>min</th>\n",
              "      <td>-3.299000</td>\n",
              "      <td>28.228000</td>\n",
              "      <td>2019.000000</td>\n",
              "      <td>0.000000</td>\n",
              "      <td>-0.000996</td>\n",
              "      <td>0.241822</td>\n",
              "      <td>-0.000887</td>\n",
              "      <td>0.000000</td>\n",
              "      <td>-179.537059</td>\n",
              "      <td>0.099237</td>\n",
              "      <td>...</td>\n",
              "      <td>1050.661782</td>\n",
              "      <td>24779.033704</td>\n",
              "      <td>1050.496816</td>\n",
              "      <td>1.844529</td>\n",
              "      <td>0.017697</td>\n",
              "      <td>-102.739731</td>\n",
              "      <td>2.998873</td>\n",
              "      <td>-153.464211</td>\n",
              "      <td>10.818288</td>\n",
              "      <td>0.000000</td>\n",
              "    </tr>\n",
              "    <tr>\n",
              "      <th>25%</th>\n",
              "      <td>-2.451000</td>\n",
              "      <td>29.262000</td>\n",
              "      <td>2019.000000</td>\n",
              "      <td>13.000000</td>\n",
              "      <td>-0.000096</td>\n",
              "      <td>0.705817</td>\n",
              "      <td>-0.000078</td>\n",
              "      <td>0.110535</td>\n",
              "      <td>-56.782383</td>\n",
              "      <td>28.844520</td>\n",
              "      <td>...</td>\n",
              "      <td>4595.400519</td>\n",
              "      <td>53175.779928</td>\n",
              "      <td>3680.856344</td>\n",
              "      <td>9.974574</td>\n",
              "      <td>0.241453</td>\n",
              "      <td>-30.309170</td>\n",
              "      <td>35.829907</td>\n",
              "      <td>-125.991158</td>\n",
              "      <td>24.686763</td>\n",
              "      <td>9.797995</td>\n",
              "    </tr>\n",
              "    <tr>\n",
              "      <th>50%</th>\n",
              "      <td>-1.882000</td>\n",
              "      <td>29.883000</td>\n",
              "      <td>2020.000000</td>\n",
              "      <td>26.000000</td>\n",
              "      <td>0.000024</td>\n",
              "      <td>0.809118</td>\n",
              "      <td>0.000019</td>\n",
              "      <td>0.161855</td>\n",
              "      <td>-12.441726</td>\n",
              "      <td>37.784299</td>\n",
              "      <td>...</td>\n",
              "      <td>5573.854309</td>\n",
              "      <td>59332.532548</td>\n",
              "      <td>4621.755170</td>\n",
              "      <td>15.130688</td>\n",
              "      <td>0.272747</td>\n",
              "      <td>-12.673914</td>\n",
              "      <td>41.119630</td>\n",
              "      <td>-84.644352</td>\n",
              "      <td>28.333630</td>\n",
              "      <td>45.593445</td>\n",
              "    </tr>\n",
              "    <tr>\n",
              "      <th>75%</th>\n",
              "      <td>-1.303000</td>\n",
              "      <td>30.471000</td>\n",
              "      <td>2021.000000</td>\n",
              "      <td>39.000000</td>\n",
              "      <td>0.000153</td>\n",
              "      <td>0.942792</td>\n",
              "      <td>0.000121</td>\n",
              "      <td>0.211824</td>\n",
              "      <td>72.059990</td>\n",
              "      <td>47.634875</td>\n",
              "      <td>...</td>\n",
              "      <td>6542.303642</td>\n",
              "      <td>65663.842684</td>\n",
              "      <td>5572.983223</td>\n",
              "      <td>23.785030</td>\n",
              "      <td>0.302892</td>\n",
              "      <td>9.402202</td>\n",
              "      <td>44.446272</td>\n",
              "      <td>-48.132701</td>\n",
              "      <td>31.499883</td>\n",
              "      <td>109.549595</td>\n",
              "    </tr>\n",
              "    <tr>\n",
              "      <th>max</th>\n",
              "      <td>-0.510000</td>\n",
              "      <td>31.532000</td>\n",
              "      <td>2021.000000</td>\n",
              "      <td>52.000000</td>\n",
              "      <td>0.004191</td>\n",
              "      <td>1.885239</td>\n",
              "      <td>0.004236</td>\n",
              "      <td>0.299998</td>\n",
              "      <td>122.095200</td>\n",
              "      <td>66.242012</td>\n",
              "      <td>...</td>\n",
              "      <td>12384.239458</td>\n",
              "      <td>89291.615576</td>\n",
              "      <td>11384.239458</td>\n",
              "      <td>250.000000</td>\n",
              "      <td>0.736514</td>\n",
              "      <td>78.223037</td>\n",
              "      <td>65.951248</td>\n",
              "      <td>-22.653170</td>\n",
              "      <td>42.060436</td>\n",
              "      <td>3167.768000</td>\n",
              "    </tr>\n",
              "  </tbody>\n",
              "</table>\n",
              "<p>8 rows × 75 columns</p>\n",
              "</div>\n",
              "    <div class=\"colab-df-buttons\">\n",
              "\n",
              "  <div class=\"colab-df-container\">\n",
              "    <button class=\"colab-df-convert\" onclick=\"convertToInteractive('df-d577f98a-839f-48d0-8d12-7ff5dcb232e0')\"\n",
              "            title=\"Convert this dataframe to an interactive table.\"\n",
              "            style=\"display:none;\">\n",
              "\n",
              "  <svg xmlns=\"http://www.w3.org/2000/svg\" height=\"24px\" viewBox=\"0 -960 960 960\">\n",
              "    <path d=\"M120-120v-720h720v720H120Zm60-500h600v-160H180v160Zm220 220h160v-160H400v160Zm0 220h160v-160H400v160ZM180-400h160v-160H180v160Zm440 0h160v-160H620v160ZM180-180h160v-160H180v160Zm440 0h160v-160H620v160Z\"/>\n",
              "  </svg>\n",
              "    </button>\n",
              "\n",
              "  <style>\n",
              "    .colab-df-container {\n",
              "      display:flex;\n",
              "      gap: 12px;\n",
              "    }\n",
              "\n",
              "    .colab-df-convert {\n",
              "      background-color: #E8F0FE;\n",
              "      border: none;\n",
              "      border-radius: 50%;\n",
              "      cursor: pointer;\n",
              "      display: none;\n",
              "      fill: #1967D2;\n",
              "      height: 32px;\n",
              "      padding: 0 0 0 0;\n",
              "      width: 32px;\n",
              "    }\n",
              "\n",
              "    .colab-df-convert:hover {\n",
              "      background-color: #E2EBFA;\n",
              "      box-shadow: 0px 1px 2px rgba(60, 64, 67, 0.3), 0px 1px 3px 1px rgba(60, 64, 67, 0.15);\n",
              "      fill: #174EA6;\n",
              "    }\n",
              "\n",
              "    .colab-df-buttons div {\n",
              "      margin-bottom: 4px;\n",
              "    }\n",
              "\n",
              "    [theme=dark] .colab-df-convert {\n",
              "      background-color: #3B4455;\n",
              "      fill: #D2E3FC;\n",
              "    }\n",
              "\n",
              "    [theme=dark] .colab-df-convert:hover {\n",
              "      background-color: #434B5C;\n",
              "      box-shadow: 0px 1px 3px 1px rgba(0, 0, 0, 0.15);\n",
              "      filter: drop-shadow(0px 1px 2px rgba(0, 0, 0, 0.3));\n",
              "      fill: #FFFFFF;\n",
              "    }\n",
              "  </style>\n",
              "\n",
              "    <script>\n",
              "      const buttonEl =\n",
              "        document.querySelector('#df-d577f98a-839f-48d0-8d12-7ff5dcb232e0 button.colab-df-convert');\n",
              "      buttonEl.style.display =\n",
              "        google.colab.kernel.accessAllowed ? 'block' : 'none';\n",
              "\n",
              "      async function convertToInteractive(key) {\n",
              "        const element = document.querySelector('#df-d577f98a-839f-48d0-8d12-7ff5dcb232e0');\n",
              "        const dataTable =\n",
              "          await google.colab.kernel.invokeFunction('convertToInteractive',\n",
              "                                                    [key], {});\n",
              "        if (!dataTable) return;\n",
              "\n",
              "        const docLinkHtml = 'Like what you see? Visit the ' +\n",
              "          '<a target=\"_blank\" href=https://colab.research.google.com/notebooks/data_table.ipynb>data table notebook</a>'\n",
              "          + ' to learn more about interactive tables.';\n",
              "        element.innerHTML = '';\n",
              "        dataTable['output_type'] = 'display_data';\n",
              "        await google.colab.output.renderOutput(dataTable, element);\n",
              "        const docLink = document.createElement('div');\n",
              "        docLink.innerHTML = docLinkHtml;\n",
              "        element.appendChild(docLink);\n",
              "      }\n",
              "    </script>\n",
              "  </div>\n",
              "\n",
              "\n",
              "<div id=\"df-c6aeb72e-0a58-40e5-96a3-9c0d737c6677\">\n",
              "  <button class=\"colab-df-quickchart\" onclick=\"quickchart('df-c6aeb72e-0a58-40e5-96a3-9c0d737c6677')\"\n",
              "            title=\"Suggest charts.\"\n",
              "            style=\"display:none;\">\n",
              "\n",
              "<svg xmlns=\"http://www.w3.org/2000/svg\" height=\"24px\"viewBox=\"0 0 24 24\"\n",
              "     width=\"24px\">\n",
              "    <g>\n",
              "        <path d=\"M19 3H5c-1.1 0-2 .9-2 2v14c0 1.1.9 2 2 2h14c1.1 0 2-.9 2-2V5c0-1.1-.9-2-2-2zM9 17H7v-7h2v7zm4 0h-2V7h2v10zm4 0h-2v-4h2v4z\"/>\n",
              "    </g>\n",
              "</svg>\n",
              "  </button>\n",
              "\n",
              "<style>\n",
              "  .colab-df-quickchart {\n",
              "      --bg-color: #E8F0FE;\n",
              "      --fill-color: #1967D2;\n",
              "      --hover-bg-color: #E2EBFA;\n",
              "      --hover-fill-color: #174EA6;\n",
              "      --disabled-fill-color: #AAA;\n",
              "      --disabled-bg-color: #DDD;\n",
              "  }\n",
              "\n",
              "  [theme=dark] .colab-df-quickchart {\n",
              "      --bg-color: #3B4455;\n",
              "      --fill-color: #D2E3FC;\n",
              "      --hover-bg-color: #434B5C;\n",
              "      --hover-fill-color: #FFFFFF;\n",
              "      --disabled-bg-color: #3B4455;\n",
              "      --disabled-fill-color: #666;\n",
              "  }\n",
              "\n",
              "  .colab-df-quickchart {\n",
              "    background-color: var(--bg-color);\n",
              "    border: none;\n",
              "    border-radius: 50%;\n",
              "    cursor: pointer;\n",
              "    display: none;\n",
              "    fill: var(--fill-color);\n",
              "    height: 32px;\n",
              "    padding: 0;\n",
              "    width: 32px;\n",
              "  }\n",
              "\n",
              "  .colab-df-quickchart:hover {\n",
              "    background-color: var(--hover-bg-color);\n",
              "    box-shadow: 0 1px 2px rgba(60, 64, 67, 0.3), 0 1px 3px 1px rgba(60, 64, 67, 0.15);\n",
              "    fill: var(--button-hover-fill-color);\n",
              "  }\n",
              "\n",
              "  .colab-df-quickchart-complete:disabled,\n",
              "  .colab-df-quickchart-complete:disabled:hover {\n",
              "    background-color: var(--disabled-bg-color);\n",
              "    fill: var(--disabled-fill-color);\n",
              "    box-shadow: none;\n",
              "  }\n",
              "\n",
              "  .colab-df-spinner {\n",
              "    border: 2px solid var(--fill-color);\n",
              "    border-color: transparent;\n",
              "    border-bottom-color: var(--fill-color);\n",
              "    animation:\n",
              "      spin 1s steps(1) infinite;\n",
              "  }\n",
              "\n",
              "  @keyframes spin {\n",
              "    0% {\n",
              "      border-color: transparent;\n",
              "      border-bottom-color: var(--fill-color);\n",
              "      border-left-color: var(--fill-color);\n",
              "    }\n",
              "    20% {\n",
              "      border-color: transparent;\n",
              "      border-left-color: var(--fill-color);\n",
              "      border-top-color: var(--fill-color);\n",
              "    }\n",
              "    30% {\n",
              "      border-color: transparent;\n",
              "      border-left-color: var(--fill-color);\n",
              "      border-top-color: var(--fill-color);\n",
              "      border-right-color: var(--fill-color);\n",
              "    }\n",
              "    40% {\n",
              "      border-color: transparent;\n",
              "      border-right-color: var(--fill-color);\n",
              "      border-top-color: var(--fill-color);\n",
              "    }\n",
              "    60% {\n",
              "      border-color: transparent;\n",
              "      border-right-color: var(--fill-color);\n",
              "    }\n",
              "    80% {\n",
              "      border-color: transparent;\n",
              "      border-right-color: var(--fill-color);\n",
              "      border-bottom-color: var(--fill-color);\n",
              "    }\n",
              "    90% {\n",
              "      border-color: transparent;\n",
              "      border-bottom-color: var(--fill-color);\n",
              "    }\n",
              "  }\n",
              "</style>\n",
              "\n",
              "  <script>\n",
              "    async function quickchart(key) {\n",
              "      const quickchartButtonEl =\n",
              "        document.querySelector('#' + key + ' button');\n",
              "      quickchartButtonEl.disabled = true;  // To prevent multiple clicks.\n",
              "      quickchartButtonEl.classList.add('colab-df-spinner');\n",
              "      try {\n",
              "        const charts = await google.colab.kernel.invokeFunction(\n",
              "            'suggestCharts', [key], {});\n",
              "      } catch (error) {\n",
              "        console.error('Error during call to suggestCharts:', error);\n",
              "      }\n",
              "      quickchartButtonEl.classList.remove('colab-df-spinner');\n",
              "      quickchartButtonEl.classList.add('colab-df-quickchart-complete');\n",
              "    }\n",
              "    (() => {\n",
              "      let quickchartButtonEl =\n",
              "        document.querySelector('#df-c6aeb72e-0a58-40e5-96a3-9c0d737c6677 button');\n",
              "      quickchartButtonEl.style.display =\n",
              "        google.colab.kernel.accessAllowed ? 'block' : 'none';\n",
              "    })();\n",
              "  </script>\n",
              "</div>\n",
              "    </div>\n",
              "  </div>\n"
            ]
          },
          "metadata": {},
          "execution_count": 15
        }
      ]
    },
    {
      "cell_type": "markdown",
      "source": [
        "# Quick look at the data"
      ],
      "metadata": {
        "id": "-6Yp8lxLvLWg"
      }
    },
    {
      "cell_type": "code",
      "source": [
        "train.shape"
      ],
      "metadata": {
        "colab": {
          "base_uri": "https://localhost:8080/"
        },
        "id": "8SoxXeZrvNTD",
        "outputId": "d4ebf5a5-c3f3-4270-96be-50df1b458970"
      },
      "execution_count": 17,
      "outputs": [
        {
          "output_type": "execute_result",
          "data": {
            "text/plain": [
              "(79023, 76)"
            ]
          },
          "metadata": {},
          "execution_count": 17
        }
      ]
    },
    {
      "cell_type": "code",
      "source": [
        "train.columns"
      ],
      "metadata": {
        "colab": {
          "base_uri": "https://localhost:8080/"
        },
        "id": "NJVl--IAwiAN",
        "outputId": "657f393d-089b-4ce7-c67d-b7674a27d537"
      },
      "execution_count": 18,
      "outputs": [
        {
          "output_type": "execute_result",
          "data": {
            "text/plain": [
              "Index(['ID_LAT_LON_YEAR_WEEK', 'latitude', 'longitude', 'year', 'week_no',\n",
              "       'SulphurDioxide_SO2_column_number_density',\n",
              "       'SulphurDioxide_SO2_column_number_density_amf',\n",
              "       'SulphurDioxide_SO2_slant_column_number_density',\n",
              "       'SulphurDioxide_cloud_fraction', 'SulphurDioxide_sensor_azimuth_angle',\n",
              "       'SulphurDioxide_sensor_zenith_angle',\n",
              "       'SulphurDioxide_solar_azimuth_angle',\n",
              "       'SulphurDioxide_solar_zenith_angle',\n",
              "       'SulphurDioxide_SO2_column_number_density_15km',\n",
              "       'CarbonMonoxide_CO_column_number_density',\n",
              "       'CarbonMonoxide_H2O_column_number_density',\n",
              "       'CarbonMonoxide_cloud_height', 'CarbonMonoxide_sensor_altitude',\n",
              "       'CarbonMonoxide_sensor_azimuth_angle',\n",
              "       'CarbonMonoxide_sensor_zenith_angle',\n",
              "       'CarbonMonoxide_solar_azimuth_angle',\n",
              "       'CarbonMonoxide_solar_zenith_angle',\n",
              "       'NitrogenDioxide_NO2_column_number_density',\n",
              "       'NitrogenDioxide_tropospheric_NO2_column_number_density',\n",
              "       'NitrogenDioxide_stratospheric_NO2_column_number_density',\n",
              "       'NitrogenDioxide_NO2_slant_column_number_density',\n",
              "       'NitrogenDioxide_tropopause_pressure',\n",
              "       'NitrogenDioxide_absorbing_aerosol_index',\n",
              "       'NitrogenDioxide_cloud_fraction', 'NitrogenDioxide_sensor_altitude',\n",
              "       'NitrogenDioxide_sensor_azimuth_angle',\n",
              "       'NitrogenDioxide_sensor_zenith_angle',\n",
              "       'NitrogenDioxide_solar_azimuth_angle',\n",
              "       'NitrogenDioxide_solar_zenith_angle',\n",
              "       'Formaldehyde_tropospheric_HCHO_column_number_density',\n",
              "       'Formaldehyde_tropospheric_HCHO_column_number_density_amf',\n",
              "       'Formaldehyde_HCHO_slant_column_number_density',\n",
              "       'Formaldehyde_cloud_fraction', 'Formaldehyde_solar_zenith_angle',\n",
              "       'Formaldehyde_solar_azimuth_angle', 'Formaldehyde_sensor_zenith_angle',\n",
              "       'Formaldehyde_sensor_azimuth_angle',\n",
              "       'UvAerosolIndex_absorbing_aerosol_index',\n",
              "       'UvAerosolIndex_sensor_altitude', 'UvAerosolIndex_sensor_azimuth_angle',\n",
              "       'UvAerosolIndex_sensor_zenith_angle',\n",
              "       'UvAerosolIndex_solar_azimuth_angle',\n",
              "       'UvAerosolIndex_solar_zenith_angle', 'Ozone_O3_column_number_density',\n",
              "       'Ozone_O3_column_number_density_amf',\n",
              "       'Ozone_O3_slant_column_number_density',\n",
              "       'Ozone_O3_effective_temperature', 'Ozone_cloud_fraction',\n",
              "       'Ozone_sensor_azimuth_angle', 'Ozone_sensor_zenith_angle',\n",
              "       'Ozone_solar_azimuth_angle', 'Ozone_solar_zenith_angle',\n",
              "       'UvAerosolLayerHeight_aerosol_height',\n",
              "       'UvAerosolLayerHeight_aerosol_pressure',\n",
              "       'UvAerosolLayerHeight_aerosol_optical_depth',\n",
              "       'UvAerosolLayerHeight_sensor_zenith_angle',\n",
              "       'UvAerosolLayerHeight_sensor_azimuth_angle',\n",
              "       'UvAerosolLayerHeight_solar_azimuth_angle',\n",
              "       'UvAerosolLayerHeight_solar_zenith_angle', 'Cloud_cloud_fraction',\n",
              "       'Cloud_cloud_top_pressure', 'Cloud_cloud_top_height',\n",
              "       'Cloud_cloud_base_pressure', 'Cloud_cloud_base_height',\n",
              "       'Cloud_cloud_optical_depth', 'Cloud_surface_albedo',\n",
              "       'Cloud_sensor_azimuth_angle', 'Cloud_sensor_zenith_angle',\n",
              "       'Cloud_solar_azimuth_angle', 'Cloud_solar_zenith_angle', 'emission'],\n",
              "      dtype='object')"
            ]
          },
          "metadata": {},
          "execution_count": 18
        }
      ]
    },
    {
      "cell_type": "code",
      "source": [
        "train['emission'].hist(bins=1000)"
      ],
      "metadata": {
        "colab": {
          "base_uri": "https://localhost:8080/",
          "height": 447
        },
        "id": "TK-oh960wlx5",
        "outputId": "f343084f-7c4c-41d5-9546-a981574fd019"
      },
      "execution_count": 20,
      "outputs": [
        {
          "output_type": "execute_result",
          "data": {
            "text/plain": [
              "<Axes: >"
            ]
          },
          "metadata": {},
          "execution_count": 20
        },
        {
          "output_type": "display_data",
          "data": {
            "text/plain": [
              "<Figure size 640x480 with 1 Axes>"
            ],
            "image/png": "[encoded data removed]"
          },
          "metadata": {}
        }
      ]
    },
    {
      "cell_type": "code",
      "source": [
        "train['emission'].describe()"
      ],
      "metadata": {
        "colab": {
          "base_uri": "https://localhost:8080/"
        },
        "id": "yOAdi4e1wwt5",
        "outputId": "7031120a-76ee-4056-d609-96529d8972cc"
      },
      "execution_count": 21,
      "outputs": [
        {
          "output_type": "execute_result",
          "data": {
            "text/plain": [
              "count    79023.000000\n",
              "mean        81.940552\n",
              "std        144.299648\n",
              "min          0.000000\n",
              "25%          9.797995\n",
              "50%         45.593445\n",
              "75%        109.549595\n",
              "max       3167.768000\n",
              "Name: emission, dtype: float64"
            ]
          },
          "metadata": {},
          "execution_count": 21
        }
      ]
    },
    {
      "cell_type": "markdown",
      "source": [
        "# Data cleaning"
      ],
      "metadata": {
        "id": "-41EvQ1Jw9yn"
      }
    },
    {
      "cell_type": "markdown",
      "source": [
        "## Remove outliers in the target"
      ],
      "metadata": {
        "id": "4D0KoNkCxbBN"
      }
    },
    {
      "cell_type": "code",
      "source": [
        "train[\n",
        "    train['emission'] <= 600\n",
        "]['emission'].hist()"
      ],
      "metadata": {
        "colab": {
          "base_uri": "https://localhost:8080/",
          "height": 447
        },
        "id": "o3B4L0b1xJBF",
        "outputId": "4b1f1573-ede1-4d76-c208-2ca9a522036e"
      },
      "execution_count": 25,
      "outputs": [
        {
          "output_type": "execute_result",
          "data": {
            "text/plain": [
              "<Axes: >"
            ]
          },
          "metadata": {},
          "execution_count": 25
        },
        {
          "output_type": "display_data",
          "data": {
            "text/plain": [
              "<Figure size 640x480 with 1 Axes>"
            ],
            "image/png": "[encoded data removed]"
          },
          "metadata": {}
        }
      ]
    },
    {
      "cell_type": "code",
      "source": [
        "train[train['emission'] > 600].shape[0] / train.shape[0]"
      ],
      "metadata": {
        "colab": {
          "base_uri": "https://localhost:8080/"
        },
        "id": "LyCBzG18xC1t",
        "outputId": "0da0bb98-5b25-4d94-9550-35c5042d7191"
      },
      "execution_count": 29,
      "outputs": [
        {
          "output_type": "execute_result",
          "data": {
            "text/plain": [
              "0.004175999392581907"
            ]
          },
          "metadata": {},
          "execution_count": 29
        }
      ]
    },
    {
      "cell_type": "code",
      "source": [
        "print(train.shape)\n",
        "\n",
        "THRESHOLD = 600\n",
        "train = train.loc[\n",
        "    train['emission'] < THRESHOLD,\n",
        "    :\n",
        "]\n",
        "\n",
        "print(train.shape)"
      ],
      "metadata": {
        "colab": {
          "base_uri": "https://localhost:8080/"
        },
        "id": "Xa700eyPxeuJ",
        "outputId": "320a8aca-471c-4b9e-fcde-9fd984489e2b"
      },
      "execution_count": 32,
      "outputs": [
        {
          "output_type": "stream",
          "name": "stdout",
          "text": [
            "(79023, 76)\n",
            "(78693, 76)\n"
          ]
        }
      ]
    },
    {
      "cell_type": "code",
      "source": [
        "train['emission'].hist()"
      ],
      "metadata": {
        "colab": {
          "base_uri": "https://localhost:8080/",
          "height": 447
        },
        "id": "tlhFpqMexrfZ",
        "outputId": "8a3bcb05-6b04-44b1-cf90-2deaf5dafd37"
      },
      "execution_count": 33,
      "outputs": [
        {
          "output_type": "execute_result",
          "data": {
            "text/plain": [
              "<Axes: >"
            ]
          },
          "metadata": {},
          "execution_count": 33
        },
        {
          "output_type": "display_data",
          "data": {
            "text/plain": [
              "<Figure size 640x480 with 1 Axes>"
            ],
            "image/png": "[encoded data removed]"
          },
          "metadata": {}
        }
      ]
    },
    {
      "cell_type": "code",
      "source": [
        "# All the types are numeric, except for one\n",
        "train.dtypes"
      ],
      "metadata": {
        "colab": {
          "base_uri": "https://localhost:8080/"
        },
        "id": "AMwP1lxQxzjR",
        "outputId": "0246444e-a34d-46cc-c9bb-f1966d136b47"
      },
      "execution_count": 36,
      "outputs": [
        {
          "output_type": "execute_result",
          "data": {
            "text/plain": [
              "ID_LAT_LON_YEAR_WEEK           object\n",
              "latitude                      float64\n",
              "longitude                     float64\n",
              "year                            int64\n",
              "week_no                         int64\n",
              "                               ...   \n",
              "Cloud_sensor_azimuth_angle    float64\n",
              "Cloud_sensor_zenith_angle     float64\n",
              "Cloud_solar_azimuth_angle     float64\n",
              "Cloud_solar_zenith_angle      float64\n",
              "emission                      float64\n",
              "Length: 76, dtype: object"
            ]
          },
          "metadata": {},
          "execution_count": 36
        }
      ]
    },
    {
      "cell_type": "code",
      "source": [
        "if 'ID_LAT_LON_YEAR_WEEK' in train.columns:\n",
        "    train.drop(['ID_LAT_LON_YEAR_WEEK'], axis='columns', inplace=True)\n",
        "assert 'ID_LAT_LON_YEAR_WEEK' not in train.columns"
      ],
      "metadata": {
        "id": "2JNtVr-5x_Qy"
      },
      "execution_count": 45,
      "outputs": []
    },
    {
      "cell_type": "markdown",
      "source": [
        "## Clean columns with high nan percentage"
      ],
      "metadata": {
        "id": "_mhF74hPzLtR"
      }
    },
    {
      "cell_type": "code",
      "source": [
        "NAN_PERCENTAGE = 0.2\n",
        "\n",
        "columns_to_remove = []\n",
        "for c in train.columns:\n",
        "    n_nans = train[c].isna().sum()\n",
        "    nan_percent = n_nans / train.shape[0]\n",
        "    if nan_percent >= NAN_PERCENTAGE:\n",
        "        columns_to_remove.append(c)\n",
        "\n",
        "print(train.shape)\n",
        "train.drop(columns_to_remove, axis='columns', inplace=True)\n",
        "print(train.shape)"
      ],
      "metadata": {
        "colab": {
          "base_uri": "https://localhost:8080/"
        },
        "id": "-npbfF9oybLA",
        "outputId": "b8bf94ee-170e-4c7e-a33d-fa6a8db7fd6e"
      },
      "execution_count": 52,
      "outputs": [
        {
          "output_type": "stream",
          "name": "stdout",
          "text": [
            "(78693, 75)\n"
          ]
        },
        {
          "output_type": "stream",
          "name": "stderr",
          "text": [
            "<ipython-input-52-8d2821fca3ef>:11: SettingWithCopyWarning: \n",
            "A value is trying to be set on a copy of a slice from a DataFrame\n",
            "\n",
            "See the caveats in the documentation: https://pandas.pydata.org/pandas-docs/stable/user_guide/indexing.html#returning-a-view-versus-a-copy\n",
            "  train.drop(columns_to_remove, axis='columns', inplace=True)\n"
          ]
        }
      ]
    },
    {
      "cell_type": "code",
      "source": [],
      "metadata": {
        "colab": {
          "base_uri": "https://localhost:8080/"
        },
        "id": "xiMb3__fzZiY",
        "outputId": "21a49d8d-82c0-4d0a-e1ea-f2105e4aed4d"
      },
      "execution_count": 53,
      "outputs": [
        {
          "output_type": "execute_result",
          "data": {
            "text/plain": [
              "(78693, 56)"
            ]
          },
          "metadata": {},
          "execution_count": 53
        }
      ]
    },
    {
      "cell_type": "markdown",
      "source": [],
      "metadata": {
        "id": "vnvvaJaIxyPz"
      }
    }
  ]
}