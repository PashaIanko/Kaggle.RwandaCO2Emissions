{
  "nbformat": 4,
  "nbformat_minor": 0,
  "metadata": {
    "colab": {
      "provenance": [],
      "authorship_tag": "ABX9TyN8L19wSffWixCdWUMgeFuN",
      "include_colab_link": true
    },
    "kernelspec": {
      "name": "python3",
      "display_name": "Python 3"
    },
    "language_info": {
      "name": "python"
    }
  },
  "cells": [
    {
      "cell_type": "markdown",
      "metadata": {
        "id": "view-in-github",
        "colab_type": "text"
      },
      "source": [
        "<a href=\"https://colab.research.google.com/github/PashaIanko/Kaggle.RwandaCO2Emissions/blob/main/0_baseline_training.ipynb\" target=\"_parent\"><img src=\"https://colab.research.google.com/assets/colab-badge.svg\" alt=\"Open In Colab\"/></a>"
      ]
    },
    {
      "cell_type": "markdown",
      "source": [
        "# This file DOES NOT contain good code! I use it to practice the skill of pipeline creation and memorizing the sklearn functionality. Refer to the files 1, 2, 3, etc. in the repository for a better documented code."
      ],
      "metadata": {
        "id": "GFueeov5CjZ0"
      }
    },
    {
      "cell_type": "markdown",
      "source": [
        "# Imports"
      ],
      "metadata": {
        "id": "coDAA5UUsX3J"
      }
    },
    {
      "cell_type": "code",
      "execution_count": 111,
      "metadata": {
        "id": "FmSfB4iSr8DV"
      },
      "outputs": [],
      "source": [
        "from google.colab import drive\n",
        "\n",
        "# Datasets\n",
        "import pandas as pd\n",
        "\n",
        "# Numerics\n",
        "import numpy as np\n",
        "\n",
        "# Plotting\n",
        "import matplotlib.pyplot as plt\n",
        "\n",
        "# Preprocessing & pipelines\n",
        "from sklearn.pipeline import make_pipeline\n",
        "from sklearn.compose import ColumnTransformer\n",
        "\n",
        "from sklearn.impute import SimpleImputer\n",
        "from sklearn.preprocessing import StandardScaler"
      ]
    },
    {
      "cell_type": "markdown",
      "source": [
        "# Import module files"
      ],
      "metadata": {
        "id": "blhdT3ZbsaDv"
      }
    },
    {
      "cell_type": "code",
      "source": [
        "%%capture\n",
        "\n",
        "def download(url_dict):\n",
        "    for file, url in url_dict.items():\n",
        "        !wget -O {file} {url} {file}\n",
        "\n",
        "\n",
        "GIT_URL = 'https://raw.githubusercontent.com/PashaIanko/Sklearn-Utils/main/'\n",
        "download(\n",
        "    {\n",
        "        file: GIT_URL + file\n",
        "        for file in [\n",
        "            'path_manager.py'\n",
        "        ]\n",
        "    }\n",
        ")"
      ],
      "metadata": {
        "id": "HpqJdjTNsWIy"
      },
      "execution_count": 112,
      "outputs": []
    },
    {
      "cell_type": "code",
      "source": [
        "import path_manager\n",
        "import importlib\n",
        "\n",
        "def reload_all(modules_list):\n",
        "    for m in modules_list:\n",
        "        importlib.reload(m)\n",
        "\n",
        "from path_manager import PathManager"
      ],
      "metadata": {
        "id": "oixXJivftIrh"
      },
      "execution_count": 113,
      "outputs": []
    },
    {
      "cell_type": "markdown",
      "source": [
        "# Mount the drive and setup paths"
      ],
      "metadata": {
        "id": "JEfEI0ORtXC6"
      }
    },
    {
      "cell_type": "code",
      "source": [
        "drive.mount('/content/gdrive')\n",
        "gdrive_path = '/content/gdrive/MyDrive'\n",
        "\n",
        "COMPETITION_PATH = f'{gdrive_path}/ML/Competitions/8.CO2Emissions'\n",
        "PREPROC_TRIAL = 1\n",
        "MODELS_TRIAL = 1\n",
        "\n",
        "manager = PathManager(\n",
        "    COMPETITION_PATH,\n",
        "    PREPROC_TRIAL,\n",
        "    MODELS_TRIAL\n",
        ")\n",
        "\n",
        "manager.setup_paths()"
      ],
      "metadata": {
        "colab": {
          "base_uri": "https://localhost:8080/"
        },
        "id": "dSVn0D8VtZPl",
        "outputId": "60f1fe5a-fbb9-474c-812e-b7b7236a993b"
      },
      "execution_count": 114,
      "outputs": [
        {
          "output_type": "stream",
          "name": "stdout",
          "text": [
            "Drive already mounted at /content/gdrive; to attempt to forcibly remount, call drive.mount(\"/content/gdrive\", force_remount=True).\n",
            "/content/gdrive/MyDrive/ML/Competitions/8.CO2Emissions/Data/preproc_trial_1 already exists\n",
            "/content/gdrive/MyDrive/ML/Competitions/8.CO2Emissions/Models/trial_1 already exists\n"
          ]
        }
      ]
    },
    {
      "cell_type": "markdown",
      "source": [
        "# Download the data"
      ],
      "metadata": {
        "id": "YH4Wb3w6u-k7"
      }
    },
    {
      "cell_type": "code",
      "source": [
        "train = pd.read_csv(manager.train_path)"
      ],
      "metadata": {
        "id": "HDS63tuauaRl"
      },
      "execution_count": 115,
      "outputs": []
    },
    {
      "cell_type": "markdown",
      "source": [
        "# Quick look at the data"
      ],
      "metadata": {
        "id": "-6Yp8lxLvLWg"
      }
    },
    {
      "cell_type": "code",
      "source": [
        "train.shape"
      ],
      "metadata": {
        "colab": {
          "base_uri": "https://localhost:8080/"
        },
        "id": "8SoxXeZrvNTD",
        "outputId": "5363c7b2-3306-42a1-eafe-79bb3a90f7a4"
      },
      "execution_count": 116,
      "outputs": [
        {
          "output_type": "execute_result",
          "data": {
            "text/plain": [
              "(79023, 76)"
            ]
          },
          "metadata": {},
          "execution_count": 116
        }
      ]
    },
    {
      "cell_type": "code",
      "source": [
        "list(train.dtypes)"
      ],
      "metadata": {
        "colab": {
          "base_uri": "https://localhost:8080/"
        },
        "id": "NJVl--IAwiAN",
        "outputId": "46049c96-4e52-4cf8-aa81-83957679116b"
      },
      "execution_count": 117,
      "outputs": [
        {
          "output_type": "execute_result",
          "data": {
            "text/plain": [
              "[dtype('O'),\n",
              " dtype('float64'),\n",
              " dtype('float64'),\n",
              " dtype('int64'),\n",
              " dtype('int64'),\n",
              " dtype('float64'),\n",
              " dtype('float64'),\n",
              " dtype('float64'),\n",
              " dtype('float64'),\n",
              " dtype('float64'),\n",
              " dtype('float64'),\n",
              " dtype('float64'),\n",
              " dtype('float64'),\n",
              " dtype('float64'),\n",
              " dtype('float64'),\n",
              " dtype('float64'),\n",
              " dtype('float64'),\n",
              " dtype('float64'),\n",
              " dtype('float64'),\n",
              " dtype('float64'),\n",
              " dtype('float64'),\n",
              " dtype('float64'),\n",
              " dtype('float64'),\n",
              " dtype('float64'),\n",
              " dtype('float64'),\n",
              " dtype('float64'),\n",
              " dtype('float64'),\n",
              " dtype('float64'),\n",
              " dtype('float64'),\n",
              " dtype('float64'),\n",
              " dtype('float64'),\n",
              " dtype('float64'),\n",
              " dtype('float64'),\n",
              " dtype('float64'),\n",
              " dtype('float64'),\n",
              " dtype('float64'),\n",
              " dtype('float64'),\n",
              " dtype('float64'),\n",
              " dtype('float64'),\n",
              " dtype('float64'),\n",
              " dtype('float64'),\n",
              " dtype('float64'),\n",
              " dtype('float64'),\n",
              " dtype('float64'),\n",
              " dtype('float64'),\n",
              " dtype('float64'),\n",
              " dtype('float64'),\n",
              " dtype('float64'),\n",
              " dtype('float64'),\n",
              " dtype('float64'),\n",
              " dtype('float64'),\n",
              " dtype('float64'),\n",
              " dtype('float64'),\n",
              " dtype('float64'),\n",
              " dtype('float64'),\n",
              " dtype('float64'),\n",
              " dtype('float64'),\n",
              " dtype('float64'),\n",
              " dtype('float64'),\n",
              " dtype('float64'),\n",
              " dtype('float64'),\n",
              " dtype('float64'),\n",
              " dtype('float64'),\n",
              " dtype('float64'),\n",
              " dtype('float64'),\n",
              " dtype('float64'),\n",
              " dtype('float64'),\n",
              " dtype('float64'),\n",
              " dtype('float64'),\n",
              " dtype('float64'),\n",
              " dtype('float64'),\n",
              " dtype('float64'),\n",
              " dtype('float64'),\n",
              " dtype('float64'),\n",
              " dtype('float64'),\n",
              " dtype('float64')]"
            ]
          },
          "metadata": {},
          "execution_count": 117
        }
      ]
    },
    {
      "cell_type": "code",
      "source": [
        "train['emission'].hist(bins=1000)"
      ],
      "metadata": {
        "colab": {
          "base_uri": "https://localhost:8080/",
          "height": 448
        },
        "id": "TK-oh960wlx5",
        "outputId": "28cd86b5-c849-4a49-c200-4b1348a8c7c5"
      },
      "execution_count": 118,
      "outputs": [
        {
          "output_type": "execute_result",
          "data": {
            "text/plain": [
              "<Axes: >"
            ]
          },
          "metadata": {},
          "execution_count": 118
        },
        {
          "output_type": "display_data",
          "data": {
            "text/plain": [
              "<Figure size 640x480 with 1 Axes>"
            ],
            "image/png": "[encoded data removed]"
          },
          "metadata": {}
        }
      ]
    },
    {
      "cell_type": "code",
      "source": [
        "train['emission'].describe()"
      ],
      "metadata": {
        "colab": {
          "base_uri": "https://localhost:8080/"
        },
        "id": "yOAdi4e1wwt5",
        "outputId": "f0f69b13-7fae-4275-9e47-1a7ffce475d9"
      },
      "execution_count": 119,
      "outputs": [
        {
          "output_type": "execute_result",
          "data": {
            "text/plain": [
              "count    79023.000000\n",
              "mean        81.940552\n",
              "std        144.299648\n",
              "min          0.000000\n",
              "25%          9.797995\n",
              "50%         45.593445\n",
              "75%        109.549595\n",
              "max       3167.768000\n",
              "Name: emission, dtype: float64"
            ]
          },
          "metadata": {},
          "execution_count": 119
        }
      ]
    },
    {
      "cell_type": "code",
      "source": [
        "train.info()"
      ],
      "metadata": {
        "colab": {
          "base_uri": "https://localhost:8080/"
        },
        "id": "5NuY2l08z-EJ",
        "outputId": "1f71c2c2-96d1-4c4a-9e80-9b2db279cf5a"
      },
      "execution_count": 120,
      "outputs": [
        {
          "output_type": "stream",
          "name": "stdout",
          "text": [
            "<class 'pandas.core.frame.DataFrame'>\n",
            "RangeIndex: 79023 entries, 0 to 79022\n",
            "Data columns (total 76 columns):\n",
            " #   Column                                                    Non-Null Count  Dtype  \n",
            "---  ------                                                    --------------  -----  \n",
            " 0   ID_LAT_LON_YEAR_WEEK                                      79023 non-null  object \n",
            " 1   latitude                                                  79023 non-null  float64\n",
            " 2   longitude                                                 79023 non-null  float64\n",
            " 3   year                                                      79023 non-null  int64  \n",
            " 4   week_no                                                   79023 non-null  int64  \n",
            " 5   SulphurDioxide_SO2_column_number_density                  64414 non-null  float64\n",
            " 6   SulphurDioxide_SO2_column_number_density_amf              64414 non-null  float64\n",
            " 7   SulphurDioxide_SO2_slant_column_number_density            64414 non-null  float64\n",
            " 8   SulphurDioxide_cloud_fraction                             64414 non-null  float64\n",
            " 9   SulphurDioxide_sensor_azimuth_angle                       64414 non-null  float64\n",
            " 10  SulphurDioxide_sensor_zenith_angle                        64414 non-null  float64\n",
            " 11  SulphurDioxide_solar_azimuth_angle                        64414 non-null  float64\n",
            " 12  SulphurDioxide_solar_zenith_angle                         64414 non-null  float64\n",
            " 13  SulphurDioxide_SO2_column_number_density_15km             64414 non-null  float64\n",
            " 14  CarbonMonoxide_CO_column_number_density                   76901 non-null  float64\n",
            " 15  CarbonMonoxide_H2O_column_number_density                  76901 non-null  float64\n",
            " 16  CarbonMonoxide_cloud_height                               76901 non-null  float64\n",
            " 17  CarbonMonoxide_sensor_altitude                            76901 non-null  float64\n",
            " 18  CarbonMonoxide_sensor_azimuth_angle                       76901 non-null  float64\n",
            " 19  CarbonMonoxide_sensor_zenith_angle                        76901 non-null  float64\n",
            " 20  CarbonMonoxide_solar_azimuth_angle                        76901 non-null  float64\n",
            " 21  CarbonMonoxide_solar_zenith_angle                         76901 non-null  float64\n",
            " 22  NitrogenDioxide_NO2_column_number_density                 60703 non-null  float64\n",
            " 23  NitrogenDioxide_tropospheric_NO2_column_number_density    60703 non-null  float64\n",
            " 24  NitrogenDioxide_stratospheric_NO2_column_number_density   60703 non-null  float64\n",
            " 25  NitrogenDioxide_NO2_slant_column_number_density           60703 non-null  float64\n",
            " 26  NitrogenDioxide_tropopause_pressure                       60703 non-null  float64\n",
            " 27  NitrogenDioxide_absorbing_aerosol_index                   60703 non-null  float64\n",
            " 28  NitrogenDioxide_cloud_fraction                            60703 non-null  float64\n",
            " 29  NitrogenDioxide_sensor_altitude                           60703 non-null  float64\n",
            " 30  NitrogenDioxide_sensor_azimuth_angle                      60703 non-null  float64\n",
            " 31  NitrogenDioxide_sensor_zenith_angle                       60703 non-null  float64\n",
            " 32  NitrogenDioxide_solar_azimuth_angle                       60703 non-null  float64\n",
            " 33  NitrogenDioxide_solar_zenith_angle                        60703 non-null  float64\n",
            " 34  Formaldehyde_tropospheric_HCHO_column_number_density      71746 non-null  float64\n",
            " 35  Formaldehyde_tropospheric_HCHO_column_number_density_amf  71746 non-null  float64\n",
            " 36  Formaldehyde_HCHO_slant_column_number_density             71746 non-null  float64\n",
            " 37  Formaldehyde_cloud_fraction                               71746 non-null  float64\n",
            " 38  Formaldehyde_solar_zenith_angle                           71746 non-null  float64\n",
            " 39  Formaldehyde_solar_azimuth_angle                          71746 non-null  float64\n",
            " 40  Formaldehyde_sensor_zenith_angle                          71746 non-null  float64\n",
            " 41  Formaldehyde_sensor_azimuth_angle                         71746 non-null  float64\n",
            " 42  UvAerosolIndex_absorbing_aerosol_index                    78484 non-null  float64\n",
            " 43  UvAerosolIndex_sensor_altitude                            78484 non-null  float64\n",
            " 44  UvAerosolIndex_sensor_azimuth_angle                       78484 non-null  float64\n",
            " 45  UvAerosolIndex_sensor_zenith_angle                        78484 non-null  float64\n",
            " 46  UvAerosolIndex_solar_azimuth_angle                        78484 non-null  float64\n",
            " 47  UvAerosolIndex_solar_zenith_angle                         78484 non-null  float64\n",
            " 48  Ozone_O3_column_number_density                            78475 non-null  float64\n",
            " 49  Ozone_O3_column_number_density_amf                        78475 non-null  float64\n",
            " 50  Ozone_O3_slant_column_number_density                      78475 non-null  float64\n",
            " 51  Ozone_O3_effective_temperature                            78475 non-null  float64\n",
            " 52  Ozone_cloud_fraction                                      78475 non-null  float64\n",
            " 53  Ozone_sensor_azimuth_angle                                78475 non-null  float64\n",
            " 54  Ozone_sensor_zenith_angle                                 78475 non-null  float64\n",
            " 55  Ozone_solar_azimuth_angle                                 78475 non-null  float64\n",
            " 56  Ozone_solar_zenith_angle                                  78475 non-null  float64\n",
            " 57  UvAerosolLayerHeight_aerosol_height                       439 non-null    float64\n",
            " 58  UvAerosolLayerHeight_aerosol_pressure                     439 non-null    float64\n",
            " 59  UvAerosolLayerHeight_aerosol_optical_depth                439 non-null    float64\n",
            " 60  UvAerosolLayerHeight_sensor_zenith_angle                  439 non-null    float64\n",
            " 61  UvAerosolLayerHeight_sensor_azimuth_angle                 439 non-null    float64\n",
            " 62  UvAerosolLayerHeight_solar_azimuth_angle                  439 non-null    float64\n",
            " 63  UvAerosolLayerHeight_solar_zenith_angle                   439 non-null    float64\n",
            " 64  Cloud_cloud_fraction                                      78539 non-null  float64\n",
            " 65  Cloud_cloud_top_pressure                                  78539 non-null  float64\n",
            " 66  Cloud_cloud_top_height                                    78539 non-null  float64\n",
            " 67  Cloud_cloud_base_pressure                                 78539 non-null  float64\n",
            " 68  Cloud_cloud_base_height                                   78539 non-null  float64\n",
            " 69  Cloud_cloud_optical_depth                                 78539 non-null  float64\n",
            " 70  Cloud_surface_albedo                                      78539 non-null  float64\n",
            " 71  Cloud_sensor_azimuth_angle                                78539 non-null  float64\n",
            " 72  Cloud_sensor_zenith_angle                                 78539 non-null  float64\n",
            " 73  Cloud_solar_azimuth_angle                                 78539 non-null  float64\n",
            " 74  Cloud_solar_zenith_angle                                  78539 non-null  float64\n",
            " 75  emission                                                  79023 non-null  float64\n",
            "dtypes: float64(73), int64(2), object(1)\n",
            "memory usage: 45.8+ MB\n"
          ]
        }
      ]
    },
    {
      "cell_type": "markdown",
      "source": [
        "# Data cleaning"
      ],
      "metadata": {
        "id": "-41EvQ1Jw9yn"
      }
    },
    {
      "cell_type": "markdown",
      "source": [
        "## Remove outliers in the target"
      ],
      "metadata": {
        "id": "4D0KoNkCxbBN"
      }
    },
    {
      "cell_type": "code",
      "source": [
        "OUTLIER_THRESHOLD = 600\n",
        "\n",
        "print(train.shape)\n",
        "train = train.loc[\n",
        "    train['emission'] <= OUTLIER_THRESHOLD,\n",
        "    :\n",
        "]\n",
        "print(train.shape)"
      ],
      "metadata": {
        "colab": {
          "base_uri": "https://localhost:8080/"
        },
        "id": "zxyXLvZo61Jc",
        "outputId": "a05e552f-f6e3-44f1-b220-1cf54199e07b"
      },
      "execution_count": 121,
      "outputs": [
        {
          "output_type": "stream",
          "name": "stdout",
          "text": [
            "(79023, 76)\n",
            "(78693, 76)\n"
          ]
        }
      ]
    },
    {
      "cell_type": "code",
      "source": [
        "if 'ID_LAT_LON_YEAR_WEEK' in train.columns:\n",
        "    train.drop(['ID_LAT_LON_YEAR_WEEK'], axis='columns', inplace=True)\n",
        "assert 'ID_LAT_LON_YEAR_WEEK' not in train.columns"
      ],
      "metadata": {
        "id": "2JNtVr-5x_Qy"
      },
      "execution_count": 122,
      "outputs": []
    },
    {
      "cell_type": "markdown",
      "source": [
        "## Clean columns with high nan percentage"
      ],
      "metadata": {
        "id": "_mhF74hPzLtR"
      }
    },
    {
      "cell_type": "code",
      "source": [
        "NAN_PERCENTAGE = 0.2\n",
        "\n",
        "columns_to_remove = []\n",
        "for c in train.columns:\n",
        "    n_nans = train[c].isna().sum()\n",
        "    nan_percent = n_nans / train.shape[0]\n",
        "    if nan_percent >= NAN_PERCENTAGE:\n",
        "        columns_to_remove.append(c)\n",
        "\n",
        "print(train.shape)\n",
        "train.drop(columns_to_remove, axis='columns', inplace=True)\n",
        "print(train.shape)"
      ],
      "metadata": {
        "colab": {
          "base_uri": "https://localhost:8080/"
        },
        "id": "-npbfF9oybLA",
        "outputId": "fd971bb0-925c-4ae0-da4a-3988faf37500"
      },
      "execution_count": 123,
      "outputs": [
        {
          "output_type": "stream",
          "name": "stdout",
          "text": [
            "(78693, 75)\n",
            "(78693, 56)\n"
          ]
        }
      ]
    },
    {
      "cell_type": "markdown",
      "source": [
        "# Data split"
      ],
      "metadata": {
        "id": "eoVh-BOb0JNT"
      }
    },
    {
      "cell_type": "markdown",
      "source": [
        "## Split"
      ],
      "metadata": {
        "id": "J-I-lQ5U1KlS"
      }
    },
    {
      "cell_type": "code",
      "source": [
        "from sklearn.model_selection import train_test_split\n",
        "\n",
        "RANDOM_STATE = 42\n",
        "\n",
        "X = train.loc[:, train.columns != 'emission']\n",
        "Y = train['emission']\n",
        "print(X.shape, Y.shape)\n",
        "\n",
        "X_trainval, X_test, Y_trainval, Y_test = train_test_split(\n",
        "    X,\n",
        "    Y,\n",
        "    train_size=0.05,\n",
        "    random_state=RANDOM_STATE,\n",
        "    # stratify=Y\n",
        ")\n",
        "\n",
        "print(X_trainval.shape, Y_trainval.shape, X_test.shape, Y_test.shape)"
      ],
      "metadata": {
        "colab": {
          "base_uri": "https://localhost:8080/"
        },
        "id": "EaUE-90F0LKb",
        "outputId": "4550a16a-3dd9-4f3f-c493-c98ae5eb67cf"
      },
      "execution_count": 157,
      "outputs": [
        {
          "output_type": "stream",
          "name": "stdout",
          "text": [
            "(78693, 55) (78693,)\n",
            "(3934, 55) (3934,) (74759, 55) (74759,)\n"
          ]
        }
      ]
    },
    {
      "cell_type": "code",
      "source": [
        "from sklearn.model_selection import train_test_split\n",
        "\n",
        "X_train, X_val, Y_train, Y_val = train_test_split(\n",
        "    X_trainval,\n",
        "    Y_trainval,\n",
        "    train_size=0.8,\n",
        "    random_state=RANDOM_STATE\n",
        ")\n",
        "\n",
        "print(X_train.shape, X_val.shape, Y_train.shape, Y_val.shape)"
      ],
      "metadata": {
        "colab": {
          "base_uri": "https://localhost:8080/"
        },
        "id": "xIBajfHN4fDR",
        "outputId": "5e546c2f-93be-4acd-8b1c-7493cdf4be37"
      },
      "execution_count": 158,
      "outputs": [
        {
          "output_type": "stream",
          "name": "stdout",
          "text": [
            "(3147, 55) (787, 55) (3147,) (787,)\n"
          ]
        }
      ]
    },
    {
      "cell_type": "markdown",
      "source": [
        "## Check correct distribution"
      ],
      "metadata": {
        "id": "1SjbBYEf1L1Q"
      }
    },
    {
      "cell_type": "code",
      "source": [
        "type(X_trainval), type(X_train)"
      ],
      "metadata": {
        "colab": {
          "base_uri": "https://localhost:8080/"
        },
        "id": "MOa1oEuQ5SYN",
        "outputId": "2f428a3e-8e24-4d57-825e-2a33085b92dd"
      },
      "execution_count": 159,
      "outputs": [
        {
          "output_type": "execute_result",
          "data": {
            "text/plain": [
              "(pandas.core.frame.DataFrame, pandas.core.frame.DataFrame)"
            ]
          },
          "metadata": {},
          "execution_count": 159
        }
      ]
    },
    {
      "cell_type": "code",
      "source": [
        "OUTLIER_THRESHOLD = 600\n",
        "\n",
        "_, ax = plt.subplots()\n",
        "params = dict(bins=500, density=True, alpha=0.5)\n",
        "_ = ax.hist(Y_trainval[Y_trainval <= OUTLIER_THRESHOLD], **params, label='trainval')\n",
        "_ = ax.hist(Y_train[Y_train <= OUTLIER_THRESHOLD], **params, label='train')\n",
        "_ = ax.hist(Y_val[Y_val <= OUTLIER_THRESHOLD], **params, label='val')\n",
        "_ = ax.hist(Y_test[Y_test <= OUTLIER_THRESHOLD], **params, label='test')\n",
        "\n",
        "ax.legend()"
      ],
      "metadata": {
        "colab": {
          "base_uri": "https://localhost:8080/",
          "height": 448
        },
        "id": "Y42txBZo1NpJ",
        "outputId": "aff2bd99-9104-4036-b1fc-d8d82be4e917"
      },
      "execution_count": 160,
      "outputs": [
        {
          "output_type": "execute_result",
          "data": {
            "text/plain": [
              "<matplotlib.legend.Legend at 0x7b9c15cfcca0>"
            ]
          },
          "metadata": {},
          "execution_count": 160
        },
        {
          "output_type": "display_data",
          "data": {
            "text/plain": [
              "<Figure size 640x480 with 1 Axes>"
            ],
            "image/png": "[encoded data removed]"
          },
          "metadata": {}
        }
      ]
    },
    {
      "cell_type": "markdown",
      "source": [
        "# Data processing pipeline"
      ],
      "metadata": {
        "id": "bDKedOcP7ZTS"
      }
    },
    {
      "cell_type": "code",
      "source": [
        "num_columns = X_train.columns.to_list()\n",
        "num_pipeline = make_pipeline(\n",
        "    SimpleImputer(strategy='median'),\n",
        "    StandardScaler()\n",
        ")\n",
        "\n",
        "cat_columns = []\n",
        "cat_pipeline = make_pipeline()\n",
        "\n",
        "\n",
        "preprocessor = ColumnTransformer(\n",
        "    transformers = [\n",
        "        ('num', num_pipeline, num_columns),\n",
        "    ]\n",
        ")"
      ],
      "metadata": {
        "id": "ypn5Xb_D7dwS"
      },
      "execution_count": 161,
      "outputs": []
    },
    {
      "cell_type": "markdown",
      "source": [
        "# Model pipeline"
      ],
      "metadata": {
        "id": "3Q61zKTH9SAl"
      }
    },
    {
      "cell_type": "code",
      "source": [
        "from sklearn.svm import SVR\n",
        "from sklearn.ensemble import RandomForestRegressor\n",
        "\n",
        "\n",
        "pipeline = make_pipeline(\n",
        "    preprocessor,\n",
        "    RandomForestRegressor()  # SVR()\n",
        ")"
      ],
      "metadata": {
        "id": "LfvX5pbu9Ueq"
      },
      "execution_count": 129,
      "outputs": []
    },
    {
      "cell_type": "code",
      "source": [
        "pipeline.fit(X_train, Y_train)"
      ],
      "metadata": {
        "colab": {
          "base_uri": "https://localhost:8080/",
          "height": 223
        },
        "id": "crg6loqF9qHk",
        "outputId": "4315b79a-ccbe-41fc-890e-6396e3567270"
      },
      "execution_count": 130,
      "outputs": [
        {
          "output_type": "execute_result",
          "data": {
            "text/plain": [
              "Pipeline(steps=[('columntransformer',\n",
              "                 ColumnTransformer(transformers=[('num',\n",
              "                                                  Pipeline(steps=[('simpleimputer',\n",
              "                                                                   SimpleImputer(strategy='median')),\n",
              "                                                                  ('standardscaler',\n",
              "                                                                   StandardScaler())]),\n",
              "                                                  ['latitude', 'longitude',\n",
              "                                                   'year', 'week_no',\n",
              "                                                   'SulphurDioxide_SO2_column_number_density',\n",
              "                                                   'SulphurDioxide_SO2_column_number_density_amf',\n",
              "                                                   'SulphurDioxide_SO2_slant_column_numbe...\n",
              "                                                   'Formaldehyde_tropospheric_HCHO_column_number_density_amf',\n",
              "                                                   'Formaldehyde_HCHO_slant_column_number_density',\n",
              "                                                   'Formaldehyde_cloud_fraction',\n",
              "                                                   'Formaldehyde_solar_zenith_angle',\n",
              "                                                   'Formaldehyde_solar_azimuth_angle',\n",
              "                                                   'Formaldehyde_sensor_zenith_angle',\n",
              "                                                   'Formaldehyde_sensor_azimuth_angle',\n",
              "                                                   'UvAerosolIndex_absorbing_aerosol_index', ...])])),\n",
              "                ('randomforestregressor', RandomForestRegressor())])"
            ],
            "text/html": [
              "<style>#sk-container-id-2 {color: black;background-color: white;}#sk-container-id-2 pre{padding: 0;}#sk-container-id-2 div.sk-toggleable {background-color: white;}#sk-container-id-2 label.sk-toggleable__label {cursor: pointer;display: block;width: 100%;margin-bottom: 0;padding: 0.3em;box-sizing: border-box;text-align: center;}#sk-container-id-2 label.sk-toggleable__label-arrow:before {content: \"▸\";float: left;margin-right: 0.25em;color: #696969;}#sk-container-id-2 label.sk-toggleable__label-arrow:hover:before {color: black;}#sk-container-id-2 div.sk-estimator:hover label.sk-toggleable__label-arrow:before {color: black;}#sk-container-id-2 div.sk-toggleable__content {max-height: 0;max-width: 0;overflow: hidden;text-align: left;background-color: #f0f8ff;}#sk-container-id-2 div.sk-toggleable__content pre {margin: 0.2em;color: black;border-radius: 0.25em;background-color: #f0f8ff;}#sk-container-id-2 input.sk-toggleable__control:checked~div.sk-toggleable__content {max-height: 200px;max-width: 100%;overflow: auto;}#sk-container-id-2 input.sk-toggleable__control:checked~label.sk-toggleable__label-arrow:before {content: \"▾\";}#sk-container-id-2 div.sk-estimator input.sk-toggleable__control:checked~label.sk-toggleable__label {background-color: #d4ebff;}#sk-container-id-2 div.sk-label input.sk-toggleable__control:checked~label.sk-toggleable__label {background-color: #d4ebff;}#sk-container-id-2 input.sk-hidden--visually {border: 0;clip: rect(1px 1px 1px 1px);clip: rect(1px, 1px, 1px, 1px);height: 1px;margin: -1px;overflow: hidden;padding: 0;position: absolute;width: 1px;}#sk-container-id-2 div.sk-estimator {font-family: monospace;background-color: #f0f8ff;border: 1px dotted black;border-radius: 0.25em;box-sizing: border-box;margin-bottom: 0.5em;}#sk-container-id-2 div.sk-estimator:hover {background-color: #d4ebff;}#sk-container-id-2 div.sk-parallel-item::after {content: \"\";width: 100%;border-bottom: 1px solid gray;flex-grow: 1;}#sk-container-id-2 div.sk-label:hover label.sk-toggleable__label {background-color: #d4ebff;}#sk-container-id-2 div.sk-serial::before {content: \"\";position: absolute;border-left: 1px solid gray;box-sizing: border-box;top: 0;bottom: 0;left: 50%;z-index: 0;}#sk-container-id-2 div.sk-serial {display: flex;flex-direction: column;align-items: center;background-color: white;padding-right: 0.2em;padding-left: 0.2em;position: relative;}#sk-container-id-2 div.sk-item {position: relative;z-index: 1;}#sk-container-id-2 div.sk-parallel {display: flex;align-items: stretch;justify-content: center;background-color: white;position: relative;}#sk-container-id-2 div.sk-item::before, #sk-container-id-2 div.sk-parallel-item::before {content: \"\";position: absolute;border-left: 1px solid gray;box-sizing: border-box;top: 0;bottom: 0;left: 50%;z-index: -1;}#sk-container-id-2 div.sk-parallel-item {display: flex;flex-direction: column;z-index: 1;position: relative;background-color: white;}#sk-container-id-2 div.sk-parallel-item:first-child::after {align-self: flex-end;width: 50%;}#sk-container-id-2 div.sk-parallel-item:last-child::after {align-self: flex-start;width: 50%;}#sk-container-id-2 div.sk-parallel-item:only-child::after {width: 0;}#sk-container-id-2 div.sk-dashed-wrapped {border: 1px dashed gray;margin: 0 0.4em 0.5em 0.4em;box-sizing: border-box;padding-bottom: 0.4em;background-color: white;}#sk-container-id-2 div.sk-label label {font-family: monospace;font-weight: bold;display: inline-block;line-height: 1.2em;}#sk-container-id-2 div.sk-label-container {text-align: center;}#sk-container-id-2 div.sk-container {/* jupyter's `normalize.less` sets `[hidden] { display: none; }` but bootstrap.min.css set `[hidden] { display: none !important; }` so we also need the `!important` here to be able to override the default hidden behavior on the sphinx rendered scikit-learn.org. See: https://github.com/scikit-learn/scikit-learn/issues/21755 */display: inline-block !important;position: relative;}#sk-container-id-2 div.sk-text-repr-fallback {display: none;}</style><div id=\"sk-container-id-2\" class=\"sk-top-container\"><div class=\"sk-text-repr-fallback\"><pre>Pipeline(steps=[(&#x27;columntransformer&#x27;,\n",
              "                 ColumnTransformer(transformers=[(&#x27;num&#x27;,\n",
              "                                                  Pipeline(steps=[(&#x27;simpleimputer&#x27;,\n",
              "                                                                   SimpleImputer(strategy=&#x27;median&#x27;)),\n",
              "                                                                  (&#x27;standardscaler&#x27;,\n",
              "                                                                   StandardScaler())]),\n",
              "                                                  [&#x27;latitude&#x27;, &#x27;longitude&#x27;,\n",
              "                                                   &#x27;year&#x27;, &#x27;week_no&#x27;,\n",
              "                                                   &#x27;SulphurDioxide_SO2_column_number_density&#x27;,\n",
              "                                                   &#x27;SulphurDioxide_SO2_column_number_density_amf&#x27;,\n",
              "                                                   &#x27;SulphurDioxide_SO2_slant_column_numbe...\n",
              "                                                   &#x27;Formaldehyde_tropospheric_HCHO_column_number_density_amf&#x27;,\n",
              "                                                   &#x27;Formaldehyde_HCHO_slant_column_number_density&#x27;,\n",
              "                                                   &#x27;Formaldehyde_cloud_fraction&#x27;,\n",
              "                                                   &#x27;Formaldehyde_solar_zenith_angle&#x27;,\n",
              "                                                   &#x27;Formaldehyde_solar_azimuth_angle&#x27;,\n",
              "                                                   &#x27;Formaldehyde_sensor_zenith_angle&#x27;,\n",
              "                                                   &#x27;Formaldehyde_sensor_azimuth_angle&#x27;,\n",
              "                                                   &#x27;UvAerosolIndex_absorbing_aerosol_index&#x27;, ...])])),\n",
              "                (&#x27;randomforestregressor&#x27;, RandomForestRegressor())])</pre><b>In a Jupyter environment, please rerun this cell to show the HTML representation or trust the notebook. <br />On GitHub, the HTML representation is unable to render, please try loading this page with nbviewer.org.</b></div><div class=\"sk-container\" hidden><div class=\"sk-item sk-dashed-wrapped\"><div class=\"sk-label-container\"><div class=\"sk-label sk-toggleable\"><input class=\"sk-toggleable__control sk-hidden--visually\" id=\"sk-estimator-id-7\" type=\"checkbox\" ><label for=\"sk-estimator-id-7\" class=\"sk-toggleable__label sk-toggleable__label-arrow\">Pipeline</label><div class=\"sk-toggleable__content\"><pre>Pipeline(steps=[(&#x27;columntransformer&#x27;,\n",
              "                 ColumnTransformer(transformers=[(&#x27;num&#x27;,\n",
              "                                                  Pipeline(steps=[(&#x27;simpleimputer&#x27;,\n",
              "                                                                   SimpleImputer(strategy=&#x27;median&#x27;)),\n",
              "                                                                  (&#x27;standardscaler&#x27;,\n",
              "                                                                   StandardScaler())]),\n",
              "                                                  [&#x27;latitude&#x27;, &#x27;longitude&#x27;,\n",
              "                                                   &#x27;year&#x27;, &#x27;week_no&#x27;,\n",
              "                                                   &#x27;SulphurDioxide_SO2_column_number_density&#x27;,\n",
              "                                                   &#x27;SulphurDioxide_SO2_column_number_density_amf&#x27;,\n",
              "                                                   &#x27;SulphurDioxide_SO2_slant_column_numbe...\n",
              "                                                   &#x27;Formaldehyde_tropospheric_HCHO_column_number_density_amf&#x27;,\n",
              "                                                   &#x27;Formaldehyde_HCHO_slant_column_number_density&#x27;,\n",
              "                                                   &#x27;Formaldehyde_cloud_fraction&#x27;,\n",
              "                                                   &#x27;Formaldehyde_solar_zenith_angle&#x27;,\n",
              "                                                   &#x27;Formaldehyde_solar_azimuth_angle&#x27;,\n",
              "                                                   &#x27;Formaldehyde_sensor_zenith_angle&#x27;,\n",
              "                                                   &#x27;Formaldehyde_sensor_azimuth_angle&#x27;,\n",
              "                                                   &#x27;UvAerosolIndex_absorbing_aerosol_index&#x27;, ...])])),\n",
              "                (&#x27;randomforestregressor&#x27;, RandomForestRegressor())])</pre></div></div></div><div class=\"sk-serial\"><div class=\"sk-item sk-dashed-wrapped\"><div class=\"sk-label-container\"><div class=\"sk-label sk-toggleable\"><input class=\"sk-toggleable__control sk-hidden--visually\" id=\"sk-estimator-id-8\" type=\"checkbox\" ><label for=\"sk-estimator-id-8\" class=\"sk-toggleable__label sk-toggleable__label-arrow\">columntransformer: ColumnTransformer</label><div class=\"sk-toggleable__content\"><pre>ColumnTransformer(transformers=[(&#x27;num&#x27;,\n",
              "                                 Pipeline(steps=[(&#x27;simpleimputer&#x27;,\n",
              "                                                  SimpleImputer(strategy=&#x27;median&#x27;)),\n",
              "                                                 (&#x27;standardscaler&#x27;,\n",
              "                                                  StandardScaler())]),\n",
              "                                 [&#x27;latitude&#x27;, &#x27;longitude&#x27;, &#x27;year&#x27;, &#x27;week_no&#x27;,\n",
              "                                  &#x27;SulphurDioxide_SO2_column_number_density&#x27;,\n",
              "                                  &#x27;SulphurDioxide_SO2_column_number_density_amf&#x27;,\n",
              "                                  &#x27;SulphurDioxide_SO2_slant_column_number_density&#x27;,\n",
              "                                  &#x27;SulphurDioxide_cloud_frac...\n",
              "                                  &#x27;Formaldehyde_tropospheric_HCHO_column_number_density&#x27;,\n",
              "                                  &#x27;Formaldehyde_tropospheric_HCHO_column_number_density_amf&#x27;,\n",
              "                                  &#x27;Formaldehyde_HCHO_slant_column_number_density&#x27;,\n",
              "                                  &#x27;Formaldehyde_cloud_fraction&#x27;,\n",
              "                                  &#x27;Formaldehyde_solar_zenith_angle&#x27;,\n",
              "                                  &#x27;Formaldehyde_solar_azimuth_angle&#x27;,\n",
              "                                  &#x27;Formaldehyde_sensor_zenith_angle&#x27;,\n",
              "                                  &#x27;Formaldehyde_sensor_azimuth_angle&#x27;,\n",
              "                                  &#x27;UvAerosolIndex_absorbing_aerosol_index&#x27;, ...])])</pre></div></div></div><div class=\"sk-parallel\"><div class=\"sk-parallel-item\"><div class=\"sk-item\"><div class=\"sk-label-container\"><div class=\"sk-label sk-toggleable\"><input class=\"sk-toggleable__control sk-hidden--visually\" id=\"sk-estimator-id-9\" type=\"checkbox\" ><label for=\"sk-estimator-id-9\" class=\"sk-toggleable__label sk-toggleable__label-arrow\">num</label><div class=\"sk-toggleable__content\"><pre>[&#x27;latitude&#x27;, &#x27;longitude&#x27;, &#x27;year&#x27;, &#x27;week_no&#x27;, &#x27;SulphurDioxide_SO2_column_number_density&#x27;, &#x27;SulphurDioxide_SO2_column_number_density_amf&#x27;, &#x27;SulphurDioxide_SO2_slant_column_number_density&#x27;, &#x27;SulphurDioxide_cloud_fraction&#x27;, &#x27;SulphurDioxide_sensor_azimuth_angle&#x27;, &#x27;SulphurDioxide_sensor_zenith_angle&#x27;, &#x27;SulphurDioxide_solar_azimuth_angle&#x27;, &#x27;SulphurDioxide_solar_zenith_angle&#x27;, &#x27;SulphurDioxide_SO2_column_number_density_15km&#x27;, &#x27;CarbonMonoxide_CO_column_number_density&#x27;, &#x27;CarbonMonoxide_H2O_column_number_density&#x27;, &#x27;CarbonMonoxide_cloud_height&#x27;, &#x27;CarbonMonoxide_sensor_altitude&#x27;, &#x27;CarbonMonoxide_sensor_azimuth_angle&#x27;, &#x27;CarbonMonoxide_sensor_zenith_angle&#x27;, &#x27;CarbonMonoxide_solar_azimuth_angle&#x27;, &#x27;CarbonMonoxide_solar_zenith_angle&#x27;, &#x27;Formaldehyde_tropospheric_HCHO_column_number_density&#x27;, &#x27;Formaldehyde_tropospheric_HCHO_column_number_density_amf&#x27;, &#x27;Formaldehyde_HCHO_slant_column_number_density&#x27;, &#x27;Formaldehyde_cloud_fraction&#x27;, &#x27;Formaldehyde_solar_zenith_angle&#x27;, &#x27;Formaldehyde_solar_azimuth_angle&#x27;, &#x27;Formaldehyde_sensor_zenith_angle&#x27;, &#x27;Formaldehyde_sensor_azimuth_angle&#x27;, &#x27;UvAerosolIndex_absorbing_aerosol_index&#x27;, &#x27;UvAerosolIndex_sensor_altitude&#x27;, &#x27;UvAerosolIndex_sensor_azimuth_angle&#x27;, &#x27;UvAerosolIndex_sensor_zenith_angle&#x27;, &#x27;UvAerosolIndex_solar_azimuth_angle&#x27;, &#x27;UvAerosolIndex_solar_zenith_angle&#x27;, &#x27;Ozone_O3_column_number_density&#x27;, &#x27;Ozone_O3_column_number_density_amf&#x27;, &#x27;Ozone_O3_slant_column_number_density&#x27;, &#x27;Ozone_O3_effective_temperature&#x27;, &#x27;Ozone_cloud_fraction&#x27;, &#x27;Ozone_sensor_azimuth_angle&#x27;, &#x27;Ozone_sensor_zenith_angle&#x27;, &#x27;Ozone_solar_azimuth_angle&#x27;, &#x27;Ozone_solar_zenith_angle&#x27;, &#x27;Cloud_cloud_fraction&#x27;, &#x27;Cloud_cloud_top_pressure&#x27;, &#x27;Cloud_cloud_top_height&#x27;, &#x27;Cloud_cloud_base_pressure&#x27;, &#x27;Cloud_cloud_base_height&#x27;, &#x27;Cloud_cloud_optical_depth&#x27;, &#x27;Cloud_surface_albedo&#x27;, &#x27;Cloud_sensor_azimuth_angle&#x27;, &#x27;Cloud_sensor_zenith_angle&#x27;, &#x27;Cloud_solar_azimuth_angle&#x27;, &#x27;Cloud_solar_zenith_angle&#x27;]</pre></div></div></div><div class=\"sk-serial\"><div class=\"sk-item\"><div class=\"sk-serial\"><div class=\"sk-item\"><div class=\"sk-estimator sk-toggleable\"><input class=\"sk-toggleable__control sk-hidden--visually\" id=\"sk-estimator-id-10\" type=\"checkbox\" ><label for=\"sk-estimator-id-10\" class=\"sk-toggleable__label sk-toggleable__label-arrow\">SimpleImputer</label><div class=\"sk-toggleable__content\"><pre>SimpleImputer(strategy=&#x27;median&#x27;)</pre></div></div></div><div class=\"sk-item\"><div class=\"sk-estimator sk-toggleable\"><input class=\"sk-toggleable__control sk-hidden--visually\" id=\"sk-estimator-id-11\" type=\"checkbox\" ><label for=\"sk-estimator-id-11\" class=\"sk-toggleable__label sk-toggleable__label-arrow\">StandardScaler</label><div class=\"sk-toggleable__content\"><pre>StandardScaler()</pre></div></div></div></div></div></div></div></div></div></div><div class=\"sk-item\"><div class=\"sk-estimator sk-toggleable\"><input class=\"sk-toggleable__control sk-hidden--visually\" id=\"sk-estimator-id-12\" type=\"checkbox\" ><label for=\"sk-estimator-id-12\" class=\"sk-toggleable__label sk-toggleable__label-arrow\">RandomForestRegressor</label><div class=\"sk-toggleable__content\"><pre>RandomForestRegressor()</pre></div></div></div></div></div></div></div>"
            ]
          },
          "metadata": {},
          "execution_count": 130
        }
      ]
    },
    {
      "cell_type": "code",
      "source": [
        "mean_squared_error(\n",
        "    pipeline.predict(X_train),\n",
        "    Y_train\n",
        ")"
      ],
      "metadata": {
        "colab": {
          "base_uri": "https://localhost:8080/"
        },
        "id": "XhWAvCtcBqjw",
        "outputId": "a8780421-140c-43af-ca87-e1a93b07fdb2"
      },
      "execution_count": 131,
      "outputs": [
        {
          "output_type": "execute_result",
          "data": {
            "text/plain": [
              "89.74190171681981"
            ]
          },
          "metadata": {},
          "execution_count": 131
        }
      ]
    },
    {
      "cell_type": "code",
      "source": [
        "X_train.shape, X_val.shape"
      ],
      "metadata": {
        "colab": {
          "base_uri": "https://localhost:8080/"
        },
        "id": "VShAtNoaB1Up",
        "outputId": "b838603d-a221-430d-b7e3-41474abc98c6"
      },
      "execution_count": 133,
      "outputs": [
        {
          "output_type": "execute_result",
          "data": {
            "text/plain": [
              "((12590, 55), (3148, 55))"
            ]
          },
          "metadata": {},
          "execution_count": 133
        }
      ]
    },
    {
      "cell_type": "code",
      "source": [
        "mean_squared_error(\n",
        "    pipeline.predict(X_val),\n",
        "    Y_val\n",
        ")"
      ],
      "metadata": {
        "colab": {
          "base_uri": "https://localhost:8080/"
        },
        "id": "z32e4fDFBv-8",
        "outputId": "d7dcd890-df7f-4943-e8cd-97ea0642abb7"
      },
      "execution_count": 132,
      "outputs": [
        {
          "output_type": "execute_result",
          "data": {
            "text/plain": [
              "619.6212820077898"
            ]
          },
          "metadata": {},
          "execution_count": 132
        }
      ]
    },
    {
      "cell_type": "markdown",
      "source": [
        "# Cross validation gridsearch pipeline"
      ],
      "metadata": {
        "id": "eGOtcZjTBZQx"
      }
    },
    {
      "cell_type": "code",
      "source": [
        "type(X_train)"
      ],
      "metadata": {
        "colab": {
          "base_uri": "https://localhost:8080/"
        },
        "id": "lYVH5w3xCczf",
        "outputId": "7f7b12e3-6c10-4407-c15b-ce078dd59ff4"
      },
      "execution_count": 162,
      "outputs": [
        {
          "output_type": "execute_result",
          "data": {
            "text/plain": [
              "pandas.core.frame.DataFrame"
            ]
          },
          "metadata": {},
          "execution_count": 162
        }
      ]
    },
    {
      "cell_type": "code",
      "source": [
        "from sklearn.pipeline import make_pipeline\n",
        "from sklearn.impute import SimpleImputer\n",
        "from sklearn.preprocessing import StandardScaler\n",
        "from sklearn.compose import ColumnTransformer\n",
        "\n",
        "\n",
        "num_columns = X_train.columns.to_list()\n",
        "num_pipeline = make_pipeline(\n",
        "    SimpleImputer(strategy='median'),\n",
        "    StandardScaler()\n",
        ")\n",
        "\n",
        "preprocessor = ColumnTransformer(\n",
        "    transformers=[\n",
        "        ('num', num_pipeline, num_columns)\n",
        "    ]\n",
        ")"
      ],
      "metadata": {
        "id": "uQ-FUQwlBc2A"
      },
      "execution_count": 163,
      "outputs": []
    },
    {
      "cell_type": "code",
      "source": [
        "from sklearn.model_selection import GridSearchCV\n",
        "from sklearn.ensemble import RandomForestRegressor\n",
        "\n",
        "model = GridSearchCV(\n",
        "    estimator=RandomForestRegressor(),\n",
        "    param_grid={\n",
        "        'n_estimators': [100, 500],\n",
        "        # 'max_depth': [-1, 3]\n",
        "    },\n",
        "    scoring='neg_mean_squared_error',\n",
        "    n_jobs=-1,\n",
        "    refit=True,\n",
        "    cv=2,\n",
        "    verbose=2,\n",
        "    # return_train_score=True\n",
        ")\n",
        "\n",
        "pipeline = make_pipeline(\n",
        "    preprocessor,\n",
        "    model\n",
        ")"
      ],
      "metadata": {
        "id": "LpZkV7WpDZqm"
      },
      "execution_count": 174,
      "outputs": []
    },
    {
      "cell_type": "code",
      "source": [
        "pipeline.fit(\n",
        "    X_train,\n",
        "    Y_train,\n",
        ")"
      ],
      "metadata": {
        "colab": {
          "base_uri": "https://localhost:8080/",
          "height": 305
        },
        "id": "rPEQQDGcD_3M",
        "outputId": "1ea1b79d-b4fb-4dd4-c90d-f49a9d0a8494"
      },
      "execution_count": 175,
      "outputs": [
        {
          "output_type": "stream",
          "name": "stdout",
          "text": [
            "Fitting 2 folds for each of 2 candidates, totalling 4 fits\n"
          ]
        },
        {
          "output_type": "execute_result",
          "data": {
            "text/plain": [
              "Pipeline(steps=[('columntransformer',\n",
              "                 ColumnTransformer(transformers=[('num',\n",
              "                                                  Pipeline(steps=[('simpleimputer',\n",
              "                                                                   SimpleImputer(strategy='median')),\n",
              "                                                                  ('standardscaler',\n",
              "                                                                   StandardScaler())]),\n",
              "                                                  ['latitude', 'longitude',\n",
              "                                                   'year', 'week_no',\n",
              "                                                   'SulphurDioxide_SO2_column_number_density',\n",
              "                                                   'SulphurDioxide_SO2_column_number_density_amf',\n",
              "                                                   'SulphurDioxide_SO2_slant_column_numbe...\n",
              "                                                   'Formaldehyde_solar_zenith_angle',\n",
              "                                                   'Formaldehyde_solar_azimuth_angle',\n",
              "                                                   'Formaldehyde_sensor_zenith_angle',\n",
              "                                                   'Formaldehyde_sensor_azimuth_angle',\n",
              "                                                   'UvAerosolIndex_absorbing_aerosol_index', ...])])),\n",
              "                ('gridsearchcv',\n",
              "                 GridSearchCV(cv=2, estimator=RandomForestRegressor(),\n",
              "                              n_jobs=-1,\n",
              "                              param_grid={'n_estimators': [100, 500]},\n",
              "                              scoring='neg_mean_squared_error', verbose=2))])"
            ],
            "text/html": [
              "<style>#sk-container-id-5 {color: black;background-color: white;}#sk-container-id-5 pre{padding: 0;}#sk-container-id-5 div.sk-toggleable {background-color: white;}#sk-container-id-5 label.sk-toggleable__label {cursor: pointer;display: block;width: 100%;margin-bottom: 0;padding: 0.3em;box-sizing: border-box;text-align: center;}#sk-container-id-5 label.sk-toggleable__label-arrow:before {content: \"▸\";float: left;margin-right: 0.25em;color: #696969;}#sk-container-id-5 label.sk-toggleable__label-arrow:hover:before {color: black;}#sk-container-id-5 div.sk-estimator:hover label.sk-toggleable__label-arrow:before {color: black;}#sk-container-id-5 div.sk-toggleable__content {max-height: 0;max-width: 0;overflow: hidden;text-align: left;background-color: #f0f8ff;}#sk-container-id-5 div.sk-toggleable__content pre {margin: 0.2em;color: black;border-radius: 0.25em;background-color: #f0f8ff;}#sk-container-id-5 input.sk-toggleable__control:checked~div.sk-toggleable__content {max-height: 200px;max-width: 100%;overflow: auto;}#sk-container-id-5 input.sk-toggleable__control:checked~label.sk-toggleable__label-arrow:before {content: \"▾\";}#sk-container-id-5 div.sk-estimator input.sk-toggleable__control:checked~label.sk-toggleable__label {background-color: #d4ebff;}#sk-container-id-5 div.sk-label input.sk-toggleable__control:checked~label.sk-toggleable__label {background-color: #d4ebff;}#sk-container-id-5 input.sk-hidden--visually {border: 0;clip: rect(1px 1px 1px 1px);clip: rect(1px, 1px, 1px, 1px);height: 1px;margin: -1px;overflow: hidden;padding: 0;position: absolute;width: 1px;}#sk-container-id-5 div.sk-estimator {font-family: monospace;background-color: #f0f8ff;border: 1px dotted black;border-radius: 0.25em;box-sizing: border-box;margin-bottom: 0.5em;}#sk-container-id-5 div.sk-estimator:hover {background-color: #d4ebff;}#sk-container-id-5 div.sk-parallel-item::after {content: \"\";width: 100%;border-bottom: 1px solid gray;flex-grow: 1;}#sk-container-id-5 div.sk-label:hover label.sk-toggleable__label {background-color: #d4ebff;}#sk-container-id-5 div.sk-serial::before {content: \"\";position: absolute;border-left: 1px solid gray;box-sizing: border-box;top: 0;bottom: 0;left: 50%;z-index: 0;}#sk-container-id-5 div.sk-serial {display: flex;flex-direction: column;align-items: center;background-color: white;padding-right: 0.2em;padding-left: 0.2em;position: relative;}#sk-container-id-5 div.sk-item {position: relative;z-index: 1;}#sk-container-id-5 div.sk-parallel {display: flex;align-items: stretch;justify-content: center;background-color: white;position: relative;}#sk-container-id-5 div.sk-item::before, #sk-container-id-5 div.sk-parallel-item::before {content: \"\";position: absolute;border-left: 1px solid gray;box-sizing: border-box;top: 0;bottom: 0;left: 50%;z-index: -1;}#sk-container-id-5 div.sk-parallel-item {display: flex;flex-direction: column;z-index: 1;position: relative;background-color: white;}#sk-container-id-5 div.sk-parallel-item:first-child::after {align-self: flex-end;width: 50%;}#sk-container-id-5 div.sk-parallel-item:last-child::after {align-self: flex-start;width: 50%;}#sk-container-id-5 div.sk-parallel-item:only-child::after {width: 0;}#sk-container-id-5 div.sk-dashed-wrapped {border: 1px dashed gray;margin: 0 0.4em 0.5em 0.4em;box-sizing: border-box;padding-bottom: 0.4em;background-color: white;}#sk-container-id-5 div.sk-label label {font-family: monospace;font-weight: bold;display: inline-block;line-height: 1.2em;}#sk-container-id-5 div.sk-label-container {text-align: center;}#sk-container-id-5 div.sk-container {/* jupyter's `normalize.less` sets `[hidden] { display: none; }` but bootstrap.min.css set `[hidden] { display: none !important; }` so we also need the `!important` here to be able to override the default hidden behavior on the sphinx rendered scikit-learn.org. See: https://github.com/scikit-learn/scikit-learn/issues/21755 */display: inline-block !important;position: relative;}#sk-container-id-5 div.sk-text-repr-fallback {display: none;}</style><div id=\"sk-container-id-5\" class=\"sk-top-container\"><div class=\"sk-text-repr-fallback\"><pre>Pipeline(steps=[(&#x27;columntransformer&#x27;,\n",
              "                 ColumnTransformer(transformers=[(&#x27;num&#x27;,\n",
              "                                                  Pipeline(steps=[(&#x27;simpleimputer&#x27;,\n",
              "                                                                   SimpleImputer(strategy=&#x27;median&#x27;)),\n",
              "                                                                  (&#x27;standardscaler&#x27;,\n",
              "                                                                   StandardScaler())]),\n",
              "                                                  [&#x27;latitude&#x27;, &#x27;longitude&#x27;,\n",
              "                                                   &#x27;year&#x27;, &#x27;week_no&#x27;,\n",
              "                                                   &#x27;SulphurDioxide_SO2_column_number_density&#x27;,\n",
              "                                                   &#x27;SulphurDioxide_SO2_column_number_density_amf&#x27;,\n",
              "                                                   &#x27;SulphurDioxide_SO2_slant_column_numbe...\n",
              "                                                   &#x27;Formaldehyde_solar_zenith_angle&#x27;,\n",
              "                                                   &#x27;Formaldehyde_solar_azimuth_angle&#x27;,\n",
              "                                                   &#x27;Formaldehyde_sensor_zenith_angle&#x27;,\n",
              "                                                   &#x27;Formaldehyde_sensor_azimuth_angle&#x27;,\n",
              "                                                   &#x27;UvAerosolIndex_absorbing_aerosol_index&#x27;, ...])])),\n",
              "                (&#x27;gridsearchcv&#x27;,\n",
              "                 GridSearchCV(cv=2, estimator=RandomForestRegressor(),\n",
              "                              n_jobs=-1,\n",
              "                              param_grid={&#x27;n_estimators&#x27;: [100, 500]},\n",
              "                              scoring=&#x27;neg_mean_squared_error&#x27;, verbose=2))])</pre><b>In a Jupyter environment, please rerun this cell to show the HTML representation or trust the notebook. <br />On GitHub, the HTML representation is unable to render, please try loading this page with nbviewer.org.</b></div><div class=\"sk-container\" hidden><div class=\"sk-item sk-dashed-wrapped\"><div class=\"sk-label-container\"><div class=\"sk-label sk-toggleable\"><input class=\"sk-toggleable__control sk-hidden--visually\" id=\"sk-estimator-id-22\" type=\"checkbox\" ><label for=\"sk-estimator-id-22\" class=\"sk-toggleable__label sk-toggleable__label-arrow\">Pipeline</label><div class=\"sk-toggleable__content\"><pre>Pipeline(steps=[(&#x27;columntransformer&#x27;,\n",
              "                 ColumnTransformer(transformers=[(&#x27;num&#x27;,\n",
              "                                                  Pipeline(steps=[(&#x27;simpleimputer&#x27;,\n",
              "                                                                   SimpleImputer(strategy=&#x27;median&#x27;)),\n",
              "                                                                  (&#x27;standardscaler&#x27;,\n",
              "                                                                   StandardScaler())]),\n",
              "                                                  [&#x27;latitude&#x27;, &#x27;longitude&#x27;,\n",
              "                                                   &#x27;year&#x27;, &#x27;week_no&#x27;,\n",
              "                                                   &#x27;SulphurDioxide_SO2_column_number_density&#x27;,\n",
              "                                                   &#x27;SulphurDioxide_SO2_column_number_density_amf&#x27;,\n",
              "                                                   &#x27;SulphurDioxide_SO2_slant_column_numbe...\n",
              "                                                   &#x27;Formaldehyde_solar_zenith_angle&#x27;,\n",
              "                                                   &#x27;Formaldehyde_solar_azimuth_angle&#x27;,\n",
              "                                                   &#x27;Formaldehyde_sensor_zenith_angle&#x27;,\n",
              "                                                   &#x27;Formaldehyde_sensor_azimuth_angle&#x27;,\n",
              "                                                   &#x27;UvAerosolIndex_absorbing_aerosol_index&#x27;, ...])])),\n",
              "                (&#x27;gridsearchcv&#x27;,\n",
              "                 GridSearchCV(cv=2, estimator=RandomForestRegressor(),\n",
              "                              n_jobs=-1,\n",
              "                              param_grid={&#x27;n_estimators&#x27;: [100, 500]},\n",
              "                              scoring=&#x27;neg_mean_squared_error&#x27;, verbose=2))])</pre></div></div></div><div class=\"sk-serial\"><div class=\"sk-item sk-dashed-wrapped\"><div class=\"sk-label-container\"><div class=\"sk-label sk-toggleable\"><input class=\"sk-toggleable__control sk-hidden--visually\" id=\"sk-estimator-id-23\" type=\"checkbox\" ><label for=\"sk-estimator-id-23\" class=\"sk-toggleable__label sk-toggleable__label-arrow\">columntransformer: ColumnTransformer</label><div class=\"sk-toggleable__content\"><pre>ColumnTransformer(transformers=[(&#x27;num&#x27;,\n",
              "                                 Pipeline(steps=[(&#x27;simpleimputer&#x27;,\n",
              "                                                  SimpleImputer(strategy=&#x27;median&#x27;)),\n",
              "                                                 (&#x27;standardscaler&#x27;,\n",
              "                                                  StandardScaler())]),\n",
              "                                 [&#x27;latitude&#x27;, &#x27;longitude&#x27;, &#x27;year&#x27;, &#x27;week_no&#x27;,\n",
              "                                  &#x27;SulphurDioxide_SO2_column_number_density&#x27;,\n",
              "                                  &#x27;SulphurDioxide_SO2_column_number_density_amf&#x27;,\n",
              "                                  &#x27;SulphurDioxide_SO2_slant_column_number_density&#x27;,\n",
              "                                  &#x27;SulphurDioxide_cloud_frac...\n",
              "                                  &#x27;Formaldehyde_tropospheric_HCHO_column_number_density&#x27;,\n",
              "                                  &#x27;Formaldehyde_tropospheric_HCHO_column_number_density_amf&#x27;,\n",
              "                                  &#x27;Formaldehyde_HCHO_slant_column_number_density&#x27;,\n",
              "                                  &#x27;Formaldehyde_cloud_fraction&#x27;,\n",
              "                                  &#x27;Formaldehyde_solar_zenith_angle&#x27;,\n",
              "                                  &#x27;Formaldehyde_solar_azimuth_angle&#x27;,\n",
              "                                  &#x27;Formaldehyde_sensor_zenith_angle&#x27;,\n",
              "                                  &#x27;Formaldehyde_sensor_azimuth_angle&#x27;,\n",
              "                                  &#x27;UvAerosolIndex_absorbing_aerosol_index&#x27;, ...])])</pre></div></div></div><div class=\"sk-parallel\"><div class=\"sk-parallel-item\"><div class=\"sk-item\"><div class=\"sk-label-container\"><div class=\"sk-label sk-toggleable\"><input class=\"sk-toggleable__control sk-hidden--visually\" id=\"sk-estimator-id-24\" type=\"checkbox\" ><label for=\"sk-estimator-id-24\" class=\"sk-toggleable__label sk-toggleable__label-arrow\">num</label><div class=\"sk-toggleable__content\"><pre>[&#x27;latitude&#x27;, &#x27;longitude&#x27;, &#x27;year&#x27;, &#x27;week_no&#x27;, &#x27;SulphurDioxide_SO2_column_number_density&#x27;, &#x27;SulphurDioxide_SO2_column_number_density_amf&#x27;, &#x27;SulphurDioxide_SO2_slant_column_number_density&#x27;, &#x27;SulphurDioxide_cloud_fraction&#x27;, &#x27;SulphurDioxide_sensor_azimuth_angle&#x27;, &#x27;SulphurDioxide_sensor_zenith_angle&#x27;, &#x27;SulphurDioxide_solar_azimuth_angle&#x27;, &#x27;SulphurDioxide_solar_zenith_angle&#x27;, &#x27;SulphurDioxide_SO2_column_number_density_15km&#x27;, &#x27;CarbonMonoxide_CO_column_number_density&#x27;, &#x27;CarbonMonoxide_H2O_column_number_density&#x27;, &#x27;CarbonMonoxide_cloud_height&#x27;, &#x27;CarbonMonoxide_sensor_altitude&#x27;, &#x27;CarbonMonoxide_sensor_azimuth_angle&#x27;, &#x27;CarbonMonoxide_sensor_zenith_angle&#x27;, &#x27;CarbonMonoxide_solar_azimuth_angle&#x27;, &#x27;CarbonMonoxide_solar_zenith_angle&#x27;, &#x27;Formaldehyde_tropospheric_HCHO_column_number_density&#x27;, &#x27;Formaldehyde_tropospheric_HCHO_column_number_density_amf&#x27;, &#x27;Formaldehyde_HCHO_slant_column_number_density&#x27;, &#x27;Formaldehyde_cloud_fraction&#x27;, &#x27;Formaldehyde_solar_zenith_angle&#x27;, &#x27;Formaldehyde_solar_azimuth_angle&#x27;, &#x27;Formaldehyde_sensor_zenith_angle&#x27;, &#x27;Formaldehyde_sensor_azimuth_angle&#x27;, &#x27;UvAerosolIndex_absorbing_aerosol_index&#x27;, &#x27;UvAerosolIndex_sensor_altitude&#x27;, &#x27;UvAerosolIndex_sensor_azimuth_angle&#x27;, &#x27;UvAerosolIndex_sensor_zenith_angle&#x27;, &#x27;UvAerosolIndex_solar_azimuth_angle&#x27;, &#x27;UvAerosolIndex_solar_zenith_angle&#x27;, &#x27;Ozone_O3_column_number_density&#x27;, &#x27;Ozone_O3_column_number_density_amf&#x27;, &#x27;Ozone_O3_slant_column_number_density&#x27;, &#x27;Ozone_O3_effective_temperature&#x27;, &#x27;Ozone_cloud_fraction&#x27;, &#x27;Ozone_sensor_azimuth_angle&#x27;, &#x27;Ozone_sensor_zenith_angle&#x27;, &#x27;Ozone_solar_azimuth_angle&#x27;, &#x27;Ozone_solar_zenith_angle&#x27;, &#x27;Cloud_cloud_fraction&#x27;, &#x27;Cloud_cloud_top_pressure&#x27;, &#x27;Cloud_cloud_top_height&#x27;, &#x27;Cloud_cloud_base_pressure&#x27;, &#x27;Cloud_cloud_base_height&#x27;, &#x27;Cloud_cloud_optical_depth&#x27;, &#x27;Cloud_surface_albedo&#x27;, &#x27;Cloud_sensor_azimuth_angle&#x27;, &#x27;Cloud_sensor_zenith_angle&#x27;, &#x27;Cloud_solar_azimuth_angle&#x27;, &#x27;Cloud_solar_zenith_angle&#x27;]</pre></div></div></div><div class=\"sk-serial\"><div class=\"sk-item\"><div class=\"sk-serial\"><div class=\"sk-item\"><div class=\"sk-estimator sk-toggleable\"><input class=\"sk-toggleable__control sk-hidden--visually\" id=\"sk-estimator-id-25\" type=\"checkbox\" ><label for=\"sk-estimator-id-25\" class=\"sk-toggleable__label sk-toggleable__label-arrow\">SimpleImputer</label><div class=\"sk-toggleable__content\"><pre>SimpleImputer(strategy=&#x27;median&#x27;)</pre></div></div></div><div class=\"sk-item\"><div class=\"sk-estimator sk-toggleable\"><input class=\"sk-toggleable__control sk-hidden--visually\" id=\"sk-estimator-id-26\" type=\"checkbox\" ><label for=\"sk-estimator-id-26\" class=\"sk-toggleable__label sk-toggleable__label-arrow\">StandardScaler</label><div class=\"sk-toggleable__content\"><pre>StandardScaler()</pre></div></div></div></div></div></div></div></div></div></div><div class=\"sk-item sk-dashed-wrapped\"><div class=\"sk-label-container\"><div class=\"sk-label sk-toggleable\"><input class=\"sk-toggleable__control sk-hidden--visually\" id=\"sk-estimator-id-27\" type=\"checkbox\" ><label for=\"sk-estimator-id-27\" class=\"sk-toggleable__label sk-toggleable__label-arrow\">gridsearchcv: GridSearchCV</label><div class=\"sk-toggleable__content\"><pre>GridSearchCV(cv=2, estimator=RandomForestRegressor(), n_jobs=-1,\n",
              "             param_grid={&#x27;n_estimators&#x27;: [100, 500]},\n",
              "             scoring=&#x27;neg_mean_squared_error&#x27;, verbose=2)</pre></div></div></div><div class=\"sk-parallel\"><div class=\"sk-parallel-item\"><div class=\"sk-item\"><div class=\"sk-label-container\"><div class=\"sk-label sk-toggleable\"><input class=\"sk-toggleable__control sk-hidden--visually\" id=\"sk-estimator-id-28\" type=\"checkbox\" ><label for=\"sk-estimator-id-28\" class=\"sk-toggleable__label sk-toggleable__label-arrow\">estimator: RandomForestRegressor</label><div class=\"sk-toggleable__content\"><pre>RandomForestRegressor()</pre></div></div></div><div class=\"sk-serial\"><div class=\"sk-item\"><div class=\"sk-estimator sk-toggleable\"><input class=\"sk-toggleable__control sk-hidden--visually\" id=\"sk-estimator-id-29\" type=\"checkbox\" ><label for=\"sk-estimator-id-29\" class=\"sk-toggleable__label sk-toggleable__label-arrow\">RandomForestRegressor</label><div class=\"sk-toggleable__content\"><pre>RandomForestRegressor()</pre></div></div></div></div></div></div></div></div></div></div></div></div>"
            ]
          },
          "metadata": {},
          "execution_count": 175
        }
      ]
    },
    {
      "cell_type": "code",
      "source": [
        "from sklearn.metrics import mean_squared_error\n",
        "\n",
        "def report(model, X, Y):\n",
        "    print(mean_squared_error(\n",
        "        model.predict(X), Y\n",
        "    ))\n",
        "\n",
        "report(pipeline, X_train, Y_train)"
      ],
      "metadata": {
        "colab": {
          "base_uri": "https://localhost:8080/"
        },
        "id": "UCc7wNUVJkjf",
        "outputId": "91e53e92-f293-411c-d4ba-7668fabbee6e"
      },
      "execution_count": 176,
      "outputs": [
        {
          "output_type": "stream",
          "name": "stdout",
          "text": [
            "383.3648081521101\n"
          ]
        }
      ]
    },
    {
      "cell_type": "code",
      "source": [
        "report(pipeline, X_val, Y_val)"
      ],
      "metadata": {
        "colab": {
          "base_uri": "https://localhost:8080/"
        },
        "id": "PnAg2TvdJyKc",
        "outputId": "066c92a4-bd76-4b26-ea3c-1cb6d2fc856f"
      },
      "execution_count": 177,
      "outputs": [
        {
          "output_type": "stream",
          "name": "stdout",
          "text": [
            "2895.163829218643\n"
          ]
        }
      ]
    },
    {
      "cell_type": "code",
      "source": [
        "print(pipeline.named_steps['gridsearchcv'].cv_results_)"
      ],
      "metadata": {
        "colab": {
          "base_uri": "https://localhost:8080/"
        },
        "id": "wKahoweeJ5J5",
        "outputId": "2de72327-d99f-4cc0-f512-3754082aa3db"
      },
      "execution_count": 178,
      "outputs": [
        {
          "output_type": "stream",
          "name": "stdout",
          "text": [
            "{'mean_fit_time': array([11.56316078, 65.18592763]), 'std_fit_time': array([0.75203311, 0.72589397]), 'mean_score_time': array([0.08485222, 0.18684936]), 'std_score_time': array([0.00081325, 0.01773572]), 'param_n_estimators': masked_array(data=[100, 500],\n",
            "             mask=[False, False],\n",
            "       fill_value='?',\n",
            "            dtype=object), 'params': [{'n_estimators': 100}, {'n_estimators': 500}], 'split0_test_score': array([-4214.79771176, -4139.47240769]), 'split1_test_score': array([-4639.05833195, -4538.93695163]), 'mean_test_score': array([-4426.92802186, -4339.20467966]), 'std_test_score': array([212.1303101 , 199.73227197]), 'rank_test_score': array([2, 1], dtype=int32)}\n"
          ]
        }
      ]
    },
    {
      "cell_type": "code",
      "source": [
        "print(pipeline.named_steps['gridsearchcv'].best_estimator_)"
      ],
      "metadata": {
        "colab": {
          "base_uri": "https://localhost:8080/"
        },
        "id": "pJXuiWbMMz-T",
        "outputId": "b8bae1ec-bac6-44fc-9d43-9c8c7af4ef5a"
      },
      "execution_count": 179,
      "outputs": [
        {
          "output_type": "stream",
          "name": "stdout",
          "text": [
            "RandomForestRegressor(n_estimators=500)\n"
          ]
        }
      ]
    }
  ]
}