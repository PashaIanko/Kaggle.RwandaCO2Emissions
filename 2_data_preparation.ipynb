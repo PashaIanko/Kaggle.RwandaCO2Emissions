{
  "nbformat": 4,
  "nbformat_minor": 0,
  "metadata": {
    "colab": {
      "provenance": [],
      "authorship_tag": "ABX9TyMPE5MrSI8fTrDi34TVj8Ui",
      "include_colab_link": true
    },
    "kernelspec": {
      "name": "python3",
      "display_name": "Python 3"
    },
    "language_info": {
      "name": "python"
    }
  },
  "cells": [
    {
      "cell_type": "markdown",
      "metadata": {
        "id": "view-in-github",
        "colab_type": "text"
      },
      "source": [
        "<a href=\"https://colab.research.google.com/github/PashaIanko/Kaggle.RwandaCO2Emissions/blob/data_preparation_baseline/2_data_preparation.ipynb\" target=\"_parent\"><img src=\"https://colab.research.google.com/assets/colab-badge.svg\" alt=\"Open In Colab\"/></a>"
      ]
    },
    {
      "cell_type": "markdown",
      "source": [
        "# Imports"
      ],
      "metadata": {
        "id": "zFA4SslzXnFD"
      }
    },
    {
      "cell_type": "code",
      "execution_count": 20,
      "metadata": {
        "id": "n6ixbEuOXaHc"
      },
      "outputs": [],
      "source": [
        "from google.colab import drive\n",
        "\n",
        "# Datasets\n",
        "import pandas as pd\n",
        "\n",
        "# Numerics\n",
        "import numpy as np\n",
        "\n",
        "# Plotting\n",
        "import matplotlib.pyplot as plt\n",
        "\n",
        "# Preprocessing & pipelines\n",
        "from sklearn.pipeline import make_pipeline\n",
        "from sklearn.compose import ColumnTransformer\n",
        "from sklearn.impute import SimpleImputer\n",
        "from sklearn.preprocessing import StandardScaler\n",
        "\n",
        "# Data management\n",
        "from sklearn.model_selection import train_test_split\n",
        "\n",
        "# Other\n",
        "import os"
      ]
    },
    {
      "cell_type": "markdown",
      "source": [
        "# Setup"
      ],
      "metadata": {
        "id": "OWPnj-hUXo9e"
      }
    },
    {
      "cell_type": "code",
      "source": [
        "# %%capture\n",
        "GIT_DOWNLOAD_PATH = 'https://raw.githubusercontent.com/PashaIanko/Sklearn-Utils/main/'\n",
        "FILES_LIST = [\n",
        "    'path_manager.py',\n",
        "    'sklearn_transformers.py',\n",
        "    'sklearn_utils.py',\n",
        "    'model.py'\n",
        "]\n",
        "GDRIVE_PATH = '/content/gdrive/MyDrive/'\n",
        "PREPROC_TRIAL = 1\n",
        "MODELS_TRIAL = 1\n",
        "COMPETITION_PATH = GDRIVE_PATH + 'ML/Competitions/8.CO2Emissions/' # e.g. GDRIVE_PATH + 'ML/Competitions/8.CO2Emissions/'\n",
        "# --------------------------------------------------\n",
        "try:\n",
        "    from nbpep8.nbpep8 import pep8\n",
        "except ModuleNotFoundError:\n",
        "    !pip install pycodestyle\n",
        "    !pip install --index-url https://test.pypi.org/simple/ nbpep8\n",
        "from nbpep8.nbpep8 import pep8\n",
        "# ---------------------------------------\n",
        "def download_files(url_dict):\n",
        "    for file, url in url_dict.items():\n",
        "        print(f'Downloading {file}')\n",
        "        !wget -O {file} {url} {file}\n",
        "url_dict = {file: GIT_DOWNLOAD_PATH + file for file in FILES_LIST}\n",
        "print('a')\n",
        "download_files(url_dict)\n",
        "# ---------------------------------------\n",
        "import importlib\n",
        "import path_manager\n",
        "import sklearn_utils\n",
        "import sklearn_transformers\n",
        "import model\n",
        "def reload_all(modules_list_):\n",
        "    for module in modules_list_:\n",
        "        importlib.reload(module)\n",
        "MODULES_LIST = [\n",
        "    path_manager,\n",
        "    sklearn_utils,\n",
        "    sklearn_transformers,\n",
        "    model\n",
        "]\n",
        "reload_all(MODULES_LIST)\n",
        "# ---------------------------------------\n",
        "from path_manager import PathManager\n",
        "from model import Model\n",
        "from sklearn_utils import nan_statistics\n",
        "from sklearn_utils import boxplot_regression\n",
        "from sklearn_utils import get_correlated_attributes\n",
        "from sklearn_utils import visualize_datasets_distributions\n",
        "from sklearn_transformers import ColumnDropper\n",
        "from sklearn_transformers import LogTransformer\n",
        "# ---------------------------------------\n",
        "from google.colab import drive\n",
        "drive.mount('/content/gdrive')\n",
        "manager = PathManager(\n",
        "    competition_path=COMPETITION_PATH,\n",
        "    preprocessing_trial=PREPROC_TRIAL,\n",
        "    models_trial=MODELS_TRIAL\n",
        ")\n",
        "manager.setup_paths()"
      ],
      "metadata": {
        "colab": {
          "base_uri": "https://localhost:8080/"
        },
        "id": "Id8sjOEhXj7g",
        "outputId": "8921d471-3e52-4da7-ff20-964ea9288ac5"
      },
      "execution_count": 3,
      "outputs": [
        {
          "output_type": "stream",
          "name": "stdout",
          "text": [
            "Collecting pycodestyle\n",
            "  Downloading pycodestyle-2.11.0-py2.py3-none-any.whl (31 kB)\n",
            "Installing collected packages: pycodestyle\n",
            "Successfully installed pycodestyle-2.11.0\n",
            "Looking in indexes: https://test.pypi.org/simple/\n",
            "Collecting nbpep8\n",
            "  Downloading https://test-files.pythonhosted.org/packages/c1/07/6b91c986efe7c3adac9e2ec061037f0cc4307925819d37277c3802c2d117/nbpep8-0.0.15-py3-none-any.whl (3.2 kB)\n",
            "Installing collected packages: nbpep8\n",
            "Successfully installed nbpep8-0.0.15\n",
            "a\n",
            "Downloading path_manager.py\n",
            "--2023-09-28 15:18:57--  https://raw.githubusercontent.com/PashaIanko/Sklearn-Utils/main/path_manager.py\n",
            "Resolving raw.githubusercontent.com (raw.githubusercontent.com)... 185.199.110.133, 185.199.109.133, 185.199.108.133, ...\n",
            "Connecting to raw.githubusercontent.com (raw.githubusercontent.com)|185.199.110.133|:443... connected.\n",
            "HTTP request sent, awaiting response... 200 OK\n",
            "Length: 3482 (3.4K) [text/plain]\n",
            "Saving to: ‘path_manager.py’\n",
            "\n",
            "path_manager.py     100%[===================>]   3.40K  --.-KB/s    in 0s      \n",
            "\n",
            "2023-09-28 15:18:57 (41.4 MB/s) - ‘path_manager.py’ saved [3482/3482]\n",
            "\n",
            "--2023-09-28 15:18:57--  http://path_manager.py/\n",
            "Resolving path_manager.py (path_manager.py)... failed: Name or service not known.\n",
            "wget: unable to resolve host address ‘path_manager.py’\n",
            "FINISHED --2023-09-28 15:18:57--\n",
            "Total wall clock time: 0.1s\n",
            "Downloaded: 1 files, 3.4K in 0s (41.4 MB/s)\n",
            "Downloading sklearn_transformers.py\n",
            "--2023-09-28 15:18:57--  https://raw.githubusercontent.com/PashaIanko/Sklearn-Utils/main/sklearn_transformers.py\n",
            "Resolving raw.githubusercontent.com (raw.githubusercontent.com)... 185.199.109.133, 185.199.110.133, 185.199.108.133, ...\n",
            "Connecting to raw.githubusercontent.com (raw.githubusercontent.com)|185.199.109.133|:443... connected.\n",
            "HTTP request sent, awaiting response... 200 OK\n",
            "Length: 2014 (2.0K) [text/plain]\n",
            "Saving to: ‘sklearn_transformers.py’\n",
            "\n",
            "sklearn_transformer 100%[===================>]   1.97K  --.-KB/s    in 0s      \n",
            "\n",
            "2023-09-28 15:18:58 (22.6 MB/s) - ‘sklearn_transformers.py’ saved [2014/2014]\n",
            "\n",
            "--2023-09-28 15:18:58--  http://sklearn_transformers.py/\n",
            "Resolving sklearn_transformers.py (sklearn_transformers.py)... failed: Name or service not known.\n",
            "wget: unable to resolve host address ‘sklearn_transformers.py’\n",
            "FINISHED --2023-09-28 15:18:58--\n",
            "Total wall clock time: 0.1s\n",
            "Downloaded: 1 files, 2.0K in 0s (22.6 MB/s)\n",
            "Downloading sklearn_utils.py\n",
            "--2023-09-28 15:18:58--  https://raw.githubusercontent.com/PashaIanko/Sklearn-Utils/main/sklearn_utils.py\n",
            "Resolving raw.githubusercontent.com (raw.githubusercontent.com)... 185.199.108.133, 185.199.109.133, 185.199.110.133, ...\n",
            "Connecting to raw.githubusercontent.com (raw.githubusercontent.com)|185.199.108.133|:443... connected.\n",
            "HTTP request sent, awaiting response... 200 OK\n",
            "Length: 15123 (15K) [text/plain]\n",
            "Saving to: ‘sklearn_utils.py’\n",
            "\n",
            "sklearn_utils.py    100%[===================>]  14.77K  --.-KB/s    in 0s      \n",
            "\n",
            "2023-09-28 15:18:58 (77.1 MB/s) - ‘sklearn_utils.py’ saved [15123/15123]\n",
            "\n",
            "--2023-09-28 15:18:58--  http://sklearn_utils.py/\n",
            "Resolving sklearn_utils.py (sklearn_utils.py)... failed: Name or service not known.\n",
            "wget: unable to resolve host address ‘sklearn_utils.py’\n",
            "FINISHED --2023-09-28 15:18:58--\n",
            "Total wall clock time: 0.1s\n",
            "Downloaded: 1 files, 15K in 0s (77.1 MB/s)\n",
            "Downloading model.py\n",
            "--2023-09-28 15:18:58--  https://raw.githubusercontent.com/PashaIanko/Sklearn-Utils/main/model.py\n",
            "Resolving raw.githubusercontent.com (raw.githubusercontent.com)... 185.199.109.133, 185.199.110.133, 185.199.108.133, ...\n",
            "Connecting to raw.githubusercontent.com (raw.githubusercontent.com)|185.199.109.133|:443... connected.\n",
            "HTTP request sent, awaiting response... 200 OK\n",
            "Length: 171 [text/plain]\n",
            "Saving to: ‘model.py’\n",
            "\n",
            "model.py            100%[===================>]     171  --.-KB/s    in 0s      \n",
            "\n",
            "2023-09-28 15:18:58 (2.97 MB/s) - ‘model.py’ saved [171/171]\n",
            "\n",
            "--2023-09-28 15:18:58--  http://model.py/\n",
            "Resolving model.py (model.py)... failed: Name or service not known.\n",
            "wget: unable to resolve host address ‘model.py’\n",
            "FINISHED --2023-09-28 15:18:58--\n",
            "Total wall clock time: 0.2s\n",
            "Downloaded: 1 files, 171 in 0s (2.97 MB/s)\n",
            "Mounted at /content/gdrive\n",
            "/content/gdrive/MyDrive/ML/Competitions/8.CO2Emissions/Data/preproc_trial_1 already exists\n",
            "/content/gdrive/MyDrive/ML/Competitions/8.CO2Emissions/Models/trial_1 already exists\n"
          ]
        }
      ]
    },
    {
      "cell_type": "markdown",
      "source": [
        "# Download the data"
      ],
      "metadata": {
        "id": "cQ7dQKW7X4p7"
      }
    },
    {
      "cell_type": "code",
      "source": [
        "df_train = pd.read_csv(manager.train_path)"
      ],
      "metadata": {
        "id": "X7gLXfSeX5mF"
      },
      "execution_count": 16,
      "outputs": []
    },
    {
      "cell_type": "code",
      "source": [
        "df_submission = pd.read_csv(manager.test_path)"
      ],
      "metadata": {
        "id": "ZRBG2DUwYLa9"
      },
      "execution_count": 17,
      "outputs": []
    },
    {
      "cell_type": "code",
      "source": [
        "assert len(df_train.columns) == len(df_submission.columns) + 1\n",
        "assert set(df_train.columns) - set(df_submission.columns) == {'emission'}"
      ],
      "metadata": {
        "id": "SS5vp2GmYOeU"
      },
      "execution_count": 18,
      "outputs": []
    },
    {
      "cell_type": "markdown",
      "source": [
        "# Split the data"
      ],
      "metadata": {
        "id": "G81SsV6MYgQW"
      }
    },
    {
      "cell_type": "markdown",
      "source": [
        "- We split available, labeled training data into **trainval** and **test set**"
      ],
      "metadata": {
        "id": "kaPUqS0MYh40"
      }
    },
    {
      "cell_type": "code",
      "source": [
        "TRAINVAL_PERCENT = 0.85\n",
        "TRAIN_PERCENT = 0.8\n",
        "RANDOM_STATE = 42\n",
        "TARGET_COLUMN = 'emission'\n",
        "\n",
        "df_trainval, df_test = train_test_split(\n",
        "    df_train,\n",
        "    train_size=TRAINVAL_PERCENT,\n",
        "    random_state=RANDOM_STATE\n",
        ")\n",
        "\n",
        "df_train, df_val = train_test_split(\n",
        "    df_trainval,\n",
        "    train_size=TRAIN_PERCENT,\n",
        "    random_state=RANDOM_STATE\n",
        ")\n",
        "\n",
        "df_train.shape, df_val.shape, df_test.shape"
      ],
      "metadata": {
        "colab": {
          "base_uri": "https://localhost:8080/"
        },
        "id": "3K7ayynYYtNb",
        "outputId": "135fb8e5-d004-474b-e068-1e7ef4c9bda1"
      },
      "execution_count": 27,
      "outputs": [
        {
          "output_type": "execute_result",
          "data": {
            "text/plain": [
              "((16836, 76), (4210, 76), (3714, 76))"
            ]
          },
          "metadata": {},
          "execution_count": 27
        }
      ]
    },
    {
      "cell_type": "markdown",
      "source": [
        "## Make sure train, validation and test are from the same distribution"
      ],
      "metadata": {
        "id": "tsieQqs6bDGf"
      }
    },
    {
      "cell_type": "markdown",
      "source": [
        "# Not implemented, the code takes forever, big datasets"
      ],
      "metadata": {
        "id": "di65_OJpbFxJ"
      }
    },
    {
      "cell_type": "markdown",
      "source": [
        "# Process the data"
      ],
      "metadata": {
        "id": "WIoFxrNubMcy"
      }
    },
    {
      "cell_type": "markdown",
      "source": [
        "## NAN check"
      ],
      "metadata": {
        "id": "g8fjLw2lbOll"
      }
    },
    {
      "cell_type": "code",
      "source": [
        "_ = nan_statistics(train_df)"
      ],
      "metadata": {
        "id": "VNB_BkG9bXA0"
      },
      "execution_count": null,
      "outputs": []
    }
  ]
}