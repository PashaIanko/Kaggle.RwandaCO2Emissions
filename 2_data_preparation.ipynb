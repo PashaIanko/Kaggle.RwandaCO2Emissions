{
  "nbformat": 4,
  "nbformat_minor": 0,
  "metadata": {
    "colab": {
      "provenance": [],
      "authorship_tag": "ABX9TyM0mbp97rd/ERKU6q2sTsWo",
      "include_colab_link": true
    },
    "kernelspec": {
      "name": "python3",
      "display_name": "Python 3"
    },
    "language_info": {
      "name": "python"
    }
  },
  "cells": [
    {
      "cell_type": "markdown",
      "metadata": {
        "id": "view-in-github",
        "colab_type": "text"
      },
      "source": [
        "<a href=\"https://colab.research.google.com/github/PashaIanko/Kaggle.RwandaCO2Emissions/blob/data_preparation_baseline/2_data_preparation.ipynb\" target=\"_parent\"><img src=\"https://colab.research.google.com/assets/colab-badge.svg\" alt=\"Open In Colab\"/></a>"
      ]
    },
    {
      "cell_type": "markdown",
      "source": [
        "# Imports"
      ],
      "metadata": {
        "id": "zFA4SslzXnFD"
      }
    },
    {
      "cell_type": "code",
      "execution_count": 1,
      "metadata": {
        "id": "n6ixbEuOXaHc"
      },
      "outputs": [],
      "source": [
        "from google.colab import drive\n",
        "\n",
        "# Datasets\n",
        "import pandas as pd\n",
        "\n",
        "# Numerics\n",
        "import numpy as np\n",
        "\n",
        "# Plotting\n",
        "import matplotlib.pyplot as plt\n",
        "\n",
        "# Preprocessing & pipelines\n",
        "from sklearn.pipeline import make_pipeline\n",
        "from sklearn.compose import ColumnTransformer\n",
        "from sklearn.impute import SimpleImputer\n",
        "from sklearn.preprocessing import StandardScaler\n",
        "\n",
        "# Data management\n",
        "from sklearn.model_selection import train_test_split\n",
        "\n",
        "# Other\n",
        "import os"
      ]
    },
    {
      "cell_type": "markdown",
      "source": [
        "# Setup"
      ],
      "metadata": {
        "id": "OWPnj-hUXo9e"
      }
    },
    {
      "cell_type": "code",
      "source": [
        "# %%capture\n",
        "GIT_DOWNLOAD_PATH = 'https://raw.githubusercontent.com/PashaIanko/Sklearn-Utils/main/'\n",
        "FILES_LIST = [\n",
        "    'path_manager.py',\n",
        "    'sklearn_transformers.py',\n",
        "    'sklearn_utils.py',\n",
        "    'model.py'\n",
        "]\n",
        "GDRIVE_PATH = '/content/gdrive/MyDrive/'\n",
        "PREPROC_TRIAL = 1\n",
        "MODELS_TRIAL = 1\n",
        "COMPETITION_PATH = GDRIVE_PATH + 'ML/Competitions/8.CO2Emissions/' # e.g. GDRIVE_PATH + 'ML/Competitions/8.CO2Emissions/'\n",
        "# --------------------------------------------------\n",
        "try:\n",
        "    from nbpep8.nbpep8 import pep8\n",
        "except ModuleNotFoundError:\n",
        "    !pip install pycodestyle\n",
        "    !pip install --index-url https://test.pypi.org/simple/ nbpep8\n",
        "from nbpep8.nbpep8 import pep8\n",
        "# ---------------------------------------\n",
        "def download_files(url_dict):\n",
        "    for file, url in url_dict.items():\n",
        "        print(f'Downloading {file}')\n",
        "        !wget -O {file} {url} {file}\n",
        "url_dict = {file: GIT_DOWNLOAD_PATH + file for file in FILES_LIST}\n",
        "print('a')\n",
        "download_files(url_dict)\n",
        "# ---------------------------------------\n",
        "import importlib\n",
        "import path_manager\n",
        "import sklearn_utils\n",
        "import sklearn_transformers\n",
        "import model\n",
        "def reload_all(modules_list_):\n",
        "    for module in modules_list_:\n",
        "        importlib.reload(module)\n",
        "MODULES_LIST = [\n",
        "    path_manager,\n",
        "    sklearn_utils,\n",
        "    sklearn_transformers,\n",
        "    model\n",
        "]\n",
        "reload_all(MODULES_LIST)\n",
        "# ---------------------------------------\n",
        "from path_manager import PathManager\n",
        "from model import Model\n",
        "from sklearn_utils import nan_statistics\n",
        "from sklearn_utils import boxplot_regression\n",
        "from sklearn_utils import get_correlated_attributes\n",
        "from sklearn_utils import visualize_datasets_distributions\n",
        "from sklearn_transformers import ColumnDropper\n",
        "from sklearn_transformers import LogTransformer\n",
        "# ---------------------------------------\n",
        "from google.colab import drive\n",
        "drive.mount('/content/gdrive')\n",
        "manager = PathManager(\n",
        "    competition_path=COMPETITION_PATH,\n",
        "    preprocessing_trial=PREPROC_TRIAL,\n",
        "    models_trial=MODELS_TRIAL\n",
        ")\n",
        "manager.setup_paths()"
      ],
      "metadata": {
        "colab": {
          "base_uri": "https://localhost:8080/"
        },
        "id": "Id8sjOEhXj7g",
        "outputId": "03d843cf-dafe-4779-bec2-61ca3ce0fb61"
      },
      "execution_count": 2,
      "outputs": [
        {
          "output_type": "stream",
          "name": "stdout",
          "text": [
            "a\n",
            "Downloading path_manager.py\n",
            "--2023-09-28 15:35:59--  https://raw.githubusercontent.com/PashaIanko/Sklearn-Utils/main/path_manager.py\n",
            "Resolving raw.githubusercontent.com (raw.githubusercontent.com)... 185.199.109.133, 185.199.110.133, 185.199.108.133, ...\n",
            "Connecting to raw.githubusercontent.com (raw.githubusercontent.com)|185.199.109.133|:443... connected.\n",
            "HTTP request sent, awaiting response... 200 OK\n",
            "Length: 3482 (3.4K) [text/plain]\n",
            "Saving to: ‘path_manager.py’\n",
            "\n",
            "path_manager.py     100%[===================>]   3.40K  --.-KB/s    in 0s      \n",
            "\n",
            "2023-09-28 15:35:59 (30.0 MB/s) - ‘path_manager.py’ saved [3482/3482]\n",
            "\n",
            "--2023-09-28 15:35:59--  http://path_manager.py/\n",
            "Resolving path_manager.py (path_manager.py)... failed: Name or service not known.\n",
            "wget: unable to resolve host address ‘path_manager.py’\n",
            "FINISHED --2023-09-28 15:35:59--\n",
            "Total wall clock time: 0.2s\n",
            "Downloaded: 1 files, 3.4K in 0s (30.0 MB/s)\n",
            "Downloading sklearn_transformers.py\n",
            "--2023-09-28 15:35:59--  https://raw.githubusercontent.com/PashaIanko/Sklearn-Utils/main/sklearn_transformers.py\n",
            "Resolving raw.githubusercontent.com (raw.githubusercontent.com)... 185.199.108.133, 185.199.109.133, 185.199.110.133, ...\n",
            "Connecting to raw.githubusercontent.com (raw.githubusercontent.com)|185.199.108.133|:443... connected.\n",
            "HTTP request sent, awaiting response... 200 OK\n",
            "Length: 2014 (2.0K) [text/plain]\n",
            "Saving to: ‘sklearn_transformers.py’\n",
            "\n",
            "sklearn_transformer 100%[===================>]   1.97K  --.-KB/s    in 0s      \n",
            "\n",
            "2023-09-28 15:35:59 (25.1 MB/s) - ‘sklearn_transformers.py’ saved [2014/2014]\n",
            "\n",
            "--2023-09-28 15:35:59--  http://sklearn_transformers.py/\n",
            "Resolving sklearn_transformers.py (sklearn_transformers.py)... failed: Name or service not known.\n",
            "wget: unable to resolve host address ‘sklearn_transformers.py’\n",
            "FINISHED --2023-09-28 15:35:59--\n",
            "Total wall clock time: 0.1s\n",
            "Downloaded: 1 files, 2.0K in 0s (25.1 MB/s)\n",
            "Downloading sklearn_utils.py\n",
            "--2023-09-28 15:35:59--  https://raw.githubusercontent.com/PashaIanko/Sklearn-Utils/main/sklearn_utils.py\n",
            "Resolving raw.githubusercontent.com (raw.githubusercontent.com)... 185.199.108.133, 185.199.109.133, 185.199.110.133, ...\n",
            "Connecting to raw.githubusercontent.com (raw.githubusercontent.com)|185.199.108.133|:443... connected.\n",
            "HTTP request sent, awaiting response... 200 OK\n",
            "Length: 15123 (15K) [text/plain]\n",
            "Saving to: ‘sklearn_utils.py’\n",
            "\n",
            "sklearn_utils.py    100%[===================>]  14.77K  --.-KB/s    in 0s      \n",
            "\n",
            "2023-09-28 15:35:59 (102 MB/s) - ‘sklearn_utils.py’ saved [15123/15123]\n",
            "\n",
            "--2023-09-28 15:35:59--  http://sklearn_utils.py/\n",
            "Resolving sklearn_utils.py (sklearn_utils.py)... failed: Name or service not known.\n",
            "wget: unable to resolve host address ‘sklearn_utils.py’\n",
            "FINISHED --2023-09-28 15:35:59--\n",
            "Total wall clock time: 0.09s\n",
            "Downloaded: 1 files, 15K in 0s (102 MB/s)\n",
            "Downloading model.py\n",
            "--2023-09-28 15:35:59--  https://raw.githubusercontent.com/PashaIanko/Sklearn-Utils/main/model.py\n",
            "Resolving raw.githubusercontent.com (raw.githubusercontent.com)... 185.199.108.133, 185.199.109.133, 185.199.110.133, ...\n",
            "Connecting to raw.githubusercontent.com (raw.githubusercontent.com)|185.199.108.133|:443... connected.\n",
            "HTTP request sent, awaiting response... 200 OK\n",
            "Length: 171 [text/plain]\n",
            "Saving to: ‘model.py’\n",
            "\n",
            "model.py            100%[===================>]     171  --.-KB/s    in 0s      \n",
            "\n",
            "2023-09-28 15:35:59 (13.4 MB/s) - ‘model.py’ saved [171/171]\n",
            "\n",
            "--2023-09-28 15:35:59--  http://model.py/\n",
            "Resolving model.py (model.py)... failed: Name or service not known.\n",
            "wget: unable to resolve host address ‘model.py’\n",
            "FINISHED --2023-09-28 15:35:59--\n",
            "Total wall clock time: 0.1s\n",
            "Downloaded: 1 files, 171 in 0s (13.4 MB/s)\n",
            "Drive already mounted at /content/gdrive; to attempt to forcibly remount, call drive.mount(\"/content/gdrive\", force_remount=True).\n",
            "/content/gdrive/MyDrive/ML/Competitions/8.CO2Emissions/Data/preproc_trial_1 already exists\n",
            "/content/gdrive/MyDrive/ML/Competitions/8.CO2Emissions/Models/trial_1 already exists\n"
          ]
        }
      ]
    },
    {
      "cell_type": "markdown",
      "source": [
        "# Download the data"
      ],
      "metadata": {
        "id": "cQ7dQKW7X4p7"
      }
    },
    {
      "cell_type": "code",
      "source": [
        "df_train = pd.read_csv(manager.train_path)"
      ],
      "metadata": {
        "id": "X7gLXfSeX5mF"
      },
      "execution_count": 3,
      "outputs": []
    },
    {
      "cell_type": "code",
      "source": [
        "df_submission = pd.read_csv(manager.test_path)"
      ],
      "metadata": {
        "id": "ZRBG2DUwYLa9"
      },
      "execution_count": 4,
      "outputs": []
    },
    {
      "cell_type": "code",
      "source": [
        "assert len(df_train.columns) == len(df_submission.columns) + 1\n",
        "assert set(df_train.columns) - set(df_submission.columns) == {'emission'}"
      ],
      "metadata": {
        "id": "SS5vp2GmYOeU"
      },
      "execution_count": 5,
      "outputs": []
    },
    {
      "cell_type": "markdown",
      "source": [
        "# Split the data"
      ],
      "metadata": {
        "id": "G81SsV6MYgQW"
      }
    },
    {
      "cell_type": "markdown",
      "source": [
        "- We split available, labeled training data into **trainval** and **test set**"
      ],
      "metadata": {
        "id": "kaPUqS0MYh40"
      }
    },
    {
      "cell_type": "code",
      "source": [
        "TRAINVAL_PERCENT = 0.85\n",
        "TRAIN_PERCENT = 0.8\n",
        "RANDOM_STATE = 42\n",
        "TARGET_COLUMN = 'emission'\n",
        "\n",
        "df_trainval, df_test = train_test_split(\n",
        "    df_train,\n",
        "    train_size=TRAINVAL_PERCENT,\n",
        "    random_state=RANDOM_STATE\n",
        ")\n",
        "\n",
        "df_train, df_val = train_test_split(\n",
        "    df_trainval,\n",
        "    train_size=TRAIN_PERCENT,\n",
        "    random_state=RANDOM_STATE\n",
        ")\n",
        "\n",
        "df_train.shape, df_val.shape, df_test.shape"
      ],
      "metadata": {
        "colab": {
          "base_uri": "https://localhost:8080/"
        },
        "id": "3K7ayynYYtNb",
        "outputId": "0012fe4b-0639-4d92-8b3d-a267d4ff5298"
      },
      "execution_count": 6,
      "outputs": [
        {
          "output_type": "execute_result",
          "data": {
            "text/plain": [
              "((53735, 76), (13434, 76), (11854, 76))"
            ]
          },
          "metadata": {},
          "execution_count": 6
        }
      ]
    },
    {
      "cell_type": "markdown",
      "source": [
        "## Make sure train, validation and test are from the same distribution"
      ],
      "metadata": {
        "id": "tsieQqs6bDGf"
      }
    },
    {
      "cell_type": "markdown",
      "source": [
        "# Not implemented, the code takes forever, big datasets"
      ],
      "metadata": {
        "id": "di65_OJpbFxJ"
      }
    },
    {
      "cell_type": "markdown",
      "source": [
        "# Process the data"
      ],
      "metadata": {
        "id": "WIoFxrNubMcy"
      }
    },
    {
      "cell_type": "markdown",
      "source": [
        "## Cleaning NAN columns"
      ],
      "metadata": {
        "id": "g8fjLw2lbOll"
      }
    },
    {
      "cell_type": "code",
      "source": [
        "NAN_THRESHOLD = 18\n",
        "\n",
        "res = nan_statistics(df_train)\n",
        "nan_cols = [col for col in res.keys() if res[col] >= NAN_THRESHOLD]\n",
        "nan_cols"
      ],
      "metadata": {
        "colab": {
          "base_uri": "https://localhost:8080/"
        },
        "id": "VNB_BkG9bXA0",
        "outputId": "1ee32bc4-a786-4317-e582-e8a75a54d922"
      },
      "execution_count": 11,
      "outputs": [
        {
          "output_type": "stream",
          "name": "stdout",
          "text": [
            "Col -- Nan percentage\n",
            "UvAerosolLayerHeight_aerosol_height 99.43612170838374\n",
            "UvAerosolLayerHeight_aerosol_pressure 99.43612170838374\n",
            "UvAerosolLayerHeight_aerosol_optical_depth 99.43612170838374\n",
            "UvAerosolLayerHeight_sensor_zenith_angle 99.43612170838374\n",
            "UvAerosolLayerHeight_sensor_azimuth_angle 99.43612170838374\n",
            "UvAerosolLayerHeight_solar_azimuth_angle 99.43612170838374\n",
            "UvAerosolLayerHeight_solar_zenith_angle 99.43612170838374\n",
            "NitrogenDioxide_NO2_column_number_density 23.23997394621755\n",
            "NitrogenDioxide_tropospheric_NO2_column_number_density 23.23997394621755\n",
            "NitrogenDioxide_stratospheric_NO2_column_number_density 23.23997394621755\n",
            "NitrogenDioxide_NO2_slant_column_number_density 23.23997394621755\n",
            "NitrogenDioxide_tropopause_pressure 23.23997394621755\n",
            "NitrogenDioxide_absorbing_aerosol_index 23.23997394621755\n",
            "NitrogenDioxide_cloud_fraction 23.23997394621755\n",
            "NitrogenDioxide_sensor_altitude 23.23997394621755\n",
            "NitrogenDioxide_sensor_azimuth_angle 23.23997394621755\n",
            "NitrogenDioxide_sensor_zenith_angle 23.23997394621755\n",
            "NitrogenDioxide_solar_azimuth_angle 23.23997394621755\n",
            "NitrogenDioxide_solar_zenith_angle 23.23997394621755\n",
            "SulphurDioxide_SO2_column_number_density 18.4926025867684\n",
            "SulphurDioxide_SO2_column_number_density_amf 18.4926025867684\n",
            "SulphurDioxide_SO2_slant_column_number_density 18.4926025867684\n",
            "SulphurDioxide_cloud_fraction 18.4926025867684\n",
            "SulphurDioxide_sensor_azimuth_angle 18.4926025867684\n",
            "SulphurDioxide_sensor_zenith_angle 18.4926025867684\n",
            "SulphurDioxide_solar_azimuth_angle 18.4926025867684\n",
            "SulphurDioxide_solar_zenith_angle 18.4926025867684\n",
            "SulphurDioxide_SO2_column_number_density_15km 18.4926025867684\n",
            "Formaldehyde_tropospheric_HCHO_column_number_density 9.228621941006793\n",
            "Formaldehyde_tropospheric_HCHO_column_number_density_amf 9.228621941006793\n",
            "Formaldehyde_HCHO_slant_column_number_density 9.228621941006793\n",
            "Formaldehyde_cloud_fraction 9.228621941006793\n",
            "Formaldehyde_solar_zenith_angle 9.228621941006793\n",
            "Formaldehyde_solar_azimuth_angle 9.228621941006793\n",
            "Formaldehyde_sensor_zenith_angle 9.228621941006793\n",
            "Formaldehyde_sensor_azimuth_angle 9.228621941006793\n",
            "CarbonMonoxide_CO_column_number_density 2.774727831022611\n",
            "CarbonMonoxide_H2O_column_number_density 2.774727831022611\n",
            "CarbonMonoxide_cloud_height 2.774727831022611\n",
            "CarbonMonoxide_sensor_altitude 2.774727831022611\n",
            "CarbonMonoxide_sensor_azimuth_angle 2.774727831022611\n",
            "CarbonMonoxide_sensor_zenith_angle 2.774727831022611\n",
            "CarbonMonoxide_solar_azimuth_angle 2.774727831022611\n",
            "CarbonMonoxide_solar_zenith_angle 2.774727831022611\n",
            "Ozone_O3_column_number_density 0.7146180329394249\n",
            "Ozone_O3_column_number_density_amf 0.7146180329394249\n",
            "Ozone_O3_slant_column_number_density 0.7146180329394249\n",
            "Ozone_O3_effective_temperature 0.7146180329394249\n",
            "Ozone_cloud_fraction 0.7146180329394249\n",
            "Ozone_sensor_azimuth_angle 0.7146180329394249\n",
            "Ozone_sensor_zenith_angle 0.7146180329394249\n",
            "Ozone_solar_azimuth_angle 0.7146180329394249\n",
            "Ozone_solar_zenith_angle 0.7146180329394249\n",
            "UvAerosolIndex_absorbing_aerosol_index 0.7015911417139667\n",
            "UvAerosolIndex_sensor_altitude 0.7015911417139667\n",
            "UvAerosolIndex_sensor_azimuth_angle 0.7015911417139667\n",
            "UvAerosolIndex_sensor_zenith_angle 0.7015911417139667\n",
            "UvAerosolIndex_solar_azimuth_angle 0.7015911417139667\n",
            "UvAerosolIndex_solar_zenith_angle 0.7015911417139667\n",
            "Cloud_cloud_fraction 0.6252907788219969\n",
            "Cloud_cloud_top_pressure 0.6252907788219969\n",
            "Cloud_cloud_top_height 0.6252907788219969\n",
            "Cloud_cloud_base_pressure 0.6252907788219969\n",
            "Cloud_cloud_base_height 0.6252907788219969\n",
            "Cloud_cloud_optical_depth 0.6252907788219969\n",
            "Cloud_surface_albedo 0.6252907788219969\n",
            "Cloud_sensor_azimuth_angle 0.6252907788219969\n",
            "Cloud_sensor_zenith_angle 0.6252907788219969\n",
            "Cloud_solar_azimuth_angle 0.6252907788219969\n",
            "Cloud_solar_zenith_angle 0.6252907788219969\n"
          ]
        },
        {
          "output_type": "execute_result",
          "data": {
            "text/plain": [
              "['SulphurDioxide_SO2_column_number_density',\n",
              " 'SulphurDioxide_SO2_column_number_density_amf',\n",
              " 'SulphurDioxide_SO2_slant_column_number_density',\n",
              " 'SulphurDioxide_cloud_fraction',\n",
              " 'SulphurDioxide_sensor_azimuth_angle',\n",
              " 'SulphurDioxide_sensor_zenith_angle',\n",
              " 'SulphurDioxide_solar_azimuth_angle',\n",
              " 'SulphurDioxide_solar_zenith_angle',\n",
              " 'SulphurDioxide_SO2_column_number_density_15km',\n",
              " 'NitrogenDioxide_NO2_column_number_density',\n",
              " 'NitrogenDioxide_tropospheric_NO2_column_number_density',\n",
              " 'NitrogenDioxide_stratospheric_NO2_column_number_density',\n",
              " 'NitrogenDioxide_NO2_slant_column_number_density',\n",
              " 'NitrogenDioxide_tropopause_pressure',\n",
              " 'NitrogenDioxide_absorbing_aerosol_index',\n",
              " 'NitrogenDioxide_cloud_fraction',\n",
              " 'NitrogenDioxide_sensor_altitude',\n",
              " 'NitrogenDioxide_sensor_azimuth_angle',\n",
              " 'NitrogenDioxide_sensor_zenith_angle',\n",
              " 'NitrogenDioxide_solar_azimuth_angle',\n",
              " 'NitrogenDioxide_solar_zenith_angle',\n",
              " 'UvAerosolLayerHeight_aerosol_height',\n",
              " 'UvAerosolLayerHeight_aerosol_pressure',\n",
              " 'UvAerosolLayerHeight_aerosol_optical_depth',\n",
              " 'UvAerosolLayerHeight_sensor_zenith_angle',\n",
              " 'UvAerosolLayerHeight_sensor_azimuth_angle',\n",
              " 'UvAerosolLayerHeight_solar_azimuth_angle',\n",
              " 'UvAerosolLayerHeight_solar_zenith_angle']"
            ]
          },
          "metadata": {},
          "execution_count": 11
        }
      ]
    },
    {
      "cell_type": "code",
      "source": [
        "def remove_cols(df, cols):\n",
        "    return df.drop(columns=cols)\n",
        "\n",
        "df_train = remove_cols(df_train, nan_cols)\n",
        "df_val = remove_cols(df_val, nan_cols)\n",
        "df_test = remove_cols(df_test, nan_cols)\n",
        "df_submission = remove_cols(df_submission, nan_cols)"
      ],
      "metadata": {
        "id": "6DBQbtK9cCy1"
      },
      "execution_count": 14,
      "outputs": []
    },
    {
      "cell_type": "code",
      "source": [
        "assert \\\n",
        "    set(df_train.columns) - set(df_submission) == {TARGET_COLUMN} and \\\n",
        "    set(df_train) == set(df_val) == set(df_test)"
      ],
      "metadata": {
        "id": "Cxrk5F-Hcy-g"
      },
      "execution_count": 21,
      "outputs": []
    },
    {
      "cell_type": "markdown",
      "source": [
        "## Clean outliers in target feature (row-wise)"
      ],
      "metadata": {
        "id": "mbTa1IOLdPQU"
      }
    },
    {
      "cell_type": "code",
      "source": [
        "df_train['emission'].describe()"
      ],
      "metadata": {
        "colab": {
          "base_uri": "https://localhost:8080/"
        },
        "id": "vqR8CTHFd7IH",
        "outputId": "8dc1c3e6-a2a1-479e-b3c0-96c9ce7a8af0"
      },
      "execution_count": 28,
      "outputs": [
        {
          "output_type": "execute_result",
          "data": {
            "text/plain": [
              "count    53735.000000\n",
              "mean        81.751192\n",
              "std        144.095447\n",
              "min          0.000000\n",
              "25%          9.688742\n",
              "50%         45.482280\n",
              "75%        109.397098\n",
              "max       3167.768000\n",
              "Name: emission, dtype: float64"
            ]
          },
          "metadata": {},
          "execution_count": 28
        }
      ]
    },
    {
      "cell_type": "code",
      "source": [
        "TARGET_OUTLIER_THRESHOLD = 250\n",
        "\n",
        "print(\n",
        "    df_train.loc[df_train[TARGET_COLUMN] >= TARGET_OUTLIER_THRESHOLD].shape[0] /\n",
        "    df_train.shape[0]\n",
        ")\n",
        "\n",
        "print(\n",
        "    df_train.loc[\n",
        "        df_train[TARGET_COLUMN] < TARGET_OUTLIER_THRESHOLD\n",
        "    ][TARGET_COLUMN].describe()\n",
        ")\n",
        "\n",
        "_, ax = plt.subplots(1, 2)\n",
        "df_train[[TARGET_COLUMN]].boxplot(ax=ax[0])\n",
        "df_train.loc[\n",
        "    df_train[TARGET_COLUMN] < TARGET_OUTLIER_THRESHOLD,\n",
        "    :\n",
        "][[TARGET_COLUMN]].boxplot(ax=ax[1])"
      ],
      "metadata": {
        "colab": {
          "base_uri": "https://localhost:8080/",
          "height": 621
        },
        "id": "VMmVR-6Udk9S",
        "outputId": "e726f01a-1f38-486d-8adf-2871b0969e43"
      },
      "execution_count": 42,
      "outputs": [
        {
          "output_type": "stream",
          "name": "stdout",
          "text": [
            "0.057709128128780124\n",
            "count    50634.000000\n",
            "mean        60.645843\n",
            "std         61.284971\n",
            "min          0.000000\n",
            "25%          7.936085\n",
            "50%         40.785533\n",
            "75%         97.942678\n",
            "max        249.980670\n",
            "Name: emission, dtype: float64\n"
          ]
        },
        {
          "output_type": "execute_result",
          "data": {
            "text/plain": [
              "<Axes: >"
            ]
          },
          "metadata": {},
          "execution_count": 42
        },
        {
          "output_type": "display_data",
          "data": {
            "text/plain": [
              "<Figure size 640x480 with 2 Axes>"
            ],
            "image/png": "[encoded data removed]"
          },
          "metadata": {}
        }
      ]
    },
    {
      "cell_type": "code",
      "source": [
        "def clean_outlier(df, val):\n",
        "    print(f'Shape before: {df.shape}')\n",
        "    df = df.loc[\n",
        "        df[TARGET_COLUMN] <= val,\n",
        "        :\n",
        "    ]\n",
        "    print(f'Shape after: {df.shape}')\n",
        "    return df\n",
        "\n",
        "df_train = clean_outlier(df_train, TARGET_OUTLIER_THRESHOLD)\n",
        "df_val = clean_outlier(df_val, TARGET_OUTLIER_THRESHOLD)\n",
        "df_test = clean_outlier(df_test, TARGET_OUTLIER_THRESHOLD)\n",
        "\n",
        "# df_submission does not have TARGET_COLUMN"
      ],
      "metadata": {
        "colab": {
          "base_uri": "https://localhost:8080/"
        },
        "id": "gUiU2bG9fOn5",
        "outputId": "a5cbbb25-594d-4846-9269-02d48e93aa92"
      },
      "execution_count": 43,
      "outputs": [
        {
          "output_type": "stream",
          "name": "stdout",
          "text": [
            "Shape before: (53735, 48)\n",
            "Shape after: (50634, 48)\n",
            "Shape before: (13434, 48)\n",
            "Shape after: (12611, 48)\n",
            "Shape before: (11854, 48)\n",
            "Shape after: (11160, 48)\n"
          ]
        }
      ]
    },
    {
      "cell_type": "code",
      "source": [],
      "metadata": {
        "id": "VKhlAiabfn45"
      },
      "execution_count": null,
      "outputs": []
    }
  ]
}