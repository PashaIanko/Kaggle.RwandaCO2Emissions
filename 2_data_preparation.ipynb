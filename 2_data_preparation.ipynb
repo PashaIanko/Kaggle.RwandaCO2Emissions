{
  "nbformat": 4,
  "nbformat_minor": 0,
  "metadata": {
    "colab": {
      "provenance": [],
      "toc_visible": true,
      "authorship_tag": "ABX9TyMZsF/Cw+5fwpAHcNCm2u3I",
      "include_colab_link": true
    },
    "kernelspec": {
      "name": "python3",
      "display_name": "Python 3"
    },
    "language_info": {
      "name": "python"
    }
  },
  "cells": [
    {
      "cell_type": "markdown",
      "metadata": {
        "id": "view-in-github",
        "colab_type": "text"
      },
      "source": [
        "<a href=\"https://colab.research.google.com/github/PashaIanko/Kaggle.RwandaCO2Emissions/blob/data_preparation_baseline/2_data_preparation.ipynb\" target=\"_parent\"><img src=\"https://colab.research.google.com/assets/colab-badge.svg\" alt=\"Open In Colab\"/></a>"
      ]
    },
    {
      "cell_type": "markdown",
      "source": [
        "# Imports"
      ],
      "metadata": {
        "id": "zFA4SslzXnFD"
      }
    },
    {
      "cell_type": "code",
      "execution_count": 1,
      "metadata": {
        "id": "n6ixbEuOXaHc"
      },
      "outputs": [],
      "source": [
        "from google.colab import drive\n",
        "\n",
        "# Datasets\n",
        "import pandas as pd\n",
        "\n",
        "# Numerics\n",
        "import numpy as np\n",
        "\n",
        "# Plotting\n",
        "import matplotlib.pyplot as plt\n",
        "\n",
        "# Preprocessing & pipelines\n",
        "from sklearn.pipeline import make_pipeline\n",
        "from sklearn.compose import ColumnTransformer\n",
        "from sklearn.impute import SimpleImputer\n",
        "from sklearn.preprocessing import StandardScaler\n",
        "\n",
        "# Data management\n",
        "from sklearn.model_selection import train_test_split\n",
        "\n",
        "# Other\n",
        "import os"
      ]
    },
    {
      "cell_type": "markdown",
      "source": [
        "# Setup"
      ],
      "metadata": {
        "id": "OWPnj-hUXo9e"
      }
    },
    {
      "cell_type": "code",
      "source": [
        "# %%capture\n",
        "GIT_DOWNLOAD_PATH = 'https://raw.githubusercontent.com/PashaIanko/Sklearn-Utils/main/'\n",
        "FILES_LIST = [\n",
        "    'path_manager.py',\n",
        "    'sklearn_transformers.py',\n",
        "    'sklearn_utils.py',\n",
        "    'model.py'\n",
        "]\n",
        "GDRIVE_PATH = '/content/gdrive/MyDrive/'\n",
        "PREPROC_TRIAL = 1\n",
        "MODELS_TRIAL = 1\n",
        "COMPETITION_PATH = GDRIVE_PATH + 'ML/Competitions/8.CO2Emissions/' # e.g. GDRIVE_PATH + 'ML/Competitions/8.CO2Emissions/'\n",
        "# --------------------------------------------------\n",
        "try:\n",
        "    from nbpep8.nbpep8 import pep8\n",
        "except ModuleNotFoundError:\n",
        "    !pip install pycodestyle\n",
        "    !pip install --index-url https://test.pypi.org/simple/ nbpep8\n",
        "from nbpep8.nbpep8 import pep8\n",
        "# ---------------------------------------\n",
        "def download_files(url_dict):\n",
        "    for file, url in url_dict.items():\n",
        "        print(f'Downloading {file}')\n",
        "        !wget -O {file} {url} {file}\n",
        "url_dict = {file: GIT_DOWNLOAD_PATH + file for file in FILES_LIST}\n",
        "print('a')\n",
        "download_files(url_dict)\n",
        "# ---------------------------------------\n",
        "import importlib\n",
        "import path_manager\n",
        "import sklearn_utils\n",
        "import sklearn_transformers\n",
        "import model\n",
        "def reload_all(modules_list_):\n",
        "    for module in modules_list_:\n",
        "        importlib.reload(module)\n",
        "MODULES_LIST = [\n",
        "    path_manager,\n",
        "    sklearn_utils,\n",
        "    sklearn_transformers,\n",
        "    model\n",
        "]\n",
        "reload_all(MODULES_LIST)\n",
        "# ---------------------------------------\n",
        "from path_manager import PathManager\n",
        "from model import Model\n",
        "from sklearn_utils import nan_statistics\n",
        "from sklearn_utils import boxplot_regression\n",
        "from sklearn_utils import get_correlated_attributes\n",
        "from sklearn_utils import visualize_datasets_distributions\n",
        "from sklearn_transformers import ColumnDropper\n",
        "from sklearn_transformers import LogTransformer\n",
        "# ---------------------------------------\n",
        "from google.colab import drive\n",
        "drive.mount('/content/gdrive')\n",
        "manager = PathManager(\n",
        "    competition_path=COMPETITION_PATH,\n",
        "    preprocessing_trial=PREPROC_TRIAL,\n",
        "    models_trial=MODELS_TRIAL\n",
        ")\n",
        "manager.setup_paths()"
      ],
      "metadata": {
        "colab": {
          "base_uri": "https://localhost:8080/"
        },
        "id": "Id8sjOEhXj7g",
        "outputId": "76626508-733d-4132-f790-755ecb10b998"
      },
      "execution_count": 104,
      "outputs": [
        {
          "output_type": "stream",
          "name": "stdout",
          "text": [
            "a\n",
            "Downloading path_manager.py\n",
            "--2023-09-29 11:14:46--  https://raw.githubusercontent.com/PashaIanko/Sklearn-Utils/main/path_manager.py\n",
            "Resolving raw.githubusercontent.com (raw.githubusercontent.com)... 185.199.109.133, 185.199.108.133, 185.199.111.133, ...\n",
            "Connecting to raw.githubusercontent.com (raw.githubusercontent.com)|185.199.109.133|:443... connected.\n",
            "HTTP request sent, awaiting response... 200 OK\n",
            "Length: 3482 (3.4K) [text/plain]\n",
            "Saving to: ‘path_manager.py’\n",
            "\n",
            "path_manager.py     100%[===================>]   3.40K  --.-KB/s    in 0s      \n",
            "\n",
            "2023-09-29 11:14:47 (49.5 MB/s) - ‘path_manager.py’ saved [3482/3482]\n",
            "\n",
            "--2023-09-29 11:14:47--  http://path_manager.py/\n",
            "Resolving path_manager.py (path_manager.py)... failed: Name or service not known.\n",
            "wget: unable to resolve host address ‘path_manager.py’\n",
            "FINISHED --2023-09-29 11:14:47--\n",
            "Total wall clock time: 0.9s\n",
            "Downloaded: 1 files, 3.4K in 0s (49.5 MB/s)\n",
            "Downloading sklearn_transformers.py\n",
            "--2023-09-29 11:14:47--  https://raw.githubusercontent.com/PashaIanko/Sklearn-Utils/main/sklearn_transformers.py\n",
            "Resolving raw.githubusercontent.com (raw.githubusercontent.com)... 185.199.108.133, 185.199.109.133, 185.199.110.133, ...\n",
            "Connecting to raw.githubusercontent.com (raw.githubusercontent.com)|185.199.108.133|:443... connected.\n",
            "HTTP request sent, awaiting response... 200 OK\n",
            "Length: 2014 (2.0K) [text/plain]\n",
            "Saving to: ‘sklearn_transformers.py’\n",
            "\n",
            "sklearn_transformer 100%[===================>]   1.97K  --.-KB/s    in 0s      \n",
            "\n",
            "2023-09-29 11:14:47 (25.3 MB/s) - ‘sklearn_transformers.py’ saved [2014/2014]\n",
            "\n",
            "--2023-09-29 11:14:47--  http://sklearn_transformers.py/\n",
            "Resolving sklearn_transformers.py (sklearn_transformers.py)... failed: Name or service not known.\n",
            "wget: unable to resolve host address ‘sklearn_transformers.py’\n",
            "FINISHED --2023-09-29 11:14:47--\n",
            "Total wall clock time: 0.4s\n",
            "Downloaded: 1 files, 2.0K in 0s (25.3 MB/s)\n",
            "Downloading sklearn_utils.py\n",
            "--2023-09-29 11:14:47--  https://raw.githubusercontent.com/PashaIanko/Sklearn-Utils/main/sklearn_utils.py\n",
            "Resolving raw.githubusercontent.com (raw.githubusercontent.com)... 185.199.108.133, 185.199.109.133, 185.199.110.133, ...\n",
            "Connecting to raw.githubusercontent.com (raw.githubusercontent.com)|185.199.108.133|:443... connected.\n",
            "HTTP request sent, awaiting response... 200 OK\n",
            "Length: 15121 (15K) [text/plain]\n",
            "Saving to: ‘sklearn_utils.py’\n",
            "\n",
            "sklearn_utils.py    100%[===================>]  14.77K  --.-KB/s    in 0.003s  \n",
            "\n",
            "2023-09-29 11:14:48 (4.36 MB/s) - ‘sklearn_utils.py’ saved [15121/15121]\n",
            "\n",
            "--2023-09-29 11:14:48--  http://sklearn_utils.py/\n",
            "Resolving sklearn_utils.py (sklearn_utils.py)... failed: Name or service not known.\n",
            "wget: unable to resolve host address ‘sklearn_utils.py’\n",
            "FINISHED --2023-09-29 11:14:48--\n",
            "Total wall clock time: 0.7s\n",
            "Downloaded: 1 files, 15K in 0.003s (4.36 MB/s)\n",
            "Downloading model.py\n",
            "--2023-09-29 11:14:48--  https://raw.githubusercontent.com/PashaIanko/Sklearn-Utils/main/model.py\n",
            "Resolving raw.githubusercontent.com (raw.githubusercontent.com)... 185.199.108.133, 185.199.109.133, 185.199.110.133, ...\n",
            "Connecting to raw.githubusercontent.com (raw.githubusercontent.com)|185.199.108.133|:443... connected.\n",
            "HTTP request sent, awaiting response... 200 OK\n",
            "Length: 171 [text/plain]\n",
            "Saving to: ‘model.py’\n",
            "\n",
            "model.py            100%[===================>]     171  --.-KB/s    in 0s      \n",
            "\n",
            "2023-09-29 11:14:49 (11.6 MB/s) - ‘model.py’ saved [171/171]\n",
            "\n",
            "--2023-09-29 11:14:49--  http://model.py/\n",
            "Resolving model.py (model.py)... failed: Name or service not known.\n",
            "wget: unable to resolve host address ‘model.py’\n",
            "FINISHED --2023-09-29 11:14:49--\n",
            "Total wall clock time: 0.4s\n",
            "Downloaded: 1 files, 171 in 0s (11.6 MB/s)\n",
            "Drive already mounted at /content/gdrive; to attempt to forcibly remount, call drive.mount(\"/content/gdrive\", force_remount=True).\n",
            "/content/gdrive/MyDrive/ML/Competitions/8.CO2Emissions/Data/preproc_trial_1 already exists\n",
            "/content/gdrive/MyDrive/ML/Competitions/8.CO2Emissions/Models/trial_1 already exists\n"
          ]
        }
      ]
    },
    {
      "cell_type": "markdown",
      "source": [
        "# Download the data"
      ],
      "metadata": {
        "id": "cQ7dQKW7X4p7"
      }
    },
    {
      "cell_type": "code",
      "source": [
        "df_train = pd.read_csv(manager.train_path)"
      ],
      "metadata": {
        "id": "X7gLXfSeX5mF"
      },
      "execution_count": 57,
      "outputs": []
    },
    {
      "cell_type": "code",
      "source": [
        "df_submission = pd.read_csv(manager.test_path)"
      ],
      "metadata": {
        "id": "ZRBG2DUwYLa9"
      },
      "execution_count": 58,
      "outputs": []
    },
    {
      "cell_type": "code",
      "source": [
        "assert len(df_train.columns) == len(df_submission.columns) + 1\n",
        "assert set(df_train.columns) - set(df_submission.columns) == {'emission'}"
      ],
      "metadata": {
        "id": "SS5vp2GmYOeU"
      },
      "execution_count": 59,
      "outputs": []
    },
    {
      "cell_type": "markdown",
      "source": [
        "# Split the data"
      ],
      "metadata": {
        "id": "G81SsV6MYgQW"
      }
    },
    {
      "cell_type": "markdown",
      "source": [
        "- We split available, labeled training data into **trainval** and **test set**"
      ],
      "metadata": {
        "id": "kaPUqS0MYh40"
      }
    },
    {
      "cell_type": "code",
      "source": [
        "TRAINVAL_PERCENT = 0.85\n",
        "TRAIN_PERCENT = 0.8\n",
        "RANDOM_STATE = 42\n",
        "TARGET_COLUMN = 'emission'\n",
        "\n",
        "df_trainval, df_test = train_test_split(\n",
        "    df_train,\n",
        "    train_size=TRAINVAL_PERCENT,\n",
        "    random_state=RANDOM_STATE\n",
        ")\n",
        "\n",
        "df_train, df_val = train_test_split(\n",
        "    df_trainval,\n",
        "    train_size=TRAIN_PERCENT,\n",
        "    random_state=RANDOM_STATE\n",
        ")\n",
        "\n",
        "df_train.shape, df_val.shape, df_test.shape"
      ],
      "metadata": {
        "colab": {
          "base_uri": "https://localhost:8080/"
        },
        "id": "3K7ayynYYtNb",
        "outputId": "bc19359f-6357-47e1-add6-86e6ded246ca"
      },
      "execution_count": 60,
      "outputs": [
        {
          "output_type": "execute_result",
          "data": {
            "text/plain": [
              "((53735, 76), (13434, 76), (11854, 76))"
            ]
          },
          "metadata": {},
          "execution_count": 60
        }
      ]
    },
    {
      "cell_type": "markdown",
      "source": [
        "## Make sure train, validation and test are from the same distribution"
      ],
      "metadata": {
        "id": "tsieQqs6bDGf"
      }
    },
    {
      "cell_type": "markdown",
      "source": [
        "# Not implemented, the code takes forever, big datasets"
      ],
      "metadata": {
        "id": "di65_OJpbFxJ"
      }
    },
    {
      "cell_type": "markdown",
      "source": [
        "# Process the data"
      ],
      "metadata": {
        "id": "WIoFxrNubMcy"
      }
    },
    {
      "cell_type": "markdown",
      "source": [
        "## Cleaning NAN columns"
      ],
      "metadata": {
        "id": "g8fjLw2lbOll"
      }
    },
    {
      "cell_type": "code",
      "source": [
        "NAN_THRESHOLD = 18\n",
        "\n",
        "res = nan_statistics(df_train)\n",
        "nan_cols = [col for col in res.keys() if res[col] >= NAN_THRESHOLD]\n",
        "nan_cols"
      ],
      "metadata": {
        "colab": {
          "base_uri": "https://localhost:8080/"
        },
        "id": "VNB_BkG9bXA0",
        "outputId": "4cc899ec-1a05-464f-9ad0-4078a3af2467"
      },
      "execution_count": 61,
      "outputs": [
        {
          "output_type": "stream",
          "name": "stdout",
          "text": [
            "Col -- Nan percentage\n",
            "UvAerosolLayerHeight_aerosol_height 99.43612170838374\n",
            "UvAerosolLayerHeight_aerosol_pressure 99.43612170838374\n",
            "UvAerosolLayerHeight_aerosol_optical_depth 99.43612170838374\n",
            "UvAerosolLayerHeight_sensor_zenith_angle 99.43612170838374\n",
            "UvAerosolLayerHeight_sensor_azimuth_angle 99.43612170838374\n",
            "UvAerosolLayerHeight_solar_azimuth_angle 99.43612170838374\n",
            "UvAerosolLayerHeight_solar_zenith_angle 99.43612170838374\n",
            "NitrogenDioxide_NO2_column_number_density 23.23997394621755\n",
            "NitrogenDioxide_tropospheric_NO2_column_number_density 23.23997394621755\n",
            "NitrogenDioxide_stratospheric_NO2_column_number_density 23.23997394621755\n",
            "NitrogenDioxide_NO2_slant_column_number_density 23.23997394621755\n",
            "NitrogenDioxide_tropopause_pressure 23.23997394621755\n",
            "NitrogenDioxide_absorbing_aerosol_index 23.23997394621755\n",
            "NitrogenDioxide_cloud_fraction 23.23997394621755\n",
            "NitrogenDioxide_sensor_altitude 23.23997394621755\n",
            "NitrogenDioxide_sensor_azimuth_angle 23.23997394621755\n",
            "NitrogenDioxide_sensor_zenith_angle 23.23997394621755\n",
            "NitrogenDioxide_solar_azimuth_angle 23.23997394621755\n",
            "NitrogenDioxide_solar_zenith_angle 23.23997394621755\n",
            "SulphurDioxide_SO2_column_number_density 18.4926025867684\n",
            "SulphurDioxide_SO2_column_number_density_amf 18.4926025867684\n",
            "SulphurDioxide_SO2_slant_column_number_density 18.4926025867684\n",
            "SulphurDioxide_cloud_fraction 18.4926025867684\n",
            "SulphurDioxide_sensor_azimuth_angle 18.4926025867684\n",
            "SulphurDioxide_sensor_zenith_angle 18.4926025867684\n",
            "SulphurDioxide_solar_azimuth_angle 18.4926025867684\n",
            "SulphurDioxide_solar_zenith_angle 18.4926025867684\n",
            "SulphurDioxide_SO2_column_number_density_15km 18.4926025867684\n",
            "Formaldehyde_tropospheric_HCHO_column_number_density 9.228621941006793\n",
            "Formaldehyde_tropospheric_HCHO_column_number_density_amf 9.228621941006793\n",
            "Formaldehyde_HCHO_slant_column_number_density 9.228621941006793\n",
            "Formaldehyde_cloud_fraction 9.228621941006793\n",
            "Formaldehyde_solar_zenith_angle 9.228621941006793\n",
            "Formaldehyde_solar_azimuth_angle 9.228621941006793\n",
            "Formaldehyde_sensor_zenith_angle 9.228621941006793\n",
            "Formaldehyde_sensor_azimuth_angle 9.228621941006793\n",
            "CarbonMonoxide_CO_column_number_density 2.774727831022611\n",
            "CarbonMonoxide_H2O_column_number_density 2.774727831022611\n",
            "CarbonMonoxide_cloud_height 2.774727831022611\n",
            "CarbonMonoxide_sensor_altitude 2.774727831022611\n",
            "CarbonMonoxide_sensor_azimuth_angle 2.774727831022611\n",
            "CarbonMonoxide_sensor_zenith_angle 2.774727831022611\n",
            "CarbonMonoxide_solar_azimuth_angle 2.774727831022611\n",
            "CarbonMonoxide_solar_zenith_angle 2.774727831022611\n",
            "Ozone_O3_column_number_density 0.7146180329394249\n",
            "Ozone_O3_column_number_density_amf 0.7146180329394249\n",
            "Ozone_O3_slant_column_number_density 0.7146180329394249\n",
            "Ozone_O3_effective_temperature 0.7146180329394249\n",
            "Ozone_cloud_fraction 0.7146180329394249\n",
            "Ozone_sensor_azimuth_angle 0.7146180329394249\n",
            "Ozone_sensor_zenith_angle 0.7146180329394249\n",
            "Ozone_solar_azimuth_angle 0.7146180329394249\n",
            "Ozone_solar_zenith_angle 0.7146180329394249\n",
            "UvAerosolIndex_absorbing_aerosol_index 0.7015911417139667\n",
            "UvAerosolIndex_sensor_altitude 0.7015911417139667\n",
            "UvAerosolIndex_sensor_azimuth_angle 0.7015911417139667\n",
            "UvAerosolIndex_sensor_zenith_angle 0.7015911417139667\n",
            "UvAerosolIndex_solar_azimuth_angle 0.7015911417139667\n",
            "UvAerosolIndex_solar_zenith_angle 0.7015911417139667\n",
            "Cloud_cloud_fraction 0.6252907788219969\n",
            "Cloud_cloud_top_pressure 0.6252907788219969\n",
            "Cloud_cloud_top_height 0.6252907788219969\n",
            "Cloud_cloud_base_pressure 0.6252907788219969\n",
            "Cloud_cloud_base_height 0.6252907788219969\n",
            "Cloud_cloud_optical_depth 0.6252907788219969\n",
            "Cloud_surface_albedo 0.6252907788219969\n",
            "Cloud_sensor_azimuth_angle 0.6252907788219969\n",
            "Cloud_sensor_zenith_angle 0.6252907788219969\n",
            "Cloud_solar_azimuth_angle 0.6252907788219969\n",
            "Cloud_solar_zenith_angle 0.6252907788219969\n"
          ]
        },
        {
          "output_type": "execute_result",
          "data": {
            "text/plain": [
              "['SulphurDioxide_SO2_column_number_density',\n",
              " 'SulphurDioxide_SO2_column_number_density_amf',\n",
              " 'SulphurDioxide_SO2_slant_column_number_density',\n",
              " 'SulphurDioxide_cloud_fraction',\n",
              " 'SulphurDioxide_sensor_azimuth_angle',\n",
              " 'SulphurDioxide_sensor_zenith_angle',\n",
              " 'SulphurDioxide_solar_azimuth_angle',\n",
              " 'SulphurDioxide_solar_zenith_angle',\n",
              " 'SulphurDioxide_SO2_column_number_density_15km',\n",
              " 'NitrogenDioxide_NO2_column_number_density',\n",
              " 'NitrogenDioxide_tropospheric_NO2_column_number_density',\n",
              " 'NitrogenDioxide_stratospheric_NO2_column_number_density',\n",
              " 'NitrogenDioxide_NO2_slant_column_number_density',\n",
              " 'NitrogenDioxide_tropopause_pressure',\n",
              " 'NitrogenDioxide_absorbing_aerosol_index',\n",
              " 'NitrogenDioxide_cloud_fraction',\n",
              " 'NitrogenDioxide_sensor_altitude',\n",
              " 'NitrogenDioxide_sensor_azimuth_angle',\n",
              " 'NitrogenDioxide_sensor_zenith_angle',\n",
              " 'NitrogenDioxide_solar_azimuth_angle',\n",
              " 'NitrogenDioxide_solar_zenith_angle',\n",
              " 'UvAerosolLayerHeight_aerosol_height',\n",
              " 'UvAerosolLayerHeight_aerosol_pressure',\n",
              " 'UvAerosolLayerHeight_aerosol_optical_depth',\n",
              " 'UvAerosolLayerHeight_sensor_zenith_angle',\n",
              " 'UvAerosolLayerHeight_sensor_azimuth_angle',\n",
              " 'UvAerosolLayerHeight_solar_azimuth_angle',\n",
              " 'UvAerosolLayerHeight_solar_zenith_angle']"
            ]
          },
          "metadata": {},
          "execution_count": 61
        }
      ]
    },
    {
      "cell_type": "code",
      "source": [
        "def remove_cols(df, cols):\n",
        "    return df.drop(columns=cols)\n",
        "\n",
        "df_train = remove_cols(df_train, nan_cols)\n",
        "df_val = remove_cols(df_val, nan_cols)\n",
        "df_test = remove_cols(df_test, nan_cols)\n",
        "df_submission = remove_cols(df_submission, nan_cols)"
      ],
      "metadata": {
        "id": "6DBQbtK9cCy1"
      },
      "execution_count": 62,
      "outputs": []
    },
    {
      "cell_type": "code",
      "source": [
        "assert \\\n",
        "    set(df_train.columns) - set(df_submission) == {TARGET_COLUMN} and \\\n",
        "    set(df_train) == set(df_val) == set(df_test)"
      ],
      "metadata": {
        "id": "Cxrk5F-Hcy-g"
      },
      "execution_count": 63,
      "outputs": []
    },
    {
      "cell_type": "markdown",
      "source": [
        "## Clean outliers in target feature (row-wise)"
      ],
      "metadata": {
        "id": "mbTa1IOLdPQU"
      }
    },
    {
      "cell_type": "code",
      "source": [
        "df_train['emission'].describe()"
      ],
      "metadata": {
        "colab": {
          "base_uri": "https://localhost:8080/"
        },
        "id": "vqR8CTHFd7IH",
        "outputId": "9d86b429-8232-46b1-9886-934b5c2590a6"
      },
      "execution_count": 64,
      "outputs": [
        {
          "output_type": "execute_result",
          "data": {
            "text/plain": [
              "count    53735.000000\n",
              "mean        81.751192\n",
              "std        144.095447\n",
              "min          0.000000\n",
              "25%          9.688742\n",
              "50%         45.482280\n",
              "75%        109.397098\n",
              "max       3167.768000\n",
              "Name: emission, dtype: float64"
            ]
          },
          "metadata": {},
          "execution_count": 64
        }
      ]
    },
    {
      "cell_type": "code",
      "source": [
        "TARGET_OUTLIER_THRESHOLD = 250\n",
        "\n",
        "print(\n",
        "    df_train.loc[df_train[TARGET_COLUMN] >= TARGET_OUTLIER_THRESHOLD].shape[0] /\n",
        "    df_train.shape[0]\n",
        ")\n",
        "\n",
        "print(\n",
        "    df_train.loc[\n",
        "        df_train[TARGET_COLUMN] < TARGET_OUTLIER_THRESHOLD\n",
        "    ][TARGET_COLUMN].describe()\n",
        ")\n",
        "\n",
        "_, ax = plt.subplots(1, 2)\n",
        "df_train[[TARGET_COLUMN]].boxplot(ax=ax[0])\n",
        "df_train.loc[\n",
        "    df_train[TARGET_COLUMN] < TARGET_OUTLIER_THRESHOLD,\n",
        "    :\n",
        "][[TARGET_COLUMN]].boxplot(ax=ax[1])\n",
        "\n",
        "ax[0].set_title('Before outlier cleaning')\n",
        "ax[1].set_title(f'After outlier cleaning')"
      ],
      "metadata": {
        "colab": {
          "base_uri": "https://localhost:8080/",
          "height": 0
        },
        "id": "VMmVR-6Udk9S",
        "outputId": "70e1b987-18cc-4bd4-e72d-09b8e83df877"
      },
      "execution_count": 65,
      "outputs": [
        {
          "output_type": "stream",
          "name": "stdout",
          "text": [
            "0.057709128128780124\n",
            "count    50634.000000\n",
            "mean        60.645843\n",
            "std         61.284971\n",
            "min          0.000000\n",
            "25%          7.936085\n",
            "50%         40.785533\n",
            "75%         97.942678\n",
            "max        249.980670\n",
            "Name: emission, dtype: float64\n"
          ]
        },
        {
          "output_type": "execute_result",
          "data": {
            "text/plain": [
              "Text(0.5, 1.0, 'After outlier cleaning')"
            ]
          },
          "metadata": {},
          "execution_count": 65
        },
        {
          "output_type": "display_data",
          "data": {
            "text/plain": [
              "<Figure size 640x480 with 2 Axes>"
            ],
            "image/png": "[encoded data removed]"
          },
          "metadata": {}
        }
      ]
    },
    {
      "cell_type": "code",
      "source": [
        "def clean_outlier(df, val):\n",
        "    print(f'Shape before: {df.shape}')\n",
        "    df = df.loc[\n",
        "        df[TARGET_COLUMN] <= val,\n",
        "        :\n",
        "    ]\n",
        "    print(f'Shape after: {df.shape}')\n",
        "    return df\n",
        "\n",
        "df_train = clean_outlier(df_train, TARGET_OUTLIER_THRESHOLD)\n",
        "df_val = clean_outlier(df_val, TARGET_OUTLIER_THRESHOLD)\n",
        "df_test = clean_outlier(df_test, TARGET_OUTLIER_THRESHOLD)\n",
        "\n",
        "# df_submission does not have TARGET_COLUMN"
      ],
      "metadata": {
        "colab": {
          "base_uri": "https://localhost:8080/"
        },
        "id": "gUiU2bG9fOn5",
        "outputId": "84aada2a-8f8a-45b6-e8e9-b0b4c54085d9"
      },
      "execution_count": 66,
      "outputs": [
        {
          "output_type": "stream",
          "name": "stdout",
          "text": [
            "Shape before: (53735, 48)\n",
            "Shape after: (50634, 48)\n",
            "Shape before: (13434, 48)\n",
            "Shape after: (12611, 48)\n",
            "Shape before: (11854, 48)\n",
            "Shape after: (11160, 48)\n"
          ]
        }
      ]
    },
    {
      "cell_type": "markdown",
      "source": [
        "# Removing categorical columns"
      ],
      "metadata": {
        "id": "aTrhgihwgQZl"
      }
    },
    {
      "cell_type": "code",
      "source": [
        "train_cat_col = df_train.dtypes.loc[df_train.dtypes == 'object']\n",
        "val_cat_col = df_val.dtypes.loc[df_train.dtypes == 'object']\n",
        "test_cat_col = df_test.dtypes.loc[df_test.dtypes == 'object']\n",
        "submission_cat_col = df_submission.dtypes.loc[df_submission.dtypes == 'object']\n",
        "\n",
        "assert (train_cat_col == val_cat_col).all() and (val_cat_col == test_cat_col).all() and \\\n",
        "    (train_cat_col == submission_cat_col).all() and train_cat_col.shape[0] == 1  # only 1 cat col\n",
        "print(train_cat_col)"
      ],
      "metadata": {
        "id": "6SuO7WqggpgQ",
        "outputId": "6ac90729-e4f2-46ff-e4a2-5a6b4ba6fa4a",
        "colab": {
          "base_uri": "https://localhost:8080/"
        }
      },
      "execution_count": 67,
      "outputs": [
        {
          "output_type": "stream",
          "name": "stdout",
          "text": [
            "ID_LAT_LON_YEAR_WEEK    object\n",
            "dtype: object\n"
          ]
        }
      ]
    },
    {
      "cell_type": "code",
      "source": [
        "COL_TO_DROP = 'ID_LAT_LON_YEAR_WEEK'\n",
        "\n",
        "\n",
        "params=dict(labels=[COL_TO_DROP], axis='columns', inplace=True, errors='ignore')\n",
        "df_train.drop(**params)\n",
        "df_val.drop(**params)\n",
        "df_test.drop(**params)\n",
        "df_submission.drop(**params)\n",
        "\n",
        "for df in [df_train, df_val, df_test, df_submission]:\n",
        "    assert not COL_TO_DROP in df.columns"
      ],
      "metadata": {
        "id": "0YCLWr1ThXU9"
      },
      "execution_count": 68,
      "outputs": []
    },
    {
      "cell_type": "markdown",
      "source": [
        "# Feature engineering"
      ],
      "metadata": {
        "id": "XVidsEZ1jCYP"
      }
    },
    {
      "cell_type": "markdown",
      "source": [
        "## Season feature"
      ],
      "metadata": {
        "id": "ReUiPrDzjYm-"
      }
    },
    {
      "cell_type": "code",
      "source": [
        "print(sorted(df_train.week_no.unique())), len(df_train.week_no.unique())"
      ],
      "metadata": {
        "id": "v27F5KrVjD-D",
        "outputId": "95c35eec-cd1c-4db8-936e-d2c97e67274d",
        "colab": {
          "base_uri": "https://localhost:8080/"
        }
      },
      "execution_count": 73,
      "outputs": [
        {
          "output_type": "stream",
          "name": "stdout",
          "text": [
            "[0, 1, 2, 3, 4, 5, 6, 7, 8, 9, 10, 11, 12, 13, 14, 15, 16, 17, 18, 19, 20, 21, 22, 23, 24, 25, 26, 27, 28, 29, 30, 31, 32, 33, 34, 35, 36, 37, 38, 39, 40, 41, 42, 43, 44, 45, 46, 47, 48, 49, 50, 51, 52]\n"
          ]
        },
        {
          "output_type": "execute_result",
          "data": {
            "text/plain": [
              "(None, 53)"
            ]
          },
          "metadata": {},
          "execution_count": 73
        }
      ]
    },
    {
      "cell_type": "code",
      "source": [
        "SEASON_COLUMN = 'season'\n",
        "\n",
        "WEEK_TO_SEASON_DICT = {\n",
        "    'winter': [0, 12],\n",
        "    'spring': [13, 26],\n",
        "    'summer': [27, 40],\n",
        "    'autumn': [41, 53]\n",
        "}\n",
        "\n",
        "def calculate_season(item):\n",
        "    for key, value in WEEK_TO_SEASON_DICT.items():\n",
        "        if value[0] <= item <= value[1]:\n",
        "            return key\n",
        "    raise Exception  # unexpected key\n",
        "\n",
        "def add_season_feature(df):\n",
        "    df[SEASON_COLUMN] = df['week_no'].map(\n",
        "        lambda item: calculate_season(item),\n",
        "        # axis='rows'\n",
        "    )\n",
        "    return df\n",
        "\n",
        "df_train = add_season_feature(df_train)\n",
        "df_val = add_season_feature(df_val)\n",
        "df_test = add_season_feature(df_test)\n",
        "df_submission = add_season_feature(df_submission)\n",
        "\n",
        "\n",
        "for df in [df_train, df_val, df_test, df_submission]:\n",
        "    assert SEASON_COLUMN in df.columns"
      ],
      "metadata": {
        "id": "Lloot5qnjo4G"
      },
      "execution_count": 75,
      "outputs": []
    },
    {
      "cell_type": "code",
      "source": [
        "df_train.loc[:5, ['season', 'week_no']]"
      ],
      "metadata": {
        "id": "KHJzmzUpmH-w",
        "outputId": "2406f2b9-6023-4a6a-859c-09bee8f98e19",
        "colab": {
          "base_uri": "https://localhost:8080/",
          "height": 423
        }
      },
      "execution_count": 76,
      "outputs": [
        {
          "output_type": "execute_result",
          "data": {
            "text/plain": [
              "       season  week_no\n",
              "40910  autumn       47\n",
              "30837  autumn       44\n",
              "4495   autumn       43\n",
              "58009  summer       27\n",
              "70372  autumn       41\n",
              "...       ...      ...\n",
              "16528  autumn       45\n",
              "40313  summer       33\n",
              "7283   spring       22\n",
              "30246  summer       36\n",
              "5      winter        5\n",
              "\n",
              "[49598 rows x 2 columns]"
            ],
            "text/html": [
              "\n",
              "  <div id=\"df-e48d9d55-1d78-454b-99a3-e7be3bf65bea\" class=\"colab-df-container\">\n",
              "    <div>\n",
              "<style scoped>\n",
              "    .dataframe tbody tr th:only-of-type {\n",
              "        vertical-align: middle;\n",
              "    }\n",
              "\n",
              "    .dataframe tbody tr th {\n",
              "        vertical-align: top;\n",
              "    }\n",
              "\n",
              "    .dataframe thead th {\n",
              "        text-align: right;\n",
              "    }\n",
              "</style>\n",
              "<table border=\"1\" class=\"dataframe\">\n",
              "  <thead>\n",
              "    <tr style=\"text-align: right;\">\n",
              "      <th></th>\n",
              "      <th>season</th>\n",
              "      <th>week_no</th>\n",
              "    </tr>\n",
              "  </thead>\n",
              "  <tbody>\n",
              "    <tr>\n",
              "      <th>40910</th>\n",
              "      <td>autumn</td>\n",
              "      <td>47</td>\n",
              "    </tr>\n",
              "    <tr>\n",
              "      <th>30837</th>\n",
              "      <td>autumn</td>\n",
              "      <td>44</td>\n",
              "    </tr>\n",
              "    <tr>\n",
              "      <th>4495</th>\n",
              "      <td>autumn</td>\n",
              "      <td>43</td>\n",
              "    </tr>\n",
              "    <tr>\n",
              "      <th>58009</th>\n",
              "      <td>summer</td>\n",
              "      <td>27</td>\n",
              "    </tr>\n",
              "    <tr>\n",
              "      <th>70372</th>\n",
              "      <td>autumn</td>\n",
              "      <td>41</td>\n",
              "    </tr>\n",
              "    <tr>\n",
              "      <th>...</th>\n",
              "      <td>...</td>\n",
              "      <td>...</td>\n",
              "    </tr>\n",
              "    <tr>\n",
              "      <th>16528</th>\n",
              "      <td>autumn</td>\n",
              "      <td>45</td>\n",
              "    </tr>\n",
              "    <tr>\n",
              "      <th>40313</th>\n",
              "      <td>summer</td>\n",
              "      <td>33</td>\n",
              "    </tr>\n",
              "    <tr>\n",
              "      <th>7283</th>\n",
              "      <td>spring</td>\n",
              "      <td>22</td>\n",
              "    </tr>\n",
              "    <tr>\n",
              "      <th>30246</th>\n",
              "      <td>summer</td>\n",
              "      <td>36</td>\n",
              "    </tr>\n",
              "    <tr>\n",
              "      <th>5</th>\n",
              "      <td>winter</td>\n",
              "      <td>5</td>\n",
              "    </tr>\n",
              "  </tbody>\n",
              "</table>\n",
              "<p>49598 rows × 2 columns</p>\n",
              "</div>\n",
              "    <div class=\"colab-df-buttons\">\n",
              "\n",
              "  <div class=\"colab-df-container\">\n",
              "    <button class=\"colab-df-convert\" onclick=\"convertToInteractive('df-e48d9d55-1d78-454b-99a3-e7be3bf65bea')\"\n",
              "            title=\"Convert this dataframe to an interactive table.\"\n",
              "            style=\"display:none;\">\n",
              "\n",
              "  <svg xmlns=\"http://www.w3.org/2000/svg\" height=\"24px\" viewBox=\"0 -960 960 960\">\n",
              "    <path d=\"M120-120v-720h720v720H120Zm60-500h600v-160H180v160Zm220 220h160v-160H400v160Zm0 220h160v-160H400v160ZM180-400h160v-160H180v160Zm440 0h160v-160H620v160ZM180-180h160v-160H180v160Zm440 0h160v-160H620v160Z\"/>\n",
              "  </svg>\n",
              "    </button>\n",
              "\n",
              "  <style>\n",
              "    .colab-df-container {\n",
              "      display:flex;\n",
              "      gap: 12px;\n",
              "    }\n",
              "\n",
              "    .colab-df-convert {\n",
              "      background-color: #E8F0FE;\n",
              "      border: none;\n",
              "      border-radius: 50%;\n",
              "      cursor: pointer;\n",
              "      display: none;\n",
              "      fill: #1967D2;\n",
              "      height: 32px;\n",
              "      padding: 0 0 0 0;\n",
              "      width: 32px;\n",
              "    }\n",
              "\n",
              "    .colab-df-convert:hover {\n",
              "      background-color: #E2EBFA;\n",
              "      box-shadow: 0px 1px 2px rgba(60, 64, 67, 0.3), 0px 1px 3px 1px rgba(60, 64, 67, 0.15);\n",
              "      fill: #174EA6;\n",
              "    }\n",
              "\n",
              "    .colab-df-buttons div {\n",
              "      margin-bottom: 4px;\n",
              "    }\n",
              "\n",
              "    [theme=dark] .colab-df-convert {\n",
              "      background-color: #3B4455;\n",
              "      fill: #D2E3FC;\n",
              "    }\n",
              "\n",
              "    [theme=dark] .colab-df-convert:hover {\n",
              "      background-color: #434B5C;\n",
              "      box-shadow: 0px 1px 3px 1px rgba(0, 0, 0, 0.15);\n",
              "      filter: drop-shadow(0px 1px 2px rgba(0, 0, 0, 0.3));\n",
              "      fill: #FFFFFF;\n",
              "    }\n",
              "  </style>\n",
              "\n",
              "    <script>\n",
              "      const buttonEl =\n",
              "        document.querySelector('#df-e48d9d55-1d78-454b-99a3-e7be3bf65bea button.colab-df-convert');\n",
              "      buttonEl.style.display =\n",
              "        google.colab.kernel.accessAllowed ? 'block' : 'none';\n",
              "\n",
              "      async function convertToInteractive(key) {\n",
              "        const element = document.querySelector('#df-e48d9d55-1d78-454b-99a3-e7be3bf65bea');\n",
              "        const dataTable =\n",
              "          await google.colab.kernel.invokeFunction('convertToInteractive',\n",
              "                                                    [key], {});\n",
              "        if (!dataTable) return;\n",
              "\n",
              "        const docLinkHtml = 'Like what you see? Visit the ' +\n",
              "          '<a target=\"_blank\" href=https://colab.research.google.com/notebooks/data_table.ipynb>data table notebook</a>'\n",
              "          + ' to learn more about interactive tables.';\n",
              "        element.innerHTML = '';\n",
              "        dataTable['output_type'] = 'display_data';\n",
              "        await google.colab.output.renderOutput(dataTable, element);\n",
              "        const docLink = document.createElement('div');\n",
              "        docLink.innerHTML = docLinkHtml;\n",
              "        element.appendChild(docLink);\n",
              "      }\n",
              "    </script>\n",
              "  </div>\n",
              "\n",
              "\n",
              "<div id=\"df-6f23e6a2-8c33-434d-9383-98d285c46708\">\n",
              "  <button class=\"colab-df-quickchart\" onclick=\"quickchart('df-6f23e6a2-8c33-434d-9383-98d285c46708')\"\n",
              "            title=\"Suggest charts.\"\n",
              "            style=\"display:none;\">\n",
              "\n",
              "<svg xmlns=\"http://www.w3.org/2000/svg\" height=\"24px\"viewBox=\"0 0 24 24\"\n",
              "     width=\"24px\">\n",
              "    <g>\n",
              "        <path d=\"M19 3H5c-1.1 0-2 .9-2 2v14c0 1.1.9 2 2 2h14c1.1 0 2-.9 2-2V5c0-1.1-.9-2-2-2zM9 17H7v-7h2v7zm4 0h-2V7h2v10zm4 0h-2v-4h2v4z\"/>\n",
              "    </g>\n",
              "</svg>\n",
              "  </button>\n",
              "\n",
              "<style>\n",
              "  .colab-df-quickchart {\n",
              "      --bg-color: #E8F0FE;\n",
              "      --fill-color: #1967D2;\n",
              "      --hover-bg-color: #E2EBFA;\n",
              "      --hover-fill-color: #174EA6;\n",
              "      --disabled-fill-color: #AAA;\n",
              "      --disabled-bg-color: #DDD;\n",
              "  }\n",
              "\n",
              "  [theme=dark] .colab-df-quickchart {\n",
              "      --bg-color: #3B4455;\n",
              "      --fill-color: #D2E3FC;\n",
              "      --hover-bg-color: #434B5C;\n",
              "      --hover-fill-color: #FFFFFF;\n",
              "      --disabled-bg-color: #3B4455;\n",
              "      --disabled-fill-color: #666;\n",
              "  }\n",
              "\n",
              "  .colab-df-quickchart {\n",
              "    background-color: var(--bg-color);\n",
              "    border: none;\n",
              "    border-radius: 50%;\n",
              "    cursor: pointer;\n",
              "    display: none;\n",
              "    fill: var(--fill-color);\n",
              "    height: 32px;\n",
              "    padding: 0;\n",
              "    width: 32px;\n",
              "  }\n",
              "\n",
              "  .colab-df-quickchart:hover {\n",
              "    background-color: var(--hover-bg-color);\n",
              "    box-shadow: 0 1px 2px rgba(60, 64, 67, 0.3), 0 1px 3px 1px rgba(60, 64, 67, 0.15);\n",
              "    fill: var(--button-hover-fill-color);\n",
              "  }\n",
              "\n",
              "  .colab-df-quickchart-complete:disabled,\n",
              "  .colab-df-quickchart-complete:disabled:hover {\n",
              "    background-color: var(--disabled-bg-color);\n",
              "    fill: var(--disabled-fill-color);\n",
              "    box-shadow: none;\n",
              "  }\n",
              "\n",
              "  .colab-df-spinner {\n",
              "    border: 2px solid var(--fill-color);\n",
              "    border-color: transparent;\n",
              "    border-bottom-color: var(--fill-color);\n",
              "    animation:\n",
              "      spin 1s steps(1) infinite;\n",
              "  }\n",
              "\n",
              "  @keyframes spin {\n",
              "    0% {\n",
              "      border-color: transparent;\n",
              "      border-bottom-color: var(--fill-color);\n",
              "      border-left-color: var(--fill-color);\n",
              "    }\n",
              "    20% {\n",
              "      border-color: transparent;\n",
              "      border-left-color: var(--fill-color);\n",
              "      border-top-color: var(--fill-color);\n",
              "    }\n",
              "    30% {\n",
              "      border-color: transparent;\n",
              "      border-left-color: var(--fill-color);\n",
              "      border-top-color: var(--fill-color);\n",
              "      border-right-color: var(--fill-color);\n",
              "    }\n",
              "    40% {\n",
              "      border-color: transparent;\n",
              "      border-right-color: var(--fill-color);\n",
              "      border-top-color: var(--fill-color);\n",
              "    }\n",
              "    60% {\n",
              "      border-color: transparent;\n",
              "      border-right-color: var(--fill-color);\n",
              "    }\n",
              "    80% {\n",
              "      border-color: transparent;\n",
              "      border-right-color: var(--fill-color);\n",
              "      border-bottom-color: var(--fill-color);\n",
              "    }\n",
              "    90% {\n",
              "      border-color: transparent;\n",
              "      border-bottom-color: var(--fill-color);\n",
              "    }\n",
              "  }\n",
              "</style>\n",
              "\n",
              "  <script>\n",
              "    async function quickchart(key) {\n",
              "      const quickchartButtonEl =\n",
              "        document.querySelector('#' + key + ' button');\n",
              "      quickchartButtonEl.disabled = true;  // To prevent multiple clicks.\n",
              "      quickchartButtonEl.classList.add('colab-df-spinner');\n",
              "      try {\n",
              "        const charts = await google.colab.kernel.invokeFunction(\n",
              "            'suggestCharts', [key], {});\n",
              "      } catch (error) {\n",
              "        console.error('Error during call to suggestCharts:', error);\n",
              "      }\n",
              "      quickchartButtonEl.classList.remove('colab-df-spinner');\n",
              "      quickchartButtonEl.classList.add('colab-df-quickchart-complete');\n",
              "    }\n",
              "    (() => {\n",
              "      let quickchartButtonEl =\n",
              "        document.querySelector('#df-6f23e6a2-8c33-434d-9383-98d285c46708 button');\n",
              "      quickchartButtonEl.style.display =\n",
              "        google.colab.kernel.accessAllowed ? 'block' : 'none';\n",
              "    })();\n",
              "  </script>\n",
              "</div>\n",
              "    </div>\n",
              "  </div>\n"
            ]
          },
          "metadata": {},
          "execution_count": 76
        }
      ]
    },
    {
      "cell_type": "markdown",
      "source": [
        "## Binning for latitude and longitude"
      ],
      "metadata": {
        "id": "cU42NuC6nZ8g"
      }
    },
    {
      "cell_type": "code",
      "source": [
        "from sklearn_utils import bin_column\n",
        "\n",
        "\n",
        "for df in [df_train, df_val, df_test, df_submission]:\n",
        "    assert df['latitude'].isna().sum() == 0 and \\\n",
        "        df['longitude'].isna().sum() == 0\n",
        "\n",
        "LATITUDE_BINS = [-3.3, -3.0, -2.5, -2.0, -1.5, -1.0, -0.4]\n",
        "LONGITUDE_BINS =  [28, 29.0, 29.5, 30, 30.5, 31, 32]\n",
        "\n",
        "\n",
        "for df in [df_train, df_val, df_test, df_submission]:\n",
        "    bin_column(df, 'latitude', LATITUDE_BINS)\n",
        "    bin_column(df, 'longitude', LONGITUDE_BINS)\n",
        "\n",
        "\n",
        "for df in [df_train, df_val, df_test, df_submission]:\n",
        "    assert df['latitude'].isna().sum() == 0 and \\\n",
        "        df['longitude'].isna().sum() == 0 and \\\n",
        "        df['latitude_binned'].isna().sum() == 0 and \\\n",
        "        df['longitude_binned'].isna().sum() == 0"
      ],
      "metadata": {
        "id": "Cw2tnyxnndK1",
        "outputId": "e57afe1b-549c-4d25-ac7f-71cf95a598d1",
        "colab": {
          "base_uri": "https://localhost:8080/",
          "height": 1000
        }
      },
      "execution_count": 169,
      "outputs": [
        {
          "output_type": "display_data",
          "data": {
            "text/plain": [
              "<Figure size 640x480 with 1 Axes>"
            ],
            "image/png": "[encoded data removed]"
          },
          "metadata": {}
        },
        {
          "output_type": "display_data",
          "data": {
            "text/plain": [
              "<Figure size 640x480 with 1 Axes>"
            ],
            "image/png": "[encoded data removed]"
          },
          "metadata": {}
        },
        {
          "output_type": "display_data",
          "data": {
            "text/plain": [
              "<Figure size 640x480 with 1 Axes>"
            ],
            "image/png": "[encoded data removed]"
          },
          "metadata": {}
        },
        {
          "output_type": "display_data",
          "data": {
            "text/plain": [
              "<Figure size 640x480 with 1 Axes>"
            ],
            "image/png": "[encoded data removed]"
          },
          "metadata": {}
        },
        {
          "output_type": "display_data",
          "data": {
            "text/plain": [
              "<Figure size 640x480 with 1 Axes>"
            ],
            "image/png": "[encoded data removed]"
          },
          "metadata": {}
        },
        {
          "output_type": "display_data",
          "data": {
            "text/plain": [
              "<Figure size 640x480 with 1 Axes>"
            ],
            "image/png": "[encoded data removed]"
          },
          "metadata": {}
        },
        {
          "output_type": "display_data",
          "data": {
            "text/plain": [
              "<Figure size 640x480 with 1 Axes>"
            ],
            "image/png": "[encoded data removed]"
          },
          "metadata": {}
        },
        {
          "output_type": "display_data",
          "data": {
            "text/plain": [
              "<Figure size 640x480 with 1 Axes>"
            ],
            "image/png": "[encoded data removed]"
          },
          "metadata": {}
        }
      ]
    },
    {
      "cell_type": "markdown",
      "source": [
        "## Feature cross for latitude and longitude"
      ],
      "metadata": {
        "id": "93gry2ddpw0s"
      }
    },
    {
      "cell_type": "code",
      "source": [
        "for df in [df_train, df_val, df_test, df_submission]:\n",
        "    df['coordinate_zone'] = df.apply(\n",
        "        lambda item: f'{item[\"latitude_binned\"]}x{item[\"longitude_binned\"]}',\n",
        "        axis=1\n",
        "    )\n",
        "\n",
        "assert set(df_train['coordinate_zone'].unique()) == set(df_val['coordinate_zone'].unique()) and \\\n",
        "    set(df_train['coordinate_zone'].unique()) == set(df_test['coordinate_zone'].unique()) and \\\n",
        "    set(df_train['coordinate_zone'].unique()) == set(df_submission['coordinate_zone'].unique())"
      ],
      "metadata": {
        "id": "pDUP5svxsUq1"
      },
      "execution_count": 171,
      "outputs": []
    },
    {
      "cell_type": "code",
      "source": [
        "df_train.iloc[:5, :].loc[:, ['latitude_binned', 'longitude_binned', 'coordinate_zone']]"
      ],
      "metadata": {
        "id": "HI72ECK0ytfF",
        "outputId": "5080ee72-d61d-46df-f59f-0dde65311606",
        "colab": {
          "base_uri": "https://localhost:8080/",
          "height": 206
        }
      },
      "execution_count": 174,
      "outputs": [
        {
          "output_type": "execute_result",
          "data": {
            "text/plain": [
              "      latitude_binned longitude_binned coordinate_zone\n",
              "40910               3                2             3x2\n",
              "30837               3                3             3x3\n",
              "4495                5                4             5x4\n",
              "58009               2                0             2x0\n",
              "70372               1                3             1x3"
            ],
            "text/html": [
              "\n",
              "  <div id=\"df-5c051f98-5b80-46f1-a139-20828c433a18\" class=\"colab-df-container\">\n",
              "    <div>\n",
              "<style scoped>\n",
              "    .dataframe tbody tr th:only-of-type {\n",
              "        vertical-align: middle;\n",
              "    }\n",
              "\n",
              "    .dataframe tbody tr th {\n",
              "        vertical-align: top;\n",
              "    }\n",
              "\n",
              "    .dataframe thead th {\n",
              "        text-align: right;\n",
              "    }\n",
              "</style>\n",
              "<table border=\"1\" class=\"dataframe\">\n",
              "  <thead>\n",
              "    <tr style=\"text-align: right;\">\n",
              "      <th></th>\n",
              "      <th>latitude_binned</th>\n",
              "      <th>longitude_binned</th>\n",
              "      <th>coordinate_zone</th>\n",
              "    </tr>\n",
              "  </thead>\n",
              "  <tbody>\n",
              "    <tr>\n",
              "      <th>40910</th>\n",
              "      <td>3</td>\n",
              "      <td>2</td>\n",
              "      <td>3x2</td>\n",
              "    </tr>\n",
              "    <tr>\n",
              "      <th>30837</th>\n",
              "      <td>3</td>\n",
              "      <td>3</td>\n",
              "      <td>3x3</td>\n",
              "    </tr>\n",
              "    <tr>\n",
              "      <th>4495</th>\n",
              "      <td>5</td>\n",
              "      <td>4</td>\n",
              "      <td>5x4</td>\n",
              "    </tr>\n",
              "    <tr>\n",
              "      <th>58009</th>\n",
              "      <td>2</td>\n",
              "      <td>0</td>\n",
              "      <td>2x0</td>\n",
              "    </tr>\n",
              "    <tr>\n",
              "      <th>70372</th>\n",
              "      <td>1</td>\n",
              "      <td>3</td>\n",
              "      <td>1x3</td>\n",
              "    </tr>\n",
              "  </tbody>\n",
              "</table>\n",
              "</div>\n",
              "    <div class=\"colab-df-buttons\">\n",
              "\n",
              "  <div class=\"colab-df-container\">\n",
              "    <button class=\"colab-df-convert\" onclick=\"convertToInteractive('df-5c051f98-5b80-46f1-a139-20828c433a18')\"\n",
              "            title=\"Convert this dataframe to an interactive table.\"\n",
              "            style=\"display:none;\">\n",
              "\n",
              "  <svg xmlns=\"http://www.w3.org/2000/svg\" height=\"24px\" viewBox=\"0 -960 960 960\">\n",
              "    <path d=\"M120-120v-720h720v720H120Zm60-500h600v-160H180v160Zm220 220h160v-160H400v160Zm0 220h160v-160H400v160ZM180-400h160v-160H180v160Zm440 0h160v-160H620v160ZM180-180h160v-160H180v160Zm440 0h160v-160H620v160Z\"/>\n",
              "  </svg>\n",
              "    </button>\n",
              "\n",
              "  <style>\n",
              "    .colab-df-container {\n",
              "      display:flex;\n",
              "      gap: 12px;\n",
              "    }\n",
              "\n",
              "    .colab-df-convert {\n",
              "      background-color: #E8F0FE;\n",
              "      border: none;\n",
              "      border-radius: 50%;\n",
              "      cursor: pointer;\n",
              "      display: none;\n",
              "      fill: #1967D2;\n",
              "      height: 32px;\n",
              "      padding: 0 0 0 0;\n",
              "      width: 32px;\n",
              "    }\n",
              "\n",
              "    .colab-df-convert:hover {\n",
              "      background-color: #E2EBFA;\n",
              "      box-shadow: 0px 1px 2px rgba(60, 64, 67, 0.3), 0px 1px 3px 1px rgba(60, 64, 67, 0.15);\n",
              "      fill: #174EA6;\n",
              "    }\n",
              "\n",
              "    .colab-df-buttons div {\n",
              "      margin-bottom: 4px;\n",
              "    }\n",
              "\n",
              "    [theme=dark] .colab-df-convert {\n",
              "      background-color: #3B4455;\n",
              "      fill: #D2E3FC;\n",
              "    }\n",
              "\n",
              "    [theme=dark] .colab-df-convert:hover {\n",
              "      background-color: #434B5C;\n",
              "      box-shadow: 0px 1px 3px 1px rgba(0, 0, 0, 0.15);\n",
              "      filter: drop-shadow(0px 1px 2px rgba(0, 0, 0, 0.3));\n",
              "      fill: #FFFFFF;\n",
              "    }\n",
              "  </style>\n",
              "\n",
              "    <script>\n",
              "      const buttonEl =\n",
              "        document.querySelector('#df-5c051f98-5b80-46f1-a139-20828c433a18 button.colab-df-convert');\n",
              "      buttonEl.style.display =\n",
              "        google.colab.kernel.accessAllowed ? 'block' : 'none';\n",
              "\n",
              "      async function convertToInteractive(key) {\n",
              "        const element = document.querySelector('#df-5c051f98-5b80-46f1-a139-20828c433a18');\n",
              "        const dataTable =\n",
              "          await google.colab.kernel.invokeFunction('convertToInteractive',\n",
              "                                                    [key], {});\n",
              "        if (!dataTable) return;\n",
              "\n",
              "        const docLinkHtml = 'Like what you see? Visit the ' +\n",
              "          '<a target=\"_blank\" href=https://colab.research.google.com/notebooks/data_table.ipynb>data table notebook</a>'\n",
              "          + ' to learn more about interactive tables.';\n",
              "        element.innerHTML = '';\n",
              "        dataTable['output_type'] = 'display_data';\n",
              "        await google.colab.output.renderOutput(dataTable, element);\n",
              "        const docLink = document.createElement('div');\n",
              "        docLink.innerHTML = docLinkHtml;\n",
              "        element.appendChild(docLink);\n",
              "      }\n",
              "    </script>\n",
              "  </div>\n",
              "\n",
              "\n",
              "<div id=\"df-c8d882dc-fc11-4837-b001-1d212c824185\">\n",
              "  <button class=\"colab-df-quickchart\" onclick=\"quickchart('df-c8d882dc-fc11-4837-b001-1d212c824185')\"\n",
              "            title=\"Suggest charts.\"\n",
              "            style=\"display:none;\">\n",
              "\n",
              "<svg xmlns=\"http://www.w3.org/2000/svg\" height=\"24px\"viewBox=\"0 0 24 24\"\n",
              "     width=\"24px\">\n",
              "    <g>\n",
              "        <path d=\"M19 3H5c-1.1 0-2 .9-2 2v14c0 1.1.9 2 2 2h14c1.1 0 2-.9 2-2V5c0-1.1-.9-2-2-2zM9 17H7v-7h2v7zm4 0h-2V7h2v10zm4 0h-2v-4h2v4z\"/>\n",
              "    </g>\n",
              "</svg>\n",
              "  </button>\n",
              "\n",
              "<style>\n",
              "  .colab-df-quickchart {\n",
              "      --bg-color: #E8F0FE;\n",
              "      --fill-color: #1967D2;\n",
              "      --hover-bg-color: #E2EBFA;\n",
              "      --hover-fill-color: #174EA6;\n",
              "      --disabled-fill-color: #AAA;\n",
              "      --disabled-bg-color: #DDD;\n",
              "  }\n",
              "\n",
              "  [theme=dark] .colab-df-quickchart {\n",
              "      --bg-color: #3B4455;\n",
              "      --fill-color: #D2E3FC;\n",
              "      --hover-bg-color: #434B5C;\n",
              "      --hover-fill-color: #FFFFFF;\n",
              "      --disabled-bg-color: #3B4455;\n",
              "      --disabled-fill-color: #666;\n",
              "  }\n",
              "\n",
              "  .colab-df-quickchart {\n",
              "    background-color: var(--bg-color);\n",
              "    border: none;\n",
              "    border-radius: 50%;\n",
              "    cursor: pointer;\n",
              "    display: none;\n",
              "    fill: var(--fill-color);\n",
              "    height: 32px;\n",
              "    padding: 0;\n",
              "    width: 32px;\n",
              "  }\n",
              "\n",
              "  .colab-df-quickchart:hover {\n",
              "    background-color: var(--hover-bg-color);\n",
              "    box-shadow: 0 1px 2px rgba(60, 64, 67, 0.3), 0 1px 3px 1px rgba(60, 64, 67, 0.15);\n",
              "    fill: var(--button-hover-fill-color);\n",
              "  }\n",
              "\n",
              "  .colab-df-quickchart-complete:disabled,\n",
              "  .colab-df-quickchart-complete:disabled:hover {\n",
              "    background-color: var(--disabled-bg-color);\n",
              "    fill: var(--disabled-fill-color);\n",
              "    box-shadow: none;\n",
              "  }\n",
              "\n",
              "  .colab-df-spinner {\n",
              "    border: 2px solid var(--fill-color);\n",
              "    border-color: transparent;\n",
              "    border-bottom-color: var(--fill-color);\n",
              "    animation:\n",
              "      spin 1s steps(1) infinite;\n",
              "  }\n",
              "\n",
              "  @keyframes spin {\n",
              "    0% {\n",
              "      border-color: transparent;\n",
              "      border-bottom-color: var(--fill-color);\n",
              "      border-left-color: var(--fill-color);\n",
              "    }\n",
              "    20% {\n",
              "      border-color: transparent;\n",
              "      border-left-color: var(--fill-color);\n",
              "      border-top-color: var(--fill-color);\n",
              "    }\n",
              "    30% {\n",
              "      border-color: transparent;\n",
              "      border-left-color: var(--fill-color);\n",
              "      border-top-color: var(--fill-color);\n",
              "      border-right-color: var(--fill-color);\n",
              "    }\n",
              "    40% {\n",
              "      border-color: transparent;\n",
              "      border-right-color: var(--fill-color);\n",
              "      border-top-color: var(--fill-color);\n",
              "    }\n",
              "    60% {\n",
              "      border-color: transparent;\n",
              "      border-right-color: var(--fill-color);\n",
              "    }\n",
              "    80% {\n",
              "      border-color: transparent;\n",
              "      border-right-color: var(--fill-color);\n",
              "      border-bottom-color: var(--fill-color);\n",
              "    }\n",
              "    90% {\n",
              "      border-color: transparent;\n",
              "      border-bottom-color: var(--fill-color);\n",
              "    }\n",
              "  }\n",
              "</style>\n",
              "\n",
              "  <script>\n",
              "    async function quickchart(key) {\n",
              "      const quickchartButtonEl =\n",
              "        document.querySelector('#' + key + ' button');\n",
              "      quickchartButtonEl.disabled = true;  // To prevent multiple clicks.\n",
              "      quickchartButtonEl.classList.add('colab-df-spinner');\n",
              "      try {\n",
              "        const charts = await google.colab.kernel.invokeFunction(\n",
              "            'suggestCharts', [key], {});\n",
              "      } catch (error) {\n",
              "        console.error('Error during call to suggestCharts:', error);\n",
              "      }\n",
              "      quickchartButtonEl.classList.remove('colab-df-spinner');\n",
              "      quickchartButtonEl.classList.add('colab-df-quickchart-complete');\n",
              "    }\n",
              "    (() => {\n",
              "      let quickchartButtonEl =\n",
              "        document.querySelector('#df-c8d882dc-fc11-4837-b001-1d212c824185 button');\n",
              "      quickchartButtonEl.style.display =\n",
              "        google.colab.kernel.accessAllowed ? 'block' : 'none';\n",
              "    })();\n",
              "  </script>\n",
              "</div>\n",
              "    </div>\n",
              "  </div>\n"
            ]
          },
          "metadata": {},
          "execution_count": 174
        }
      ]
    },
    {
      "cell_type": "code",
      "source": [
        "from sklearn.preprocessing import OneHotEncoder\n",
        "\n",
        "encoder = OneHotEncoder()\n",
        "encoder.fit(df_train[['coordinate_zone']])\n",
        "encoder.categories_[0]"
      ],
      "metadata": {
        "id": "h1gckFNUpy-d",
        "outputId": "b9fed1be-2130-44c4-e764-9ad7b78d76bb",
        "colab": {
          "base_uri": "https://localhost:8080/"
        }
      },
      "execution_count": 186,
      "outputs": [
        {
          "output_type": "execute_result",
          "data": {
            "text/plain": [
              "array(['0x0', '0x1', '0x2', '0x3', '0x4', '1x0', '1x1', '1x2', '1x3',\n",
              "       '1x4', '2x0', '2x1', '2x2', '2x3', '2x4', '2x5', '3x0', '3x1',\n",
              "       '3x2', '3x3', '3x4', '3x5', '4x0', '4x1', '4x2', '4x3', '4x4',\n",
              "       '4x5', '5x0', '5x1', '5x2', '5x3', '5x4', '5x5'], dtype=object)"
            ]
          },
          "metadata": {},
          "execution_count": 186
        }
      ]
    },
    {
      "cell_type": "code",
      "source": [
        "def do_feature_cross(df, one_hot_encoder, column):\n",
        "    transformation = one_hot_encoder.transform(df[[column]])\n",
        "    temp_df = pd.DataFrame(transformation.toarray())\n",
        "    print(f'After transformation {temp_df.isna().sum().sum()} nans')\n",
        "\n",
        "    print(f'Before join: {df.isna().sum().sum()} nans')\n",
        "    temp_df.set_index(df.index)\n",
        "    print(f'After join: {df.isna().sum().sum()} nans\\n')\n",
        "    return df.join(temp_df)\n",
        "\n",
        "\n",
        "df_train = do_feature_cross(df_train, encoder, 'coordinate_zone')\n",
        "df_val = do_feature_cross(df_val, encoder, 'coordinate_zone')\n",
        "df_test = do_feature_cross(df_test, encoder, 'coordinate_zone')\n",
        "df_submission = do_feature_cross(df_submission, encoder, 'coordinate_zone')"
      ],
      "metadata": {
        "id": "XouYhrX6zpvb",
        "outputId": "3f4e9056-32cc-445b-aa9b-41e1f025c6a7",
        "colab": {
          "base_uri": "https://localhost:8080/"
        }
      },
      "execution_count": 195,
      "outputs": [
        {
          "output_type": "stream",
          "name": "stdout",
          "text": [
            "After transformation 0 nans\n",
            "Before join: 14061 nans\n",
            "After join: 14061 nans\n",
            "After transformation 0 nans\n",
            "Before join: 12153 nans\n",
            "After join: 12153 nans\n",
            "After transformation 0 nans\n",
            "Before join: 41871 nans\n",
            "After join: 41871 nans\n"
          ]
        }
      ]
    },
    {
      "cell_type": "markdown",
      "source": [
        "# Data processing pipeline"
      ],
      "metadata": {
        "id": "dJnTMpYqjLW1"
      }
    },
    {
      "cell_type": "markdown",
      "source": [
        "# Save the data"
      ],
      "metadata": {
        "id": "3QAYOvCZgcXq"
      }
    },
    {
      "cell_type": "code",
      "source": [
        "manager.save_to_csv(\n",
        "    df_train,\n",
        "    manager.data_trial_path,\n",
        "    'train_processed.csv'\n",
        ")"
      ],
      "metadata": {
        "id": "VKhlAiabfn45"
      },
      "execution_count": null,
      "outputs": []
    },
    {
      "cell_type": "code",
      "source": [
        "manager.save_to_csv(\n",
        "    df_val,\n",
        "    manager.data_trial_path,\n",
        "    'val_processed.csv'\n",
        ")"
      ],
      "metadata": {
        "id": "Kdia9EKehC8h"
      },
      "execution_count": null,
      "outputs": []
    },
    {
      "cell_type": "code",
      "source": [
        "manager.save_to_csv(\n",
        "    df_test,\n",
        "    manager.data_trial_path,\n",
        "    'test_processed.csv'\n",
        ")"
      ],
      "metadata": {
        "id": "Hgut5tZzhO60"
      },
      "execution_count": null,
      "outputs": []
    },
    {
      "cell_type": "code",
      "source": [
        "manager.save_to_csv(\n",
        "    df_submission,\n",
        "    manager.data_trial_path,\n",
        "    'submission_processed.csv'\n",
        ")"
      ],
      "metadata": {
        "id": "MLniD4-EhTNu"
      },
      "execution_count": null,
      "outputs": []
    }
  ]
}