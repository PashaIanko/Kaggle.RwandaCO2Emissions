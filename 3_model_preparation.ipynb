{
  "nbformat": 4,
  "nbformat_minor": 0,
  "metadata": {
    "colab": {
      "provenance": [],
      "gpuType": "T4",
      "authorship_tag": "ABX9TyP+6gLa68FsKqiuSXGu3XfN",
      "include_colab_link": true
    },
    "kernelspec": {
      "name": "python3",
      "display_name": "Python 3"
    },
    "language_info": {
      "name": "python"
    },
    "accelerator": "GPU"
  },
  "cells": [
    {
      "cell_type": "markdown",
      "metadata": {
        "id": "view-in-github",
        "colab_type": "text"
      },
      "source": [
        "<a href=\"https://colab.research.google.com/github/PashaIanko/Kaggle.RwandaCO2Emissions/blob/main/3_model_preparation.ipynb\" target=\"_parent\"><img src=\"https://colab.research.google.com/assets/colab-badge.svg\" alt=\"Open In Colab\"/></a>"
      ]
    },
    {
      "cell_type": "code",
      "execution_count": 1,
      "metadata": {
        "id": "9iqnnsU09_nD"
      },
      "outputs": [],
      "source": [
        "from google.colab import drive\n",
        "# Datasets\n",
        "import pandas as pd\n",
        "# Numerics\n",
        "import numpy as np\n",
        "# Plotting\n",
        "import matplotlib.pyplot as plt\n",
        "# Preprocessing & pipelines\n",
        "from sklearn.pipeline import make_pipeline\n",
        "from sklearn.compose import ColumnTransformer\n",
        "from sklearn.impute import SimpleImputer\n",
        "from sklearn.preprocessing import StandardScaler\n",
        "# Data management\n",
        "from sklearn.model_selection import train_test_split\n",
        "# Other\n",
        "import os\n",
        "\n",
        "pd.set_option('display.max_columns', None)"
      ]
    },
    {
      "cell_type": "code",
      "source": [
        "%%capture\n",
        "GIT_DOWNLOAD_PATH = 'https://raw.githubusercontent.com/PashaIanko/Sklearn-Utils/main/'\n",
        "FILES_LIST = [\n",
        "    'path_manager.py',\n",
        "    'sklearn_transformers.py',\n",
        "    'sklearn_utils.py',\n",
        "    'model.py'\n",
        "]\n",
        "GDRIVE_PATH = '/content/gdrive/MyDrive/'\n",
        "PREPROC_TRIAL = 1\n",
        "MODELS_TRIAL = 1\n",
        "COMPETITION_PATH = GDRIVE_PATH + 'ML/Competitions/8.CO2Emissions/'\n",
        "# --------------------------------------------------\n",
        "try:\n",
        "    from nbpep8.nbpep8 import pep8\n",
        "except ModuleNotFoundError:\n",
        "    !pip install pycodestyle\n",
        "    !pip install --index-url https://test.pypi.org/simple/ nbpep8\n",
        "from nbpep8.nbpep8 import pep8\n",
        "# ---------------------------------------\n",
        "def download_files(url_dict):\n",
        "    for file, url in url_dict.items():\n",
        "        print(f'Downloading {file}')\n",
        "        !wget -O {file} {url} {file}\n",
        "url_dict = {file: GIT_DOWNLOAD_PATH + file for file in FILES_LIST}\n",
        "print('a')\n",
        "download_files(url_dict)\n",
        "# ---------------------------------------\n",
        "import importlib\n",
        "import path_manager\n",
        "import sklearn_utils\n",
        "import sklearn_transformers\n",
        "import model\n",
        "def reload_all(modules_list_):\n",
        "    for module in modules_list_:\n",
        "        importlib.reload(module)\n",
        "MODULES_LIST = [\n",
        "    path_manager,\n",
        "    sklearn_utils,\n",
        "    sklearn_transformers,\n",
        "    model\n",
        "]\n",
        "reload_all(MODULES_LIST)\n",
        "# ---------------------------------------\n",
        "from path_manager import PathManager\n",
        "from model import Model\n",
        "from sklearn_utils import nan_statistics\n",
        "from sklearn_utils import boxplot_regression\n",
        "from sklearn_utils import get_correlated_attributes\n",
        "from sklearn_utils import visualize_datasets_distributions\n",
        "from sklearn_transformers import ColumnDropper\n",
        "from sklearn_transformers import LogTransformer\n",
        "# ---------------------------------------\n",
        "from google.colab import drive\n",
        "drive.mount('/content/gdrive')\n",
        "manager = PathManager(\n",
        "    competition_path=COMPETITION_PATH,\n",
        "    preprocessing_trial=PREPROC_TRIAL,\n",
        "    models_trial=MODELS_TRIAL\n",
        ")\n",
        "manager.setup_paths()"
      ],
      "metadata": {
        "id": "PI9K7TTX-R4u"
      },
      "execution_count": 2,
      "outputs": []
    },
    {
      "cell_type": "markdown",
      "source": [
        "# Download the data"
      ],
      "metadata": {
        "id": "9A4bx0Cf-wKF"
      }
    },
    {
      "cell_type": "code",
      "source": [
        "df_train = pd.read_csv(f'{manager.data_trial_path}/train_processed.csv')\n",
        "df_val = pd.read_csv(f'{manager.data_trial_path}/val_processed.csv')\n",
        "df_test = pd.read_csv(f'{manager.data_trial_path}/test_processed.csv')\n",
        "df_submission = pd.read_csv(f'{manager.data_trial_path}/submission_processed.csv')"
      ],
      "metadata": {
        "id": "CGYA2SwZ-j-L"
      },
      "execution_count": 3,
      "outputs": []
    },
    {
      "cell_type": "markdown",
      "source": [
        "# Sample the subset"
      ],
      "metadata": {
        "id": "6ICjcKnC_TiZ"
      }
    },
    {
      "cell_type": "code",
      "source": [
        "SUBSET_SIZE = 0.05\n",
        "RANDOM_STATE = 42\n",
        "\n",
        "\n",
        "df_subset, _ = train_test_split(\n",
        "    df_train,\n",
        "    train_size=SUBSET_SIZE,\n",
        "    random_state=RANDOM_STATE\n",
        ")\n",
        "\n",
        "print(df_subset.shape)"
      ],
      "metadata": {
        "colab": {
          "base_uri": "https://localhost:8080/"
        },
        "id": "KJCwuZ_Q-2lY",
        "outputId": "c19442c6-ef20-4cba-9807-a9776ff90349"
      },
      "execution_count": 4,
      "outputs": [
        {
          "output_type": "stream",
          "name": "stdout",
          "text": [
            "(2531, 85)\n"
          ]
        }
      ]
    },
    {
      "cell_type": "markdown",
      "source": [
        "# Find the baseline model"
      ],
      "metadata": {
        "id": "rDfQbXxbBXtC"
      }
    },
    {
      "cell_type": "markdown",
      "source": [
        "## Random forest regressor"
      ],
      "metadata": {
        "id": "9SSZVOHoERdh"
      }
    },
    {
      "cell_type": "code",
      "source": [
        "from sklearn.ensemble import RandomForestRegressor\n",
        "from sklearn.model_selection import GridSearchCV\n",
        "\n",
        "\n",
        "grid = {\n",
        "    'n_estimators': [300]\n",
        "}\n",
        "\n",
        "res = GridSearchCV(\n",
        "    RandomForestRegressor(),\n",
        "    grid,\n",
        "    scoring='neg_mean_squared_error',\n",
        "    n_jobs=-1,\n",
        "    refit=True,\n",
        "    cv=3,\n",
        "    verbose=4,\n",
        "    return_train_score=True\n",
        ")"
      ],
      "metadata": {
        "id": "Mdmp02IZBQ0N"
      },
      "execution_count": 5,
      "outputs": []
    },
    {
      "cell_type": "code",
      "source": [
        "cv_results = res.fit(\n",
        "    X=df_subset.iloc[:, :-1].values,\n",
        "    y=df_subset['target']\n",
        ")"
      ],
      "metadata": {
        "colab": {
          "base_uri": "https://localhost:8080/"
        },
        "id": "QsZCpA8fB9ti",
        "outputId": "1e6e1fff-3bed-40a6-fab9-cb29d799f391"
      },
      "execution_count": 12,
      "outputs": [
        {
          "output_type": "stream",
          "name": "stdout",
          "text": [
            "Fitting 3 folds for each of 1 candidates, totalling 3 fits\n"
          ]
        }
      ]
    },
    {
      "cell_type": "code",
      "source": [
        "cv_results.cv_results_"
      ],
      "metadata": {
        "colab": {
          "base_uri": "https://localhost:8080/"
        },
        "id": "i_9Rz_mwEmcA",
        "outputId": "ee8880b5-7d21-4052-c660-df122b9455c4"
      },
      "execution_count": 15,
      "outputs": [
        {
          "output_type": "execute_result",
          "data": {
            "text/plain": [
              "{'mean_fit_time': array([33.1655151]),\n",
              " 'std_fit_time': array([2.11504644]),\n",
              " 'mean_score_time': array([0.07895931]),\n",
              " 'std_score_time': array([0.00652069]),\n",
              " 'param_n_estimators': masked_array(data=[300],\n",
              "              mask=[False],\n",
              "        fill_value='?',\n",
              "             dtype=object),\n",
              " 'params': [{'n_estimators': 300}],\n",
              " 'split0_test_score': array([-1512.79940571]),\n",
              " 'split1_test_score': array([-1661.62874604]),\n",
              " 'split2_test_score': array([-1666.09800466]),\n",
              " 'mean_test_score': array([-1613.5087188]),\n",
              " 'std_test_score': array([71.23560849]),\n",
              " 'rank_test_score': array([1], dtype=int32),\n",
              " 'split0_train_score': array([-232.02623107]),\n",
              " 'split1_train_score': array([-235.47486798]),\n",
              " 'split2_train_score': array([-222.52059878]),\n",
              " 'mean_train_score': array([-230.00723261]),\n",
              " 'std_train_score': array([5.4778669])}"
            ]
          },
          "metadata": {},
          "execution_count": 15
        }
      ]
    },
    {
      "cell_type": "code",
      "source": [
        "from sklearn.metrics import mean_squared_error\n",
        "\n",
        "mean_squared_error(\n",
        "    res.predict(\n",
        "        df_subset.iloc[:, :-1]\n",
        "    ),\n",
        "    df_subset['target']\n",
        ")"
      ],
      "metadata": {
        "colab": {
          "base_uri": "https://localhost:8080/"
        },
        "id": "lEPyBWbQDlW0",
        "outputId": "bde88bde-61cd-46a8-a653-cb2699ff7630"
      },
      "execution_count": 9,
      "outputs": [
        {
          "output_type": "stream",
          "name": "stderr",
          "text": [
            "/usr/local/lib/python3.10/dist-packages/sklearn/base.py:432: UserWarning: X has feature names, but RandomForestRegressor was fitted without feature names\n",
            "  warnings.warn(\n"
          ]
        },
        {
          "output_type": "execute_result",
          "data": {
            "text/plain": [
              "176.7344697906446"
            ]
          },
          "metadata": {},
          "execution_count": 9
        }
      ]
    },
    {
      "cell_type": "code",
      "source": [
        "mean_squared_error(\n",
        "    res.predict(\n",
        "        df_val.iloc[:1500, :-1]\n",
        "    ),\n",
        "    df_val['target'][:1500]\n",
        ")"
      ],
      "metadata": {
        "colab": {
          "base_uri": "https://localhost:8080/"
        },
        "id": "6hPk5pgTD67O",
        "outputId": "3dd9d7b4-c44d-4d67-bc4b-25b806b8789b"
      },
      "execution_count": 11,
      "outputs": [
        {
          "output_type": "stream",
          "name": "stderr",
          "text": [
            "/usr/local/lib/python3.10/dist-packages/sklearn/base.py:432: UserWarning: X has feature names, but RandomForestRegressor was fitted without feature names\n",
            "  warnings.warn(\n"
          ]
        },
        {
          "output_type": "execute_result",
          "data": {
            "text/plain": [
              "1435.2928295346253"
            ]
          },
          "metadata": {},
          "execution_count": 11
        }
      ]
    },
    {
      "cell_type": "markdown",
      "source": [
        "## K Neighbors regressor"
      ],
      "metadata": {
        "id": "56ofVtOcEUrP"
      }
    },
    {
      "cell_type": "code",
      "source": [
        "from sklearn.neighbors import KNeighborsRegressor\n",
        "from sklearn.model_selection import GridSearchCV\n",
        "\n",
        "\n",
        "knn_esimator = GridSearchCV"
      ],
      "metadata": {
        "colab": {
          "base_uri": "https://localhost:8080/",
          "height": 333
        },
        "id": "9JZuWNJ0EbAD",
        "outputId": "e9d88f44-bfbf-4684-8100-f1b40a2f44a3"
      },
      "execution_count": 13,
      "outputs": [
        {
          "output_type": "error",
          "ename": "ImportError",
          "evalue": "ignored",
          "traceback": [
            "\u001b[0;31m---------------------------------------------------------------------------\u001b[0m",
            "\u001b[0;31mImportError\u001b[0m                               Traceback (most recent call last)",
            "\u001b[0;32m<ipython-input-13-35aa48f0a721>\u001b[0m in \u001b[0;36m<cell line: 1>\u001b[0;34m()\u001b[0m\n\u001b[0;32m----> 1\u001b[0;31m \u001b[0;32mfrom\u001b[0m \u001b[0msklearn\u001b[0m\u001b[0;34m.\u001b[0m\u001b[0mneighbors\u001b[0m \u001b[0;32mimport\u001b[0m \u001b[0mKneighborsRegressor\u001b[0m\u001b[0;34m\u001b[0m\u001b[0;34m\u001b[0m\u001b[0m\n\u001b[0m",
            "\u001b[0;31mImportError\u001b[0m: cannot import name 'KneighborsRegressor' from 'sklearn.neighbors' (/usr/local/lib/python3.10/dist-packages/sklearn/neighbors/__init__.py)",
            "",
            "\u001b[0;31m---------------------------------------------------------------------------\u001b[0;32m\nNOTE: If your import is failing due to a missing package, you can\nmanually install dependencies using either !pip or !apt.\n\nTo view examples of installing some common dependencies, click the\n\"Open Examples\" button below.\n\u001b[0;31m---------------------------------------------------------------------------\u001b[0m\n"
          ],
          "errorDetails": {
            "actions": [
              {
                "action": "open_url",
                "actionText": "Open Examples",
                "url": "/notebooks/snippets/importing_libraries.ipynb"
              }
            ]
          }
        }
      ]
    }
  ]
}